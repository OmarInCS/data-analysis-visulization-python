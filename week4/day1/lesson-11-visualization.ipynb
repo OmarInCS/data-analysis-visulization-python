{
 "cells": [
  {
   "cell_type": "markdown",
   "metadata": {},
   "source": [
    "# Plotting and Visualization\n",
    "\n",
    "### Objectives:\n",
    "- Choosing the chart type\n",
    "- Figures and Subplots\n",
    "- Adjusting the spacing around subplots\n",
    "- Colors, Markers, and Line Styles\n",
    "- Ticks, Labels, and Legends\n"
   ]
  },
  {
   "cell_type": "code",
   "execution_count": 4,
   "metadata": {},
   "outputs": [],
   "source": [
    "import numpy as np\n",
    "import pandas as pd\n",
    "import matplotlib.pyplot as plt\n",
    "import seaborn as sns"
   ]
  },
  {
   "cell_type": "markdown",
   "metadata": {},
   "source": [
    "## Guide for choosing chart type\n",
    "\n",
    "https://www.data-to-viz.com/#scatter\n",
    "\n",
    "![](assets/chart-selection-diagram.png)"
   ]
  },
  {
   "cell_type": "markdown",
   "metadata": {},
   "source": [
    "## Bar Chart"
   ]
  },
  {
   "cell_type": "code",
   "execution_count": null,
   "metadata": {},
   "outputs": [],
   "source": [
    "# read bar chart data\n"
   ]
  },
  {
   "cell_type": "code",
   "execution_count": null,
   "metadata": {},
   "outputs": [],
   "source": [
    "# set the figure size\n",
    "\n",
    "# create bar chart\n",
    "\n",
    "# set font-size and rotation  of xticks\n",
    "\n",
    "# set font-size of yticks\n",
    "\n",
    "# set chart title\n",
    "\n",
    "# set yaxis label and font-size\n",
    "\n",
    "# show the chart\n",
    "\n"
   ]
  },
  {
   "cell_type": "markdown",
   "metadata": {},
   "source": [
    "### MAKE SURE YOUR CHART ISN’T MISLEADING\n",
    "\n",
    "<img src=\"assets/bad-bars.png\" width=\"300\"> <img src=\"assets/good-bars.png\" width=\"300\">"
   ]
  },
  {
   "cell_type": "markdown",
   "metadata": {},
   "source": [
    "## Pie Chart\n",
    "   - APPROPRIATE FOR NON-TECHNICAL AUDIENCES\n",
    "   - A FEW CATEGORIES\n",
    "   - DATA SUMS UP TO 100%\n",
    "   - DON’T USE WHEN THERE ARE TOO MANY CATEGORIES\n",
    "   - NO 3D OR DOUGHNUT"
   ]
  },
  {
   "cell_type": "code",
   "execution_count": 10,
   "metadata": {},
   "outputs": [],
   "source": [
    "# read pie chart data\n"
   ]
  },
  {
   "cell_type": "code",
   "execution_count": 9,
   "metadata": {},
   "outputs": [],
   "source": [
    "# set the figure size\n",
    "\n",
    "# create pie chart and show percentages\n",
    "\n",
    "\n",
    "# show legends\n",
    "\n",
    "# set chart title\n",
    "\n",
    "# show the chart\n",
    "\n"
   ]
  },
  {
   "cell_type": "markdown",
   "metadata": {},
   "source": [
    "### Line Chart\n",
    "   - UP TO SEVERAL CATEGORIES\n",
    "   - TIME SERIES DATA\n",
    "   - Y-AXIS DOESN’T HAVE TO START AT 0\n",
    "   - BE CAREFUL NOT TO INCLUDE TOO MANY CATEGORIES, TO AVOID A SPAGHETTI CHART"
   ]
  },
  {
   "cell_type": "code",
   "execution_count": null,
   "metadata": {},
   "outputs": [],
   "source": [
    "# read line chart data\n"
   ]
  },
  {
   "cell_type": "code",
   "execution_count": null,
   "metadata": {},
   "outputs": [],
   "source": [
    "# convert Date column to datetime datatype\n",
    "\n",
    "# get data in the interval '2008-07-01' to '2008-12-31'\n"
   ]
  },
  {
   "cell_type": "code",
   "execution_count": null,
   "metadata": {},
   "outputs": [],
   "source": [
    "# set the figure size\n",
    "\n",
    "# add trace for GSPC500\n",
    "\n",
    "# add trace for FTSE100\n",
    "\n",
    "# set chart title and axis labels\n",
    "\n",
    "# set legends\n",
    "\n",
    "# show chart\n",
    "\n"
   ]
  },
  {
   "cell_type": "markdown",
   "metadata": {},
   "source": [
    "## Histogram\n",
    "   - START WITH A VERY LARGE NUMBER TO OBSERVE THE DATA PATTERN\n",
    "   - REDUCE THE NUMBER\n",
    "   - CHOOSE SEVERAL BINS, SUCH THAT THE PATTERN IN THE DATA IS VISIBLE"
   ]
  },
  {
   "cell_type": "code",
   "execution_count": 11,
   "metadata": {},
   "outputs": [],
   "source": [
    "# read histogram data\n"
   ]
  },
  {
   "cell_type": "code",
   "execution_count": null,
   "metadata": {},
   "outputs": [],
   "source": [
    "# set the figure size\n",
    "\n",
    "# create histogram of prices\n",
    "\n",
    "# set title and labels\n",
    "\n",
    "# remove top and right borders\n",
    "\n",
    "# show the chart\n"
   ]
  },
  {
   "cell_type": "markdown",
   "metadata": {},
   "source": [
    "## Scatter Plot\n",
    "   - DISPLAYS EACH POINT FROM THE DATA, INSTEAD OF SHOWING AGGREGATED FORM\n",
    "   - SHOWS RELATIONSHIP BETWEEN VARIABLES\n",
    "   - A THIRD VARIABLE COULD BE USED WITH A COLOR PARAMETER"
   ]
  },
  {
   "cell_type": "code",
   "execution_count": null,
   "metadata": {},
   "outputs": [],
   "source": [
    "# read scatter data\n"
   ]
  },
  {
   "cell_type": "code",
   "execution_count": null,
   "metadata": {},
   "outputs": [],
   "source": [
    "# set figure size\n",
    "\n",
    "# create scatter plot btw Area and Price of each building type\n",
    "\n",
    "# add legends\n",
    "\n",
    "# set title and labels\n",
    "\n",
    "# show chart\n"
   ]
  },
  {
   "cell_type": "markdown",
   "metadata": {},
   "source": [
    "## SubPlots"
   ]
  },
  {
   "cell_type": "code",
   "execution_count": 12,
   "metadata": {},
   "outputs": [],
   "source": [
    "# read the tips.csv file\n"
   ]
  },
  {
   "cell_type": "code",
   "execution_count": 13,
   "metadata": {},
   "outputs": [],
   "source": [
    "# draw a line chart of the tip column's comulative sum\n"
   ]
  },
  {
   "cell_type": "code",
   "execution_count": 14,
   "metadata": {},
   "outputs": [],
   "source": [
    "# group the tips by day and draw a bar chart showing tips of each day\n"
   ]
  },
  {
   "cell_type": "code",
   "execution_count": 15,
   "metadata": {},
   "outputs": [],
   "source": [
    "# with the same groups draw a horizontal bar chart, try to change height and color\n"
   ]
  },
  {
   "cell_type": "code",
   "execution_count": 16,
   "metadata": {},
   "outputs": [],
   "source": [
    "# create 2 * 2 subplot then add the earlier charts to each in a subplot\n"
   ]
  },
  {
   "cell_type": "code",
   "execution_count": 17,
   "metadata": {},
   "outputs": [],
   "source": [
    "# do the same, using the axises\n"
   ]
  },
  {
   "cell_type": "code",
   "execution_count": 18,
   "metadata": {},
   "outputs": [],
   "source": [
    "# do the same, but add all subplots at once, then customize line type, title and spaces\n"
   ]
  },
  {
   "cell_type": "code",
   "execution_count": null,
   "metadata": {},
   "outputs": [],
   "source": []
  },
  {
   "cell_type": "markdown",
   "metadata": {},
   "source": [
    "## Independent Practice\n",
    "- explore the data from 'tips.csv'\n",
    "- state some questions and draw charts to answer them"
   ]
  },
  {
   "cell_type": "code",
   "execution_count": null,
   "metadata": {},
   "outputs": [],
   "source": []
  }
 ],
 "metadata": {
  "kernelspec": {
   "display_name": "Python 3 (ipykernel)",
   "language": "python",
   "name": "python3"
  },
  "language_info": {
   "codemirror_mode": {
    "name": "ipython",
    "version": 3
   },
   "file_extension": ".py",
   "mimetype": "text/x-python",
   "name": "python",
   "nbconvert_exporter": "python",
   "pygments_lexer": "ipython3",
   "version": "3.9.7"
  }
 },
 "nbformat": 4,
 "nbformat_minor": 4
}
