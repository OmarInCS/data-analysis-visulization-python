{
 "cells": [
  {
   "cell_type": "markdown",
   "id": "0e80f07a",
   "metadata": {},
   "source": [
    "# Data Analysis Course\n",
    "## using Python"
   ]
  },
  {
   "cell_type": "code",
   "execution_count": 1,
   "id": "f9e79b3c",
   "metadata": {},
   "outputs": [
    {
     "name": "stdout",
     "output_type": "stream",
     "text": [
      "Welcome to Python\n"
     ]
    }
   ],
   "source": [
    "print(\"Welcome to Python\")"
   ]
  },
  {
   "cell_type": "markdown",
   "id": "bdaff09d",
   "metadata": {},
   "source": [
    "[Our Website](https://www.abadnet.com.sa)"
   ]
  },
  {
   "cell_type": "markdown",
   "id": "0d1694cb",
   "metadata": {},
   "source": [
    "![Logo](https://cdn.dribbble.com/users/10882/screenshots/15172621/media/cd2246d5d0f54f9a4316bd4d276764b2.png?compress=1&resize=400x300)"
   ]
  },
  {
   "cell_type": "markdown",
   "id": "cde24e84",
   "metadata": {},
   "source": [
    "### Topics:\n",
    "   - Python Revision\n",
    "   - Data **Cleaning**\n",
    "   - Data *Visualization*\n",
    "   - Models\n",
    "   \n",
    "> This is a quote\n",
    "> \n",
    "> more text"
   ]
  },
  {
   "cell_type": "code",
   "execution_count": null,
   "id": "3bc89972",
   "metadata": {},
   "outputs": [],
   "source": []
  }
 ],
 "metadata": {
  "kernelspec": {
   "display_name": "Python 3",
   "language": "python",
   "name": "python3"
  },
  "language_info": {
   "codemirror_mode": {
    "name": "ipython",
    "version": 3
   },
   "file_extension": ".py",
   "mimetype": "text/x-python",
   "name": "python",
   "nbconvert_exporter": "python",
   "pygments_lexer": "ipython3",
   "version": "3.8.5"
  }
 },
 "nbformat": 4,
 "nbformat_minor": 5
}
