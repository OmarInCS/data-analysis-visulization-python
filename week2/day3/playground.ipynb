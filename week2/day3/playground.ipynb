{
 "cells": [
  {
   "cell_type": "code",
   "execution_count": 2,
   "metadata": {},
   "outputs": [],
   "source": [
    "import time\n",
    "import pandas as pd\n",
    "import numpy as np"
   ]
  },
  {
   "cell_type": "code",
   "execution_count": 3,
   "metadata": {},
   "outputs": [
    {
     "data": {
      "text/html": [
       "<div>\n",
       "<style scoped>\n",
       "    .dataframe tbody tr th:only-of-type {\n",
       "        vertical-align: middle;\n",
       "    }\n",
       "\n",
       "    .dataframe tbody tr th {\n",
       "        vertical-align: top;\n",
       "    }\n",
       "\n",
       "    .dataframe thead th {\n",
       "        text-align: right;\n",
       "    }\n",
       "</style>\n",
       "<table border=\"1\" class=\"dataframe\">\n",
       "  <thead>\n",
       "    <tr style=\"text-align: right;\">\n",
       "      <th></th>\n",
       "      <th>Unnamed: 0</th>\n",
       "      <th>Start Time</th>\n",
       "      <th>End Time</th>\n",
       "      <th>Trip Duration</th>\n",
       "      <th>Start Station</th>\n",
       "      <th>End Station</th>\n",
       "      <th>User Type</th>\n",
       "      <th>Gender</th>\n",
       "      <th>Birth Year</th>\n",
       "    </tr>\n",
       "  </thead>\n",
       "  <tbody>\n",
       "    <tr>\n",
       "      <th>0</th>\n",
       "      <td>1423854</td>\n",
       "      <td>2017-06-23 15:09:32</td>\n",
       "      <td>2017-06-23 15:14:53</td>\n",
       "      <td>321</td>\n",
       "      <td>Wood St &amp; Hubbard St</td>\n",
       "      <td>Damen Ave &amp; Chicago Ave</td>\n",
       "      <td>Subscriber</td>\n",
       "      <td>Male</td>\n",
       "      <td>1992.0</td>\n",
       "    </tr>\n",
       "    <tr>\n",
       "      <th>1</th>\n",
       "      <td>955915</td>\n",
       "      <td>2017-05-25 18:19:03</td>\n",
       "      <td>2017-05-25 18:45:53</td>\n",
       "      <td>1610</td>\n",
       "      <td>Theater on the Lake</td>\n",
       "      <td>Sheffield Ave &amp; Waveland Ave</td>\n",
       "      <td>Subscriber</td>\n",
       "      <td>Female</td>\n",
       "      <td>1992.0</td>\n",
       "    </tr>\n",
       "    <tr>\n",
       "      <th>2</th>\n",
       "      <td>9031</td>\n",
       "      <td>2017-01-04 08:27:49</td>\n",
       "      <td>2017-01-04 08:34:45</td>\n",
       "      <td>416</td>\n",
       "      <td>May St &amp; Taylor St</td>\n",
       "      <td>Wood St &amp; Taylor St</td>\n",
       "      <td>Subscriber</td>\n",
       "      <td>Male</td>\n",
       "      <td>1981.0</td>\n",
       "    </tr>\n",
       "    <tr>\n",
       "      <th>3</th>\n",
       "      <td>304487</td>\n",
       "      <td>2017-03-06 13:49:38</td>\n",
       "      <td>2017-03-06 13:55:28</td>\n",
       "      <td>350</td>\n",
       "      <td>Christiana Ave &amp; Lawrence Ave</td>\n",
       "      <td>St. Louis Ave &amp; Balmoral Ave</td>\n",
       "      <td>Subscriber</td>\n",
       "      <td>Male</td>\n",
       "      <td>1986.0</td>\n",
       "    </tr>\n",
       "    <tr>\n",
       "      <th>4</th>\n",
       "      <td>45207</td>\n",
       "      <td>2017-01-17 14:53:07</td>\n",
       "      <td>2017-01-17 15:02:01</td>\n",
       "      <td>534</td>\n",
       "      <td>Clark St &amp; Randolph St</td>\n",
       "      <td>Desplaines St &amp; Jackson Blvd</td>\n",
       "      <td>Subscriber</td>\n",
       "      <td>Male</td>\n",
       "      <td>1975.0</td>\n",
       "    </tr>\n",
       "  </tbody>\n",
       "</table>\n",
       "</div>"
      ],
      "text/plain": [
       "   Unnamed: 0           Start Time             End Time  Trip Duration  \\\n",
       "0     1423854  2017-06-23 15:09:32  2017-06-23 15:14:53            321   \n",
       "1      955915  2017-05-25 18:19:03  2017-05-25 18:45:53           1610   \n",
       "2        9031  2017-01-04 08:27:49  2017-01-04 08:34:45            416   \n",
       "3      304487  2017-03-06 13:49:38  2017-03-06 13:55:28            350   \n",
       "4       45207  2017-01-17 14:53:07  2017-01-17 15:02:01            534   \n",
       "\n",
       "                   Start Station                   End Station   User Type  \\\n",
       "0           Wood St & Hubbard St       Damen Ave & Chicago Ave  Subscriber   \n",
       "1            Theater on the Lake  Sheffield Ave & Waveland Ave  Subscriber   \n",
       "2             May St & Taylor St           Wood St & Taylor St  Subscriber   \n",
       "3  Christiana Ave & Lawrence Ave  St. Louis Ave & Balmoral Ave  Subscriber   \n",
       "4         Clark St & Randolph St  Desplaines St & Jackson Blvd  Subscriber   \n",
       "\n",
       "   Gender  Birth Year  \n",
       "0    Male      1992.0  \n",
       "1  Female      1992.0  \n",
       "2    Male      1981.0  \n",
       "3    Male      1986.0  \n",
       "4    Male      1975.0  "
      ]
     },
     "execution_count": 3,
     "metadata": {},
     "output_type": "execute_result"
    }
   ],
   "source": [
    "df = pd.read_csv(\"chicago.csv\")\n",
    "df.head()"
   ]
  },
  {
   "cell_type": "code",
   "execution_count": 4,
   "metadata": {},
   "outputs": [
    {
     "data": {
      "text/plain": [
       "Unnamed: 0                int64\n",
       "Start Time       datetime64[ns]\n",
       "End Time                 object\n",
       "Trip Duration             int64\n",
       "Start Station            object\n",
       "End Station              object\n",
       "User Type                object\n",
       "Gender                   object\n",
       "Birth Year              float64\n",
       "dtype: object"
      ]
     },
     "execution_count": 4,
     "metadata": {},
     "output_type": "execute_result"
    }
   ],
   "source": [
    "df[\"Start Time\"] = pd.to_datetime(df[\"Start Time\"])\n",
    "df.dtypes"
   ]
  },
  {
   "cell_type": "code",
   "execution_count": 16,
   "metadata": {},
   "outputs": [
    {
     "data": {
      "text/html": [
       "<div>\n",
       "<style scoped>\n",
       "    .dataframe tbody tr th:only-of-type {\n",
       "        vertical-align: middle;\n",
       "    }\n",
       "\n",
       "    .dataframe tbody tr th {\n",
       "        vertical-align: top;\n",
       "    }\n",
       "\n",
       "    .dataframe thead th {\n",
       "        text-align: right;\n",
       "    }\n",
       "</style>\n",
       "<table border=\"1\" class=\"dataframe\">\n",
       "  <thead>\n",
       "    <tr style=\"text-align: right;\">\n",
       "      <th></th>\n",
       "      <th>Unnamed: 0</th>\n",
       "      <th>Start Time</th>\n",
       "      <th>End Time</th>\n",
       "      <th>Trip Duration</th>\n",
       "      <th>Start Station</th>\n",
       "      <th>End Station</th>\n",
       "      <th>User Type</th>\n",
       "      <th>Gender</th>\n",
       "      <th>Birth Year</th>\n",
       "    </tr>\n",
       "  </thead>\n",
       "  <tbody>\n",
       "    <tr>\n",
       "      <th>0</th>\n",
       "      <td>1423854</td>\n",
       "      <td>2017-06-23 15:09:32</td>\n",
       "      <td>2017-06-23 15:14:53</td>\n",
       "      <td>321</td>\n",
       "      <td>Wood St &amp; Hubbard St</td>\n",
       "      <td>Damen Ave &amp; Chicago Ave</td>\n",
       "      <td>Subscriber</td>\n",
       "      <td>Male</td>\n",
       "      <td>1992.0</td>\n",
       "    </tr>\n",
       "    <tr>\n",
       "      <th>5</th>\n",
       "      <td>1473887</td>\n",
       "      <td>2017-06-26 09:01:20</td>\n",
       "      <td>2017-06-26 09:11:06</td>\n",
       "      <td>586</td>\n",
       "      <td>Clinton St &amp; Washington Blvd</td>\n",
       "      <td>Canal St &amp; Taylor St</td>\n",
       "      <td>Subscriber</td>\n",
       "      <td>Male</td>\n",
       "      <td>1990.0</td>\n",
       "    </tr>\n",
       "    <tr>\n",
       "      <th>18</th>\n",
       "      <td>1469705</td>\n",
       "      <td>2017-06-25 21:26:30</td>\n",
       "      <td>2017-06-25 21:33:44</td>\n",
       "      <td>434</td>\n",
       "      <td>State St &amp; Pearson St</td>\n",
       "      <td>Clark St &amp; Schiller St</td>\n",
       "      <td>Subscriber</td>\n",
       "      <td>Male</td>\n",
       "      <td>1987.0</td>\n",
       "    </tr>\n",
       "    <tr>\n",
       "      <th>21</th>\n",
       "      <td>1420915</td>\n",
       "      <td>2017-06-23 12:21:01</td>\n",
       "      <td>2017-06-23 12:32:54</td>\n",
       "      <td>713</td>\n",
       "      <td>Rush St &amp; Cedar St</td>\n",
       "      <td>Halsted St &amp; Willow St</td>\n",
       "      <td>Subscriber</td>\n",
       "      <td>Male</td>\n",
       "      <td>1985.0</td>\n",
       "    </tr>\n",
       "    <tr>\n",
       "      <th>23</th>\n",
       "      <td>1413814</td>\n",
       "      <td>2017-06-22 19:14:37</td>\n",
       "      <td>2017-06-22 19:29:54</td>\n",
       "      <td>917</td>\n",
       "      <td>Bissell St &amp; Armitage Ave</td>\n",
       "      <td>Orleans St &amp; Chestnut St (NEXT Apts)</td>\n",
       "      <td>Subscriber</td>\n",
       "      <td>Female</td>\n",
       "      <td>1989.0</td>\n",
       "    </tr>\n",
       "    <tr>\n",
       "      <th>...</th>\n",
       "      <td>...</td>\n",
       "      <td>...</td>\n",
       "      <td>...</td>\n",
       "      <td>...</td>\n",
       "      <td>...</td>\n",
       "      <td>...</td>\n",
       "      <td>...</td>\n",
       "      <td>...</td>\n",
       "      <td>...</td>\n",
       "    </tr>\n",
       "    <tr>\n",
       "      <th>299978</th>\n",
       "      <td>1242195</td>\n",
       "      <td>2017-06-12 08:35:11</td>\n",
       "      <td>2017-06-12 08:44:20</td>\n",
       "      <td>549</td>\n",
       "      <td>St. Clair St &amp; Erie St</td>\n",
       "      <td>Michigan Ave &amp; Lake St</td>\n",
       "      <td>Subscriber</td>\n",
       "      <td>Female</td>\n",
       "      <td>1971.0</td>\n",
       "    </tr>\n",
       "    <tr>\n",
       "      <th>299981</th>\n",
       "      <td>1212375</td>\n",
       "      <td>2017-06-10 14:52:58</td>\n",
       "      <td>2017-06-10 15:29:52</td>\n",
       "      <td>2214</td>\n",
       "      <td>Franklin St &amp; Jackson Blvd</td>\n",
       "      <td>Lake Shore Dr &amp; North Blvd</td>\n",
       "      <td>Customer</td>\n",
       "      <td>NaN</td>\n",
       "      <td>NaN</td>\n",
       "    </tr>\n",
       "    <tr>\n",
       "      <th>299986</th>\n",
       "      <td>1464340</td>\n",
       "      <td>2017-06-25 16:17:53</td>\n",
       "      <td>2017-06-25 16:51:21</td>\n",
       "      <td>2008</td>\n",
       "      <td>Shedd Aquarium</td>\n",
       "      <td>LaSalle St &amp; Washington St</td>\n",
       "      <td>Customer</td>\n",
       "      <td>NaN</td>\n",
       "      <td>NaN</td>\n",
       "    </tr>\n",
       "    <tr>\n",
       "      <th>299990</th>\n",
       "      <td>1444489</td>\n",
       "      <td>2017-06-24 15:28:12</td>\n",
       "      <td>2017-06-24 16:08:11</td>\n",
       "      <td>2399</td>\n",
       "      <td>Rush St &amp; Cedar St</td>\n",
       "      <td>Pine Grove Ave &amp; Waveland Ave</td>\n",
       "      <td>Subscriber</td>\n",
       "      <td>Male</td>\n",
       "      <td>1989.0</td>\n",
       "    </tr>\n",
       "    <tr>\n",
       "      <th>299992</th>\n",
       "      <td>1327248</td>\n",
       "      <td>2017-06-17 16:44:16</td>\n",
       "      <td>2017-06-17 16:50:57</td>\n",
       "      <td>401</td>\n",
       "      <td>Sheffield Ave &amp; Willow St</td>\n",
       "      <td>Halsted St &amp; Dickens Ave</td>\n",
       "      <td>Subscriber</td>\n",
       "      <td>Male</td>\n",
       "      <td>1955.0</td>\n",
       "    </tr>\n",
       "  </tbody>\n",
       "</table>\n",
       "<p>98081 rows × 9 columns</p>\n",
       "</div>"
      ],
      "text/plain": [
       "        Unnamed: 0          Start Time             End Time  Trip Duration  \\\n",
       "0          1423854 2017-06-23 15:09:32  2017-06-23 15:14:53            321   \n",
       "5          1473887 2017-06-26 09:01:20  2017-06-26 09:11:06            586   \n",
       "18         1469705 2017-06-25 21:26:30  2017-06-25 21:33:44            434   \n",
       "21         1420915 2017-06-23 12:21:01  2017-06-23 12:32:54            713   \n",
       "23         1413814 2017-06-22 19:14:37  2017-06-22 19:29:54            917   \n",
       "...            ...                 ...                  ...            ...   \n",
       "299978     1242195 2017-06-12 08:35:11  2017-06-12 08:44:20            549   \n",
       "299981     1212375 2017-06-10 14:52:58  2017-06-10 15:29:52           2214   \n",
       "299986     1464340 2017-06-25 16:17:53  2017-06-25 16:51:21           2008   \n",
       "299990     1444489 2017-06-24 15:28:12  2017-06-24 16:08:11           2399   \n",
       "299992     1327248 2017-06-17 16:44:16  2017-06-17 16:50:57            401   \n",
       "\n",
       "                       Start Station                           End Station  \\\n",
       "0               Wood St & Hubbard St               Damen Ave & Chicago Ave   \n",
       "5       Clinton St & Washington Blvd                  Canal St & Taylor St   \n",
       "18             State St & Pearson St                Clark St & Schiller St   \n",
       "21                Rush St & Cedar St                Halsted St & Willow St   \n",
       "23         Bissell St & Armitage Ave  Orleans St & Chestnut St (NEXT Apts)   \n",
       "...                              ...                                   ...   \n",
       "299978        St. Clair St & Erie St                Michigan Ave & Lake St   \n",
       "299981    Franklin St & Jackson Blvd            Lake Shore Dr & North Blvd   \n",
       "299986                Shedd Aquarium            LaSalle St & Washington St   \n",
       "299990            Rush St & Cedar St         Pine Grove Ave & Waveland Ave   \n",
       "299992     Sheffield Ave & Willow St              Halsted St & Dickens Ave   \n",
       "\n",
       "         User Type  Gender  Birth Year  \n",
       "0       Subscriber    Male      1992.0  \n",
       "5       Subscriber    Male      1990.0  \n",
       "18      Subscriber    Male      1987.0  \n",
       "21      Subscriber    Male      1985.0  \n",
       "23      Subscriber  Female      1989.0  \n",
       "...            ...     ...         ...  \n",
       "299978  Subscriber  Female      1971.0  \n",
       "299981    Customer     NaN         NaN  \n",
       "299986    Customer     NaN         NaN  \n",
       "299990  Subscriber    Male      1989.0  \n",
       "299992  Subscriber    Male      1955.0  \n",
       "\n",
       "[98081 rows x 9 columns]"
      ]
     },
     "execution_count": 16,
     "metadata": {},
     "output_type": "execute_result"
    }
   ],
   "source": [
    "df[df[\"Start Time\"].dt.month == 6]"
   ]
  },
  {
   "cell_type": "code",
   "execution_count": 19,
   "metadata": {},
   "outputs": [
    {
     "data": {
      "text/plain": [
       "False"
      ]
     },
     "execution_count": 19,
     "metadata": {},
     "output_type": "execute_result"
    }
   ],
   "source": [
    "df[\"Start Time\"].dt.month.mode().empty"
   ]
  },
  {
   "cell_type": "code",
   "execution_count": 17,
   "metadata": {},
   "outputs": [
    {
     "data": {
      "text/plain": [
       "0    6\n",
       "dtype: int64"
      ]
     },
     "execution_count": 17,
     "metadata": {},
     "output_type": "execute_result"
    }
   ],
   "source": [
    "df.loc[df[\"Start Time\"].dt.month == 6, \"Start Time\"].dt.month.mode()"
   ]
  },
  {
   "cell_type": "code",
   "execution_count": 31,
   "metadata": {},
   "outputs": [],
   "source": [
    "s, e = df[[\"Start Station\", \"End Station\"]].mode().values[0]"
   ]
  },
  {
   "cell_type": "code",
   "execution_count": 37,
   "metadata": {},
   "outputs": [],
   "source": [
    "s, e = df[[\"Start Station\", \"End Station\"]].mode().values[0]"
   ]
  },
  {
   "cell_type": "code",
   "execution_count": 38,
   "metadata": {},
   "outputs": [
    {
     "data": {
      "text/plain": [
       "'Streeter Dr & Grand Ave'"
      ]
     },
     "execution_count": 38,
     "metadata": {},
     "output_type": "execute_result"
    }
   ],
   "source": [
    "s\n"
   ]
  },
  {
   "cell_type": "code",
   "execution_count": 42,
   "metadata": {},
   "outputs": [
    {
     "data": {
      "text/plain": [
       "0    from Lake Shore Dr & Monroe St to Streeter Dr ...\n",
       "dtype: object"
      ]
     },
     "execution_count": 42,
     "metadata": {},
     "output_type": "execute_result"
    }
   ],
   "source": [
    "(\"from \" + df[\"Start Station\"] + \" to \" + df[\"End Station\"]).mode()"
   ]
  },
  {
   "cell_type": "code",
   "execution_count": 45,
   "metadata": {},
   "outputs": [
    {
     "data": {
      "text/plain": [
       "Subscriber    238889\n",
       "Customer       61110\n",
       "Dependent          1\n",
       "Name: User Type, dtype: int64"
      ]
     },
     "execution_count": 45,
     "metadata": {},
     "output_type": "execute_result"
    }
   ],
   "source": []
  },
  {
   "cell_type": "code",
   "execution_count": 47,
   "metadata": {},
   "outputs": [
    {
     "name": "stdout",
     "output_type": "stream",
     "text": [
      "('Subscriber', 238889)\n",
      "('Customer', 61110)\n",
      "('Dependent', 1)\n"
     ]
    }
   ],
   "source": [
    "for cus_type in zip(df[\"User Type\"].value_counts().index, df[\"User Type\"].value_counts()):\n",
    "    print(cus_type)"
   ]
  },
  {
   "cell_type": "code",
   "execution_count": null,
   "metadata": {},
   "outputs": [],
   "source": []
  }
 ],
 "metadata": {
  "kernelspec": {
   "display_name": "Python 3",
   "language": "python",
   "name": "python3"
  },
  "language_info": {
   "codemirror_mode": {
    "name": "ipython",
    "version": 3
   },
   "file_extension": ".py",
   "mimetype": "text/x-python",
   "name": "python",
   "nbconvert_exporter": "python",
   "pygments_lexer": "ipython3",
   "version": "3.8.5"
  }
 },
 "nbformat": 4,
 "nbformat_minor": 4
}
