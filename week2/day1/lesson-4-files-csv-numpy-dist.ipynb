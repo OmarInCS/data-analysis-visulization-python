{
 "cells": [
  {
   "cell_type": "markdown",
   "metadata": {},
   "source": [
    "<img src=\"http://imgur.com/1ZcRyrc.png\" style=\"float: left; margin: 20px; height: 55px\">\n",
    "\n",
    "# Intro to Python: Files, CSV Library, numpy, and distributions\n",
    "Week 1 | Day 4\n",
    "\n",
    "---\n",
    "\n",
    "### LEARNING OBJECTIVES\n",
    "\n",
    "- Intro to files & csv library\n",
    "- Understand the measures of Central Tendency (mean, median, and mode)\n",
    "- Understand how mean, median and mode are affected by skewness in data\n",
    "- Understand measures of variability (variance and standard deviation)"
   ]
  },
  {
   "cell_type": "code",
   "execution_count": 1,
   "metadata": {},
   "outputs": [],
   "source": [
    "import numpy as np\n"
   ]
  },
  {
   "cell_type": "markdown",
   "metadata": {},
   "source": [
    "# Demo: csv module (10 mins)\n",
    "Let's take a look at the Python csv module. The csv module’s reader and writer objects read and write sequences. We'll be using a small Sales data set to practice. Let's read a csv file first"
   ]
  },
  {
   "cell_type": "code",
   "execution_count": 18,
   "metadata": {
    "collapsed": false,
    "jupyter": {
     "outputs_hidden": false
    }
   },
   "outputs": [
    {
     "name": "stdout",
     "output_type": "stream",
     "text": [
      "['Account', 'Name', 'Rep', 'Manager', 'Product', 'Quantity', 'Price', 'Status']\n",
      "['714466', 'Trantow-Barrows', 'Craig Booker', 'Debra Henley', 'CPU', '1', '30000', 'presented']\n",
      "['714466', 'Trantow-Barrows', 'Craig Booker', 'Debra Henley', 'Software', '1', '10000', 'presented']\n",
      "['714466', 'Trantow-Barrows', 'Craig Booker', 'Debra Henley', 'Maintenance', '2', '5000', 'pending']\n",
      "['737550', 'Fritsch, Russel and Anderson', 'Craig Booker', 'Debra Henley', 'CPU', '1', '35000', 'declined']\n",
      "['146832', 'Kiehn-Spinka', 'Daniel Hilton', 'Debra Henley', 'CPU', '2', '65000', 'won']\n",
      "['218895', 'Kulas Inc', 'Daniel Hilton', 'Debra Henley', 'CPU', '2', '40000', 'pending']\n",
      "['218895', 'Kulas Inc', 'Daniel Hilton', 'Debra Henley', 'Software', '1', '10000', 'presented']\n",
      "['412290', 'Jerde-Hilpert', 'John Smith', 'Debra Henley', 'Maintenance', '2', '5000', 'pending']\n",
      "['740150', 'Barton LLC', 'John Smith', 'Debra Henley', 'CPU', '1', '35000', 'declined']\n",
      "['141962', 'Herman LLC', 'Cedric Moss', 'Fred Anderson', 'CPU', '2', '65000', 'won']\n",
      "['163416', 'Purdy-Kunde', 'Cedric Moss', 'Fred Anderson', 'CPU', '1', '30000', 'presented']\n",
      "['239344', 'Stokes LLC', 'Cedric Moss', 'Fred Anderson', 'Maintenance', '1', '5000', 'pending']\n",
      "['239344', 'Stokes LLC', 'Cedric Moss', 'Fred Anderson', 'Software', '1', '10000', 'presented']\n",
      "['307599', 'Kassulke, Ondricka and Metz', 'Wendy Yule', 'Fred Anderson', 'Maintenance', '3', '7000', 'won']\n",
      "['688981', 'Keeling LLC', 'Wendy Yule', 'Fred Anderson', 'CPU', '5', '100000', 'won']\n",
      "['729833', 'Koepp Ltd', 'Wendy Yule', 'Fred Anderson', 'CPU', '2', '65000', 'declined']\n",
      "['729833', 'Koepp Ltd', 'Wendy Yule', 'Fred Anderson', 'Monitor', '2', '5000', 'presented']\n"
     ]
    }
   ],
   "source": [
    "# file = open(\"sales.csv\", \"r\")\n",
    "\n",
    "# file.close()\n",
    "import csv\n",
    "\n",
    "with open(\"sales.csv\", \"r\") as file:\n",
    "    reader = csv.reader(file)\n",
    "    for row in reader:\n",
    "        print(row)\n",
    "    \n",
    "#     for row in file:\n",
    "#         print(row)\n",
    "    "
   ]
  },
  {
   "cell_type": "markdown",
   "metadata": {},
   "source": [
    "The output will be the contents of sales.csv file. <br>\n",
    "Now, let's write to a csv file."
   ]
  },
  {
   "cell_type": "code",
   "execution_count": 19,
   "metadata": {
    "collapsed": false,
    "jupyter": {
     "outputs_hidden": false
    }
   },
   "outputs": [],
   "source": [
    "data = ['123456', 'cosmos', 'neil', 'lucy', 'universe', '1', '1,000,000', 'presented']\n",
    "\n",
    "with open(\"sales.csv\", \"a\") as file:\n",
    "    writer = csv.writer(file, delimiter=\",\")\n",
    "    writer.writerow(data)\n",
    "\n"
   ]
  },
  {
   "cell_type": "markdown",
   "metadata": {},
   "source": [
    "Now, let's see the file again, with the data you just added:"
   ]
  },
  {
   "cell_type": "code",
   "execution_count": 21,
   "metadata": {},
   "outputs": [
    {
     "name": "stdout",
     "output_type": "stream",
     "text": [
      "['Account', 'Name', 'Rep', 'Manager', 'Product', 'Quantity', 'Price', 'Status']\n",
      "['714466', 'Trantow-Barrows', 'Craig Booker', 'Debra Henley', 'CPU', '1', '30000', 'presented']\n",
      "['714466', 'Trantow-Barrows', 'Craig Booker', 'Debra Henley', 'Software', '1', '10000', 'presented']\n",
      "['714466', 'Trantow-Barrows', 'Craig Booker', 'Debra Henley', 'Maintenance', '2', '5000', 'pending']\n",
      "['737550', 'Fritsch, Russel and Anderson', 'Craig Booker', 'Debra Henley', 'CPU', '1', '35000', 'declined']\n",
      "['146832', 'Kiehn-Spinka', 'Daniel Hilton', 'Debra Henley', 'CPU', '2', '65000', 'won']\n",
      "['218895', 'Kulas Inc', 'Daniel Hilton', 'Debra Henley', 'CPU', '2', '40000', 'pending']\n",
      "['218895', 'Kulas Inc', 'Daniel Hilton', 'Debra Henley', 'Software', '1', '10000', 'presented']\n",
      "['412290', 'Jerde-Hilpert', 'John Smith', 'Debra Henley', 'Maintenance', '2', '5000', 'pending']\n",
      "['740150', 'Barton LLC', 'John Smith', 'Debra Henley', 'CPU', '1', '35000', 'declined']\n",
      "['141962', 'Herman LLC', 'Cedric Moss', 'Fred Anderson', 'CPU', '2', '65000', 'won']\n",
      "['163416', 'Purdy-Kunde', 'Cedric Moss', 'Fred Anderson', 'CPU', '1', '30000', 'presented']\n",
      "['239344', 'Stokes LLC', 'Cedric Moss', 'Fred Anderson', 'Maintenance', '1', '5000', 'pending']\n",
      "['239344', 'Stokes LLC', 'Cedric Moss', 'Fred Anderson', 'Software', '1', '10000', 'presented']\n",
      "['307599', 'Kassulke, Ondricka and Metz', 'Wendy Yule', 'Fred Anderson', 'Maintenance', '3', '7000', 'won']\n",
      "['688981', 'Keeling LLC', 'Wendy Yule', 'Fred Anderson', 'CPU', '5', '100000', 'won']\n",
      "['729833', 'Koepp Ltd', 'Wendy Yule', 'Fred Anderson', 'CPU', '2', '65000', 'declined']\n",
      "['729833', 'Koepp Ltd', 'Wendy Yule', 'Fred Anderson', 'Monitor', '2', '5000', 'presented']\n",
      "['123456', 'cosmos', 'neil', 'lucy', 'universe', '1', '1,000,000', 'presented']\n",
      "[]\n"
     ]
    }
   ],
   "source": [
    "with open(\"sales.csv\", \"r\") as file:\n",
    "    reader = csv.reader(file)\n",
    "    for row in reader:\n",
    "        print(row)"
   ]
  },
  {
   "cell_type": "markdown",
   "metadata": {},
   "source": [
    "# Introduction: Stats review (5 mins)\n",
    "There are two main fields of statistics: **descriptive** and **inferential**.\n",
    "\n",
    "Right now, we're going to focus on descriptive statistics: describing, summarizing, and understanding data.\n",
    "\n",
    "Our focus today is on the Measures of **Central Tendency Measures** of Central Tendency provide descriptive information about the single numerical value that is considered to be the most typical of the values of a quantitative variable.\n",
    "\n",
    "That may sound complicated, but you're probably already familiar with some measures of central tendency: the **mean**, **median**, and **mode**.\n",
    "\n",
    "We'll also discuss **skewness**, which is the lack of symmetry in a distribution data that affects the mean, median, and mode.\n",
    "\n",
    "Lastly we'll take a look at measures of variability, namely the **range**, **variance**, and **standard deviation**.\n",
    "\n",
    "NumPy has functions to calculate all of these, but before we let NumPy do the work, it's important to understand the fundamental concepts.\n",
    "\n"
   ]
  },
  {
   "cell_type": "markdown",
   "metadata": {},
   "source": [
    "# Guided Practice: Mean, median, and mode (20 mins)\n",
    "The mean is the sum of the numbers divided by the length of the list.\n",
    "\n",
    "**Check**: Find the **mean** of this list using python:\n",
    "\n"
   ]
  },
  {
   "cell_type": "code",
   "execution_count": 23,
   "metadata": {},
   "outputs": [
    {
     "name": "stdout",
     "output_type": "stream",
     "text": [
      "3.0\n",
      "3.0\n"
     ]
    }
   ],
   "source": [
    "n = [1,2,3,4,5]\n",
    "\n",
    "print(sum(n) / len(n))\n",
    "print(np.mean(n))"
   ]
  },
  {
   "cell_type": "markdown",
   "metadata": {},
   "source": [
    "---\n",
    "#### Median\n",
    "- For odd-length lists: the median is the middle number of the ordered list.\n",
    "- For even-length lists: the median is the average of the two middle numbers of the ordered list.\n",
    "\n",
    "**Check**: Find the **median** of each list using python:\n"
   ]
  },
  {
   "cell_type": "code",
   "execution_count": 32,
   "metadata": {},
   "outputs": [
    {
     "name": "stdout",
     "output_type": "stream",
     "text": [
      "7.0\n",
      "1.5\n"
     ]
    }
   ],
   "source": [
    "n_odd = [1,5,9,2,8,3,10,15,7]\n",
    "n_even = [8,2,3,1,0,-1,-5,20]\n",
    "\n",
    "# n_odd.sort()\n",
    "# print(n_odd[int(len(n_odd) / 2)])\n",
    "# n_odd\n",
    "\n",
    "n_even.sort()\n",
    "print((n_even[int(len(n_even) / 2)] + n_even[int(len(n_even) / 2 - 1)]) / 2)\n",
    "n_even\n",
    "\n",
    "print(np.median(n_odd))\n",
    "print(np.median(n_even))"
   ]
  },
  {
   "cell_type": "markdown",
   "metadata": {},
   "source": [
    "---\n",
    "#### Mode\n",
    "The mode is the most frequently occurring number.\n",
    "\n",
    "Finding the **mode** is not as trivial as the mean or median, so here it is calculated using `scipy.stats.mode()`.\n",
    "\n",
    "**Note**: doing this without `scipy.stats.mode()` is a challenge problem in the independent practice section.\n",
    "\n"
   ]
  },
  {
   "cell_type": "code",
   "execution_count": 41,
   "metadata": {},
   "outputs": [
    {
     "name": "stdout",
     "output_type": "stream",
     "text": [
      "ModeResult(mode=array([2]), count=array([4]))\n",
      "mode: 2\n"
     ]
    }
   ],
   "source": [
    "from scipy.stats import mode\n",
    "\n",
    "n = [0,1,1,2,2,2,2,3,3,4,4,4,5,5,5,5]\n",
    "\n",
    "# mode() returns an object with the array of mode(s) and the count(s):\n",
    "mod = mode(n)\n",
    "print(mod)\n",
    "print(\"mode:\", mod.mode[0])"
   ]
  },
  {
   "cell_type": "markdown",
   "metadata": {},
   "source": [
    "# Guided Practice: Skewness (20 mins)\n",
    "**Skewness** is lack of symmetry in a distribution of data.\n",
    "\n",
    "![Skewness](skewness.png)\n",
    "\n",
    "A **positive-skewed** distribution means the right side tail of the distribution is longer or fatter than the left.\n",
    "\n",
    "Likewise a **negative-skewed** distribution means the left side tail is longer or fatter than the right.\n",
    "\n",
    "Symmetric distributions have no skewness!\n",
    "\n",
    "---\n",
    "**Skewness and measures of central tendency**\n",
    "\n",
    "The mean, median, and mode are affected by skewness.\n",
    "\n",
    "When a distribution is symmetrical, the mean, median, and mode are the same number.\n",
    "\n",
    "When a distribution is negatively skewed, the mean is less than the median, which is less than the mode.\n",
    "\n",
    "**Negative skew: mean < median < mode**\n",
    "\n",
    "When a distribution is positively skewed, the mean is greater than the median, which is greater than the mode!\n",
    "\n",
    "**Positive skew: mode < median < mean**\n",
    "\n",
    "This way of thinking can help you, especially if you can't see a line graph of the data. All you need are the mean and the median. Nice!\n",
    "\n",
    "1. If the mean < median, the data are skewed left.\n",
    "2. If the mean > median, the data are skewed right.\n",
    "\n",
    "**Check**: Using this information, does the list of numbers form a symmetric distribution? Is it skewed left of right?"
   ]
  },
  {
   "cell_type": "code",
   "execution_count": 42,
   "metadata": {},
   "outputs": [],
   "source": [
    "n = [11, 12, 13, 14, 15, 16, 17, 18, 19, 20, 21, 22, 23, 24, 25, 18, 19, 20, 21, 22, 23, 24,\n",
    "     22, 11, 12, 13, 14, 15, 16, 17, 18, 19, 20, 21, 22, 23, 24, 25, 18, 19, 20, 21, 22, 23,\n",
    "     24, 20, 21, 22, 23, 24, 22, 16, 17, 18, 19, 20, 21, 22, 23, 24, 0, 1, 2, 3, 4, 5, 6, 7,\n",
    "     8, 9, 10, 11, 12, 13, 14, 15, 16, 17, 18, 19, 20, 21, 22, 23, 24, 25, 26, 27, 0, 1, 2,\n",
    "     3, 4, 5, 6, 7, 8, 9, 10, 11, 12, 13, 14, 15, 16, 17, 18, 19, 20, 21, 22, 23, 24, 25, 26, 27]\n",
    "\n",
    "\n"
   ]
  },
  {
   "cell_type": "code",
   "execution_count": 43,
   "metadata": {},
   "outputs": [
    {
     "name": "stdout",
     "output_type": "stream",
     "text": [
      "16.586206896551722\n",
      "18.0\n",
      "22\n"
     ]
    }
   ],
   "source": [
    "print(np.mean(n))\n",
    "print(np.median(n))\n",
    "print(mode(n).mode[0])\n",
    "\n",
    "# left/negative skewed"
   ]
  },
  {
   "cell_type": "markdown",
   "metadata": {},
   "source": [
    "# Guided Practice: Range, Variance and Standard Deviation (20 mins)\n",
    "\n",
    "Measures of variability like the **range**, **variance**, and **standard deviation** tell you about the spread of your data.\n",
    "\n",
    "These measurements give complementary (and no less important!) information to the measures of central tendency (mean, median, mode).\n",
    "\n"
   ]
  },
  {
   "cell_type": "markdown",
   "metadata": {},
   "source": [
    "---\n",
    "#### Range\n",
    "\n",
    "The **range** is the difference between the lowest and highest values of a distribution.\n",
    "\n",
    "Calculate the range of the list of numbers below."
   ]
  },
  {
   "cell_type": "code",
   "execution_count": 44,
   "metadata": {},
   "outputs": [
    {
     "data": {
      "text/plain": [
       "354"
      ]
     },
     "execution_count": 44,
     "metadata": {},
     "output_type": "execute_result"
    }
   ],
   "source": [
    "n = [3, 75, 98, 2, 10, 3, 14, 99, 44, 25, 31, 100, 356, 4, 23, 55, 327, 64, 6, 20]\n",
    "\n"
   ]
  },
  {
   "cell_type": "code",
   "execution_count": 45,
   "metadata": {},
   "outputs": [
    {
     "data": {
      "text/plain": [
       "354"
      ]
     },
     "execution_count": 45,
     "metadata": {},
     "output_type": "execute_result"
    }
   ],
   "source": [
    "# Range code here\n",
    "max(n) - min(n)"
   ]
  },
  {
   "cell_type": "markdown",
   "metadata": {},
   "source": [
    "---\n",
    "#### Variance\n",
    "\n",
    "The **variance** is a numeric value used to describe how widely the numbers distribution vary.\n",
    "\n",
    "![Variance](variance.png)\n",
    "\n",
    "Calculate the variance of the list as well."
   ]
  },
  {
   "cell_type": "code",
   "execution_count": 46,
   "metadata": {},
   "outputs": [
    {
     "data": {
      "text/plain": [
       "9414.647500000003"
      ]
     },
     "execution_count": 46,
     "metadata": {},
     "output_type": "execute_result"
    }
   ],
   "source": [
    "# Variance code here\n",
    "\n",
    "np.var(n)"
   ]
  },
  {
   "cell_type": "code",
   "execution_count": 49,
   "metadata": {},
   "outputs": [
    {
     "data": {
      "text/plain": [
       "13.555555555555552"
      ]
     },
     "execution_count": 49,
     "metadata": {},
     "output_type": "execute_result"
    }
   ],
   "source": [
    "marks = [13, 17, 19, 20, 23, 24]\n",
    "np.var(marks)"
   ]
  },
  {
   "cell_type": "markdown",
   "metadata": {},
   "source": [
    "Which is **the average of the sum of the squared distances of each number from the mean of the numbers.**\n",
    "\n",
    "![Distribution with Variance](dist_with_variance.png)"
   ]
  },
  {
   "cell_type": "markdown",
   "metadata": {},
   "source": [
    "**Check**: What could a distribution with a large variance look like? A small?\n",
    "\n",
    "**Check**: What does a variance of 0 mean?\n",
    "\n",
    "Using numpy the variance is simply:\n",
    "\n"
   ]
  },
  {
   "cell_type": "code",
   "execution_count": 6,
   "metadata": {},
   "outputs": [],
   "source": [
    "\n",
    "\n"
   ]
  },
  {
   "cell_type": "markdown",
   "metadata": {},
   "source": [
    "#### Standard deviation\n",
    "The **standard deviation** is the square root of the variance.\n",
    "\n",
    "Because the variance is the average of the distances from the mean squared, the standard deviation tells us approximately, on average, the distance of numbers in a distribution from the mean.\n",
    "\n",
    "The standard deviation can be calculated with:"
   ]
  },
  {
   "cell_type": "code",
   "execution_count": 51,
   "metadata": {},
   "outputs": [
    {
     "name": "stdout",
     "output_type": "stream",
     "text": [
      "97.02910645780473\n",
      "3.6817870057290865\n"
     ]
    }
   ],
   "source": [
    "# Standard deviation code here\n",
    "\n",
    "print(np.std(n))\n",
    "print(np.std(marks))"
   ]
  },
  {
   "cell_type": "markdown",
   "metadata": {},
   "source": [
    "![Dist, variance and Standard Deviation](dist_with_var_std.png)"
   ]
  },
  {
   "cell_type": "code",
   "execution_count": null,
   "metadata": {},
   "outputs": [],
   "source": []
  },
  {
   "cell_type": "code",
   "execution_count": null,
   "metadata": {},
   "outputs": [],
   "source": []
  }
 ],
 "metadata": {
  "kernelspec": {
   "display_name": "Python 3",
   "language": "python",
   "name": "python3"
  },
  "language_info": {
   "codemirror_mode": {
    "name": "ipython",
    "version": 3
   },
   "file_extension": ".py",
   "mimetype": "text/x-python",
   "name": "python",
   "nbconvert_exporter": "python",
   "pygments_lexer": "ipython3",
   "version": "3.8.5"
  }
 },
 "nbformat": 4,
 "nbformat_minor": 4
}
