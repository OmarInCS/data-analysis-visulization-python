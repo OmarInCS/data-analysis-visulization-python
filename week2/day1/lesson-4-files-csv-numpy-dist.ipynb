{
 "cells": [
  {
   "cell_type": "markdown",
   "metadata": {},
   "source": [
    "<img src=\"http://imgur.com/1ZcRyrc.png\" style=\"float: left; margin: 20px; height: 55px\">\n",
    "\n",
    "# Intro to Python: Files, CSV Library, numpy, and distributions\n",
    "Week 2 | Day 1\n",
    "\n",
    "---\n",
    "\n",
    "### LEARNING OBJECTIVES\n",
    "\n",
    "- Understand the measures of Central Tendency (mean, median, and mode)\n",
    "- Understand how mean, median and mode are affected by skewness in data\n",
    "- Understand measures of variability (variance and standard deviation)\n",
    "- Intro to files & csv library\n",
    "- Read a csv file using pandas\n",
    "- Viewing data: head, columns, values, describe\n",
    "- Selection: a single column, slicing by row, by position\n",
    "- Perform boolean indexing on dataframes\n",
    "\n"
   ]
  },
  {
   "cell_type": "markdown",
   "metadata": {},
   "source": [
    "# Introduction: Stats review (5 mins)\n",
    "There are two main fields of statistics: **descriptive** and **inferential**.\n",
    "\n",
    "Right now, we're going to focus on descriptive statistics: describing, summarizing, and understanding data.\n",
    "\n",
    "Our focus today is on the Measures of **Central Tendency Measures** of Central Tendency provide descriptive information about the single numerical value that is considered to be the most typical of the values of a quantitative variable.\n",
    "\n",
    "That may sound complicated, but you're probably already familiar with some measures of central tendency: the **mean**, **median**, and **mode**.\n",
    "\n",
    "We'll also discuss **skewness**, which is the lack of symmetry in a distribution data that affects the mean, median, and mode.\n",
    "\n",
    "Lastly we'll take a look at measures of variability, namely the **range**, **variance**, and **standard deviation**.\n",
    "\n",
    "NumPy has functions to calculate all of these, but before we let NumPy do the work, it's important to understand the fundamental concepts.\n",
    "\n"
   ]
  },
  {
   "cell_type": "markdown",
   "metadata": {},
   "source": [
    "# Guided Practice: Mean, median, and mode (20 mins)\n",
    "The mean is the sum of the numbers divided by the length of the list.\n",
    "\n",
    "**Check**: Find the **mean** of this list using python:\n",
    "\n"
   ]
  },
  {
   "cell_type": "code",
   "execution_count": 2,
   "metadata": {},
   "outputs": [],
   "source": [
    "n = [1,2,3,4,5]\n",
    "\n"
   ]
  },
  {
   "cell_type": "markdown",
   "metadata": {},
   "source": [
    "---\n",
    "#### Median\n",
    "- For odd-length lists: the median is the middle number of the ordered list.\n",
    "- For even-length lists: the median is the average of the two middle numbers of the ordered list.\n",
    "\n",
    "**Check**: Find the **median** of each list using python:\n"
   ]
  },
  {
   "cell_type": "code",
   "execution_count": 3,
   "metadata": {},
   "outputs": [],
   "source": [
    "n_odd = [1,5,9,2,8,3,10,15,7]\n",
    "n_even = [8,2,3,1,0,-1,-5,20]\n"
   ]
  },
  {
   "cell_type": "markdown",
   "metadata": {},
   "source": [
    "---\n",
    "#### Mode\n",
    "The mode is the most frequently occurring number.\n",
    "\n",
    "Finding the **mode** is not as trivial as the mean or median, so here it is calculated using `scipy.stats.mode()`.\n",
    "\n",
    "**Note**: doing this without `scipy.stats.mode()` is a challenge problem in the independent practice section.\n",
    "\n"
   ]
  },
  {
   "cell_type": "code",
   "execution_count": 1,
   "metadata": {},
   "outputs": [],
   "source": [
    "\n",
    "n = [0,1,1,1,2,2,2,2,3,3,4,4,4,5,5,5,5]\n"
   ]
  },
  {
   "cell_type": "code",
   "execution_count": 37,
   "metadata": {},
   "outputs": [],
   "source": [
    "# calculate mean and median\n",
    "A = [10,10,50,90,90]\n",
    "B = [40,40,50,60,60]\n",
    "\n"
   ]
  },
  {
   "cell_type": "markdown",
   "metadata": {},
   "source": [
    "# Guided Practice: Skewness (20 mins)\n",
    "**Skewness** is lack of symmetry in a distribution of data.\n",
    "\n",
    "![Skewness](images/skewness.png)\n",
    "\n",
    "A **positive-skewed** distribution means the right side tail of the distribution is longer or fatter than the left.\n",
    "\n",
    "Likewise a **negative-skewed** distribution means the left side tail is longer or fatter than the right.\n",
    "\n",
    "Symmetric distributions have no skewness!\n",
    "\n",
    "---\n",
    "**Skewness and measures of central tendency**\n",
    "\n",
    "The mean, median, and mode are affected by skewness.\n",
    "\n",
    "When a distribution is symmetrical, the mean, median, and mode are the same number.\n",
    "\n",
    "When a distribution is negatively skewed, the mean is less than the median, which is less than the mode.\n",
    "\n",
    "**Negative skew: mean < median < mode**\n",
    "\n",
    "When a distribution is positively skewed, the mean is greater than the median, which is greater than the mode!\n",
    "\n",
    "**Positive skew: mode < median < mean**\n",
    "\n",
    "This way of thinking can help you, especially if you can't see a line graph of the data. All you need are the mean and the median. Nice!\n",
    "\n",
    "1. If the mean < median, the data are skewed left.\n",
    "2. If the mean > median, the data are skewed right.\n",
    "\n",
    "**Check**: Using this information, does the list of numbers form a symmetric distribution? Is it skewed left of right?"
   ]
  },
  {
   "cell_type": "code",
   "execution_count": 4,
   "metadata": {},
   "outputs": [],
   "source": [
    "n = [11, 12, 13, 14, 15, 16, 17, 18, 19, 20, 21, 22, 23, 24, 25, 18, 19, 20, 21, 22, 23, 24,\n",
    "     22, 11, 12, 13, 14, 15, 16, 17, 18, 19, 20, 21, 22, 23, 24, 25, 18, 19, 20, 21, 22, 23,\n",
    "     24, 20, 21, 22, 23, 24, 22, 16, 17, 18, 19, 20, 21, 22, 23, 24, 0, 1, 2, 3, 4, 5, 6, 7,\n",
    "     8, 9, 10, 11, 12, 13, 14, 15, 16, 17, 18, 19, 20, 21, 22, 23, 24, 25, 26, 27, 0, 1, 2,\n",
    "     3, 4, 5, 6, 7, 8, 9, 10, 11, 12, 13, 14, 15, 16, 17, 18, 19, 20, 21, 22, 23, 24, 25, 26, 27]\n",
    "\n",
    "\n"
   ]
  },
  {
   "cell_type": "code",
   "execution_count": null,
   "metadata": {},
   "outputs": [],
   "source": []
  },
  {
   "cell_type": "markdown",
   "metadata": {},
   "source": [
    "# Guided Practice: Range, Variance and Standard Deviation (20 mins)\n",
    "\n",
    "Measures of variability like the **range**, **variance**, and **standard deviation** tell you about the spread of your data.\n",
    "\n",
    "These measurements give complementary (and no less important!) information to the measures of central tendency (mean, median, mode).\n",
    "\n"
   ]
  },
  {
   "cell_type": "markdown",
   "metadata": {},
   "source": [
    "---\n",
    "#### Range\n",
    "\n",
    "The **range** is the difference between the lowest and highest values of a distribution.\n",
    "\n",
    "Calculate the range of the list of numbers below."
   ]
  },
  {
   "cell_type": "code",
   "execution_count": 5,
   "metadata": {},
   "outputs": [],
   "source": [
    "n = [3, 75, 98, 2, 10, 3, 14, 99, 44, 25, 31, 100, 356, 4, 23, 55, 327, 64, 6, 20]\n"
   ]
  },
  {
   "cell_type": "code",
   "execution_count": 6,
   "metadata": {},
   "outputs": [],
   "source": [
    "# Range code here\n"
   ]
  },
  {
   "cell_type": "markdown",
   "metadata": {},
   "source": [
    "---\n",
    "#### Variance\n",
    "\n",
    "The **variance** is a numeric value used to describe how widely the numbers distribution vary.\n",
    "\n",
    "![Variance](images/variance.png)\n",
    "\n",
    "Calculate the variance of the list as well."
   ]
  },
  {
   "cell_type": "code",
   "execution_count": 7,
   "metadata": {},
   "outputs": [],
   "source": [
    "marks = [13, 17, 19, 20, 23, 24]\n"
   ]
  },
  {
   "cell_type": "code",
   "execution_count": 9,
   "metadata": {},
   "outputs": [],
   "source": [
    "# Variance code here\n",
    "\n"
   ]
  },
  {
   "cell_type": "markdown",
   "metadata": {},
   "source": [
    "Which is **the average of the sum of the squared distances of each number from the mean of the numbers.**\n",
    "\n",
    "![Distribution with Variance](images/dist_with_variance.png)"
   ]
  },
  {
   "cell_type": "markdown",
   "metadata": {},
   "source": [
    "**Check**: What could a distribution with a large variance look like? A small?\n",
    "\n",
    "**Check**: What does a variance of 0 mean?\n",
    "\n",
    "\n"
   ]
  },
  {
   "cell_type": "markdown",
   "metadata": {},
   "source": [
    "#### Standard deviation\n",
    "The **standard deviation** is the square root of the variance.\n",
    "\n",
    "Because the variance is the average of the distances from the mean squared, the standard deviation tells us approximately, on average, the distance of numbers in a distribution from the mean.\n",
    "\n",
    "The standard deviation can be calculated with:"
   ]
  },
  {
   "cell_type": "code",
   "execution_count": 8,
   "metadata": {},
   "outputs": [],
   "source": [
    "# Standard deviation code here\n"
   ]
  },
  {
   "cell_type": "markdown",
   "metadata": {},
   "source": [
    "![Dist, variance and Standard Deviation](images/dist_with_var_std.png)"
   ]
  },
  {
   "cell_type": "code",
   "execution_count": null,
   "metadata": {},
   "outputs": [],
   "source": []
  },
  {
   "cell_type": "code",
   "execution_count": null,
   "metadata": {},
   "outputs": [],
   "source": []
  },
  {
   "cell_type": "markdown",
   "metadata": {},
   "source": [
    "<a name=\"Series and DataFrame data types\"></a>\n",
    "## Introduction: Series and DataFrame data types (10 mins)\n",
    "\n",
    "- Series is a one-dimensional labeled array capable of holding any data type (integers, strings,\n",
    "floating point numbers, Python objects, etc.). The axis labels are collectively referred to as\n",
    "the index. The basic method to create a Series is to call:\n",
    "\n",
    "```Python\n",
    "s = pd.Series(data, index=index)\n",
    "```\n",
    "\n",
    "- Here, data can be many different things:\n",
    "    - a Python dict\n",
    "    - an ndarray\n",
    "    - a scalar value (like 5)\n",
    "\n",
    "- The passed index is a list of axis labels.\n",
    "\n",
    "\n",
    "\n",
    "- DataFrame is a 2-dimensional labeled data structure with columns of potentially\n",
    "different types. You can think of it like a spreadsheet or SQL table, or a dict\n",
    "of Series objects. It is generally the most commonly used pandas object.\n",
    "\n",
    "- Like Series, DataFrame accepts many different kinds of input:\n",
    "    - Dict of 1D ndarrays, lists, dicts, or Series\n",
    "    - 2-D numpy.ndarray\n",
    "    - Structured or record ndarray\n",
    "    - A Series\n",
    "    - Another DataFrame\n",
    "\n",
    "- Along with the data, you can optionally pass index (row labels) and columns\n",
    "(column labels) arguments. If you pass an index and / or columns, you are\n",
    "guaranteeing the index and / or columns of the resulting DataFrame. Thus, a dict\n",
    "of Series plus a specific index will discard all data not matching up to the\n",
    "passed index.\n",
    "\n",
    "- If axis labels are not passed, they will be constructed from the input data based on common sense rules.\n",
    "\n",
    "Here is more information on [series and dataframes](http://pandas.pydata.org/pandas-docs/stable/dsintro.html).\n",
    "\n",
    "**Check:** What are some differences between Series and DataFrame?\n",
    "\n"
   ]
  },
  {
   "cell_type": "markdown",
   "metadata": {},
   "source": [
    "<a name=\"pd.Series\"></a>\n",
    "## Demo / Guided Practice: pd.Series (25 mins)\n",
    "\n",
    "Let's create a series and see what `pandas.Series` can do.\n"
   ]
  },
  {
   "cell_type": "code",
   "execution_count": 2,
   "metadata": {
    "collapsed": false,
    "jupyter": {
     "outputs_hidden": false
    }
   },
   "outputs": [
    {
     "data": {
      "text/plain": [
       "a    17\n",
       "b     5\n",
       "c    13\n",
       "d     9\n",
       "e    20\n",
       "f    14\n",
       "g    16\n",
       "dtype: int32"
      ]
     },
     "execution_count": 2,
     "metadata": {},
     "output_type": "execute_result"
    }
   ],
   "source": [
    "# create a series using a numpy random number generator\n",
    "\n",
    "s = pd.Series(np.random.randint(5, 25, 7), index=['a', 'b', 'c', 'd', 'e', 'f', 'g'])  \n",
    "s"
   ]
  },
  {
   "cell_type": "markdown",
   "metadata": {},
   "source": [
    "\n",
    "Now we have a series of 7 random numbers. Let's try out the same things we did with\n",
    "a data frame back in W2 L1.1. First, let's look at the series head."
   ]
  },
  {
   "cell_type": "code",
   "execution_count": 9,
   "metadata": {
    "collapsed": false,
    "jupyter": {
     "outputs_hidden": false
    }
   },
   "outputs": [],
   "source": [
    "# head of series\n"
   ]
  },
  {
   "cell_type": "markdown",
   "metadata": {},
   "source": [
    "<details>\n",
    "    <summary>Solution</summary>\n",
    "    <code>s.head()</code>\n",
    "</details>"
   ]
  },
  {
   "cell_type": "code",
   "execution_count": 10,
   "metadata": {
    "collapsed": false,
    "jupyter": {
     "outputs_hidden": false
    }
   },
   "outputs": [],
   "source": [
    "# tail of series\n"
   ]
  },
  {
   "cell_type": "code",
   "execution_count": 11,
   "metadata": {
    "collapsed": false,
    "jupyter": {
     "outputs_hidden": false
    }
   },
   "outputs": [],
   "source": [
    "# summary stats\n"
   ]
  },
  {
   "cell_type": "code",
   "execution_count": 12,
   "metadata": {
    "collapsed": false,
    "jupyter": {
     "outputs_hidden": false
    }
   },
   "outputs": [],
   "source": [
    "# select by location c to g\n"
   ]
  },
  {
   "cell_type": "code",
   "execution_count": 13,
   "metadata": {
    "collapsed": false,
    "jupyter": {
     "outputs_hidden": false
    }
   },
   "outputs": [],
   "source": [
    "# select just b\n"
   ]
  },
  {
   "cell_type": "code",
   "execution_count": 14,
   "metadata": {
    "collapsed": false,
    "jupyter": {
     "outputs_hidden": false
    }
   },
   "outputs": [],
   "source": [
    "# slice for rows 1-3\n"
   ]
  },
  {
   "cell_type": "markdown",
   "metadata": {},
   "source": [
    "**Check:** How would you select just 'd'?\n"
   ]
  },
  {
   "cell_type": "markdown",
   "metadata": {},
   "source": [
    "<a name=\"Boolean indexing\"></a>\n",
    "## Demo / Guided Practice: Boolean indexing (25 mins)\n",
    "\n",
    "Another common operation is the use of boolean vectors to filter the data. The operators\n",
    "are: | for or, & for and, and ~ for not. These must be grouped by using parentheses.\n",
    "\n",
    "Let's create another series and use pandas to do some Boolean indexing."
   ]
  },
  {
   "cell_type": "code",
   "execution_count": 12,
   "metadata": {
    "collapsed": false,
    "jupyter": {
     "outputs_hidden": false
    }
   },
   "outputs": [
    {
     "data": {
      "text/plain": [
       "0   -3\n",
       "1   -2\n",
       "2   -1\n",
       "3    0\n",
       "4    1\n",
       "5    2\n",
       "6    3\n",
       "dtype: int64"
      ]
     },
     "execution_count": 12,
     "metadata": {},
     "output_type": "execute_result"
    }
   ],
   "source": [
    "# create another series ranging from -3 to 3\n",
    "\n",
    "s = pd.Series(range(-3, 4))\n",
    "s"
   ]
  },
  {
   "cell_type": "code",
   "execution_count": 15,
   "metadata": {
    "collapsed": false,
    "jupyter": {
     "outputs_hidden": false
    }
   },
   "outputs": [],
   "source": [
    "# find the values that are > 0. \n"
   ]
  },
  {
   "cell_type": "code",
   "execution_count": 16,
   "metadata": {
    "collapsed": false,
    "jupyter": {
     "outputs_hidden": false
    }
   },
   "outputs": [],
   "source": [
    "# find the values that are < -1 or > 0.5\n"
   ]
  },
  {
   "cell_type": "code",
   "execution_count": 17,
   "metadata": {
    "collapsed": false,
    "jupyter": {
     "outputs_hidden": false
    }
   },
   "outputs": [],
   "source": [
    "# find the values that are not < 0.\n"
   ]
  },
  {
   "cell_type": "markdown",
   "metadata": {},
   "source": [
    "Here is some further information on [boolean indexing](http://pandas.pydata.org/pandas-docs/stable/indexing.html#slicing-ranges).\n",
    "\n",
    "**Check:** How would you find all the numbers that are < 2?\n"
   ]
  },
  {
   "cell_type": "code",
   "execution_count": 32,
   "metadata": {
    "collapsed": false,
    "jupyter": {
     "outputs_hidden": false
    }
   },
   "outputs": [],
   "source": [
    "# find the values that are < 2\n",
    "\n"
   ]
  },
  {
   "cell_type": "markdown",
   "metadata": {},
   "source": [
    "# Demo: csv module (10 mins)\n",
    "Let's take a look at the Python csv module. The csv module’s reader and writer objects read and write sequences. We'll be using a small Sales data set to practice. Let's read a csv file first"
   ]
  },
  {
   "cell_type": "code",
   "execution_count": null,
   "metadata": {
    "collapsed": false,
    "jupyter": {
     "outputs_hidden": false
    }
   },
   "outputs": [],
   "source": []
  },
  {
   "cell_type": "markdown",
   "metadata": {},
   "source": [
    "The output will be the contents of sales.csv file. <br>\n",
    "Now, let's write to a csv file."
   ]
  },
  {
   "cell_type": "code",
   "execution_count": 24,
   "metadata": {
    "collapsed": false,
    "jupyter": {
     "outputs_hidden": false
    }
   },
   "outputs": [],
   "source": [
    "data = ['123456', 'cosmos', 'neil', 'lucy', 'universe', '1', '1,000,000', 'presented']\n"
   ]
  },
  {
   "cell_type": "markdown",
   "metadata": {},
   "source": [
    "Now, let's see the file again, with the data you just added:"
   ]
  },
  {
   "cell_type": "code",
   "execution_count": null,
   "metadata": {},
   "outputs": [],
   "source": []
  },
  {
   "cell_type": "code",
   "execution_count": null,
   "metadata": {},
   "outputs": [],
   "source": []
  },
  {
   "cell_type": "code",
   "execution_count": 25,
   "metadata": {
    "collapsed": false,
    "jupyter": {
     "outputs_hidden": false
    }
   },
   "outputs": [],
   "source": [
    "# read in csv file and create a pandas dataframe\n"
   ]
  },
  {
   "cell_type": "markdown",
   "metadata": {},
   "source": [
    "**Check:** This looks familiar...didn't we already learn how to read in csv files?\n",
    "Yes, but that was using Python without any libraries or packages. It took 5 lines of\n",
    "Python, but using Pandas it only takes one line. Nice!"
   ]
  },
  {
   "cell_type": "markdown",
   "metadata": {},
   "source": [
    "<a name=\"Viewing data: head/tail, describe\"></a>\n",
    "## Demo / Guided Practice: Viewing data: head/tail, describe (25 mins)\n"
   ]
  },
  {
   "cell_type": "code",
   "execution_count": 26,
   "metadata": {
    "collapsed": false,
    "jupyter": {
     "outputs_hidden": false
    }
   },
   "outputs": [],
   "source": [
    "# head of dataset\n"
   ]
  },
  {
   "cell_type": "code",
   "execution_count": 27,
   "metadata": {
    "collapsed": false,
    "jupyter": {
     "outputs_hidden": false
    }
   },
   "outputs": [],
   "source": [
    "# tail of dataset\n"
   ]
  },
  {
   "cell_type": "markdown",
   "metadata": {},
   "source": [
    "**Check:** What can looking at the head and tail of a dataset tell us?\n"
   ]
  },
  {
   "cell_type": "code",
   "execution_count": 28,
   "metadata": {
    "collapsed": false,
    "jupyter": {
     "outputs_hidden": false
    }
   },
   "outputs": [],
   "source": [
    "# summary stats\n"
   ]
  },
  {
   "cell_type": "markdown",
   "metadata": {},
   "source": [
    "This gives us: count, mean, std, min, 25%, 50%, 75%, and max. Awesome!\n",
    "\n",
    "**Check:** What was the cautionary tale about relying too heavily on summary stats again?"
   ]
  },
  {
   "cell_type": "markdown",
   "metadata": {},
   "source": [
    "\n",
    "<a name=\"Selection: a single column, slicing by row, by position\"></a>\n",
    "## Demo / Guided Practice: Selection: a single column, slicing by row, by position (25 mins)\n"
   ]
  },
  {
   "cell_type": "code",
   "execution_count": 29,
   "metadata": {
    "collapsed": false,
    "jupyter": {
     "outputs_hidden": false
    }
   },
   "outputs": [],
   "source": [
    "# select a single column\n"
   ]
  },
  {
   "cell_type": "markdown",
   "metadata": {},
   "source": [
    "**Check:** How would you select the 'Quantity' and 'Price' columns separately?\n"
   ]
  },
  {
   "cell_type": "code",
   "execution_count": 30,
   "metadata": {
    "collapsed": false,
    "jupyter": {
     "outputs_hidden": false
    }
   },
   "outputs": [],
   "source": [
    "# slice certain rows \n"
   ]
  },
  {
   "cell_type": "markdown",
   "metadata": {},
   "source": [
    "**Check:** How would you slice for rows 9 to 14?\n"
   ]
  },
  {
   "cell_type": "code",
   "execution_count": 31,
   "metadata": {
    "collapsed": false,
    "jupyter": {
     "outputs_hidden": false
    }
   },
   "outputs": [],
   "source": [
    "# slice for rows 9-14\n"
   ]
  },
  {
   "cell_type": "markdown",
   "metadata": {},
   "source": [
    "##### Now, let's try selecting by position."
   ]
  },
  {
   "cell_type": "code",
   "execution_count": 12,
   "metadata": {
    "collapsed": false,
    "jupyter": {
     "outputs_hidden": false
    }
   },
   "outputs": [],
   "source": [
    "# First, let's slice some rows.\n",
    "\n"
   ]
  },
  {
   "cell_type": "markdown",
   "metadata": {},
   "source": [
    "**Check:** How would you slice for rows 9 to 14?\n"
   ]
  },
  {
   "cell_type": "code",
   "execution_count": 32,
   "metadata": {
    "collapsed": false,
    "jupyter": {
     "outputs_hidden": false
    }
   },
   "outputs": [],
   "source": [
    "# slice some columns\n"
   ]
  },
  {
   "cell_type": "markdown",
   "metadata": {},
   "source": [
    "**Check:** How would you slice for the 'Manager' and 'Product' columns?\n"
   ]
  },
  {
   "cell_type": "code",
   "execution_count": 15,
   "metadata": {
    "collapsed": false,
    "jupyter": {
     "outputs_hidden": false
    }
   },
   "outputs": [],
   "source": [
    "# slice for the 'manager' column\n",
    "\n"
   ]
  },
  {
   "cell_type": "code",
   "execution_count": 33,
   "metadata": {
    "collapsed": false,
    "jupyter": {
     "outputs_hidden": false
    }
   },
   "outputs": [],
   "source": [
    "# select for an explicit value only\n",
    "\n"
   ]
  },
  {
   "cell_type": "code",
   "execution_count": null,
   "metadata": {},
   "outputs": [],
   "source": []
  }
 ],
 "metadata": {
  "kernelspec": {
   "display_name": "Python 3",
   "language": "python",
   "name": "python3"
  },
  "language_info": {
   "codemirror_mode": {
    "name": "ipython",
    "version": 3
   },
   "file_extension": ".py",
   "mimetype": "text/x-python",
   "name": "python",
   "nbconvert_exporter": "python",
   "pygments_lexer": "ipython3",
   "version": "3.8.5"
  }
 },
 "nbformat": 4,
 "nbformat_minor": 4
}
