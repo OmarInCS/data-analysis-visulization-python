{
 "cells": [
  {
   "cell_type": "markdown",
   "id": "41d0bc7c-907a-4485-9df3-91e7f4cbcd7b",
   "metadata": {},
   "source": [
    "## Bikeshare DataAnalysis"
   ]
  },
  {
   "cell_type": "code",
   "execution_count": 1,
   "id": "2de35d38-336e-4ad9-ae12-86a91622fdff",
   "metadata": {},
   "outputs": [
    {
     "data": {
      "text/html": [
       "<div>\n",
       "<style scoped>\n",
       "    .dataframe tbody tr th:only-of-type {\n",
       "        vertical-align: middle;\n",
       "    }\n",
       "\n",
       "    .dataframe tbody tr th {\n",
       "        vertical-align: top;\n",
       "    }\n",
       "\n",
       "    .dataframe thead th {\n",
       "        text-align: right;\n",
       "    }\n",
       "</style>\n",
       "<table border=\"1\" class=\"dataframe\">\n",
       "  <thead>\n",
       "    <tr style=\"text-align: right;\">\n",
       "      <th></th>\n",
       "      <th>Unnamed: 0</th>\n",
       "      <th>Start Time</th>\n",
       "      <th>End Time</th>\n",
       "      <th>Trip Duration</th>\n",
       "      <th>Start Station</th>\n",
       "      <th>End Station</th>\n",
       "      <th>User Type</th>\n",
       "      <th>Gender</th>\n",
       "      <th>Birth Year</th>\n",
       "    </tr>\n",
       "  </thead>\n",
       "  <tbody>\n",
       "    <tr>\n",
       "      <th>0</th>\n",
       "      <td>1423854</td>\n",
       "      <td>2017-06-23 15:09:32</td>\n",
       "      <td>2017-06-23 15:14:53</td>\n",
       "      <td>321</td>\n",
       "      <td>Wood St &amp; Hubbard St</td>\n",
       "      <td>Damen Ave &amp; Chicago Ave</td>\n",
       "      <td>Subscriber</td>\n",
       "      <td>Male</td>\n",
       "      <td>1992.0</td>\n",
       "    </tr>\n",
       "    <tr>\n",
       "      <th>1</th>\n",
       "      <td>955915</td>\n",
       "      <td>2017-05-25 18:19:03</td>\n",
       "      <td>2017-05-25 18:45:53</td>\n",
       "      <td>1610</td>\n",
       "      <td>Theater on the Lake</td>\n",
       "      <td>Sheffield Ave &amp; Waveland Ave</td>\n",
       "      <td>Subscriber</td>\n",
       "      <td>Female</td>\n",
       "      <td>1992.0</td>\n",
       "    </tr>\n",
       "    <tr>\n",
       "      <th>2</th>\n",
       "      <td>9031</td>\n",
       "      <td>2017-01-04 08:27:49</td>\n",
       "      <td>2017-01-04 08:34:45</td>\n",
       "      <td>416</td>\n",
       "      <td>May St &amp; Taylor St</td>\n",
       "      <td>Wood St &amp; Taylor St</td>\n",
       "      <td>Subscriber</td>\n",
       "      <td>Male</td>\n",
       "      <td>1981.0</td>\n",
       "    </tr>\n",
       "    <tr>\n",
       "      <th>3</th>\n",
       "      <td>304487</td>\n",
       "      <td>2017-03-06 13:49:38</td>\n",
       "      <td>2017-03-06 13:55:28</td>\n",
       "      <td>350</td>\n",
       "      <td>Christiana Ave &amp; Lawrence Ave</td>\n",
       "      <td>St. Louis Ave &amp; Balmoral Ave</td>\n",
       "      <td>Subscriber</td>\n",
       "      <td>Male</td>\n",
       "      <td>1986.0</td>\n",
       "    </tr>\n",
       "    <tr>\n",
       "      <th>4</th>\n",
       "      <td>45207</td>\n",
       "      <td>2017-01-17 14:53:07</td>\n",
       "      <td>2017-01-17 15:02:01</td>\n",
       "      <td>534</td>\n",
       "      <td>Clark St &amp; Randolph St</td>\n",
       "      <td>Desplaines St &amp; Jackson Blvd</td>\n",
       "      <td>Subscriber</td>\n",
       "      <td>Male</td>\n",
       "      <td>1975.0</td>\n",
       "    </tr>\n",
       "    <tr>\n",
       "      <th>...</th>\n",
       "      <td>...</td>\n",
       "      <td>...</td>\n",
       "      <td>...</td>\n",
       "      <td>...</td>\n",
       "      <td>...</td>\n",
       "      <td>...</td>\n",
       "      <td>...</td>\n",
       "      <td>...</td>\n",
       "      <td>...</td>\n",
       "    </tr>\n",
       "    <tr>\n",
       "      <th>299995</th>\n",
       "      <td>64825</td>\n",
       "      <td>2017-01-21 13:18:00</td>\n",
       "      <td>2017-01-21 13:27:50</td>\n",
       "      <td>590</td>\n",
       "      <td>Orleans St &amp; Elm St (*)</td>\n",
       "      <td>Sheffield Ave &amp; Webster Ave</td>\n",
       "      <td>Subscriber</td>\n",
       "      <td>Male</td>\n",
       "      <td>1965.0</td>\n",
       "    </tr>\n",
       "    <tr>\n",
       "      <th>299996</th>\n",
       "      <td>695993</td>\n",
       "      <td>2017-04-28 19:32:19</td>\n",
       "      <td>2017-04-28 19:51:18</td>\n",
       "      <td>1139</td>\n",
       "      <td>Ashland Ave &amp; Blackhawk St</td>\n",
       "      <td>Clark St &amp; Elm St</td>\n",
       "      <td>Customer</td>\n",
       "      <td>NaN</td>\n",
       "      <td>NaN</td>\n",
       "    </tr>\n",
       "    <tr>\n",
       "      <th>299997</th>\n",
       "      <td>159685</td>\n",
       "      <td>2017-02-12 09:59:01</td>\n",
       "      <td>2017-02-12 10:21:49</td>\n",
       "      <td>1368</td>\n",
       "      <td>Ravenswood Ave &amp; Lawrence Ave</td>\n",
       "      <td>Stockton Dr &amp; Wrightwood Ave</td>\n",
       "      <td>Subscriber</td>\n",
       "      <td>Female</td>\n",
       "      <td>1988.0</td>\n",
       "    </tr>\n",
       "    <tr>\n",
       "      <th>299998</th>\n",
       "      <td>564681</td>\n",
       "      <td>2017-04-16 17:07:15</td>\n",
       "      <td>2017-04-16 17:19:00</td>\n",
       "      <td>705</td>\n",
       "      <td>Sheffield Ave &amp; Willow St</td>\n",
       "      <td>Clark St &amp; Chicago Ave</td>\n",
       "      <td>Customer</td>\n",
       "      <td>NaN</td>\n",
       "      <td>NaN</td>\n",
       "    </tr>\n",
       "    <tr>\n",
       "      <th>299999</th>\n",
       "      <td>1021247</td>\n",
       "      <td>2017-05-30 12:38:28</td>\n",
       "      <td>2017-05-30 12:55:36</td>\n",
       "      <td>1028</td>\n",
       "      <td>Wacker Dr &amp; Washington St</td>\n",
       "      <td>Damen Ave &amp; Division St</td>\n",
       "      <td>Subscriber</td>\n",
       "      <td>Male</td>\n",
       "      <td>1984.0</td>\n",
       "    </tr>\n",
       "  </tbody>\n",
       "</table>\n",
       "<p>300000 rows × 9 columns</p>\n",
       "</div>"
      ],
      "text/plain": [
       "        Unnamed: 0           Start Time             End Time  Trip Duration  \\\n",
       "0          1423854  2017-06-23 15:09:32  2017-06-23 15:14:53            321   \n",
       "1           955915  2017-05-25 18:19:03  2017-05-25 18:45:53           1610   \n",
       "2             9031  2017-01-04 08:27:49  2017-01-04 08:34:45            416   \n",
       "3           304487  2017-03-06 13:49:38  2017-03-06 13:55:28            350   \n",
       "4            45207  2017-01-17 14:53:07  2017-01-17 15:02:01            534   \n",
       "...            ...                  ...                  ...            ...   \n",
       "299995       64825  2017-01-21 13:18:00  2017-01-21 13:27:50            590   \n",
       "299996      695993  2017-04-28 19:32:19  2017-04-28 19:51:18           1139   \n",
       "299997      159685  2017-02-12 09:59:01  2017-02-12 10:21:49           1368   \n",
       "299998      564681  2017-04-16 17:07:15  2017-04-16 17:19:00            705   \n",
       "299999     1021247  2017-05-30 12:38:28  2017-05-30 12:55:36           1028   \n",
       "\n",
       "                        Start Station                   End Station  \\\n",
       "0                Wood St & Hubbard St       Damen Ave & Chicago Ave   \n",
       "1                 Theater on the Lake  Sheffield Ave & Waveland Ave   \n",
       "2                  May St & Taylor St           Wood St & Taylor St   \n",
       "3       Christiana Ave & Lawrence Ave  St. Louis Ave & Balmoral Ave   \n",
       "4              Clark St & Randolph St  Desplaines St & Jackson Blvd   \n",
       "...                               ...                           ...   \n",
       "299995        Orleans St & Elm St (*)   Sheffield Ave & Webster Ave   \n",
       "299996     Ashland Ave & Blackhawk St             Clark St & Elm St   \n",
       "299997  Ravenswood Ave & Lawrence Ave  Stockton Dr & Wrightwood Ave   \n",
       "299998      Sheffield Ave & Willow St        Clark St & Chicago Ave   \n",
       "299999      Wacker Dr & Washington St       Damen Ave & Division St   \n",
       "\n",
       "         User Type  Gender  Birth Year  \n",
       "0       Subscriber    Male      1992.0  \n",
       "1       Subscriber  Female      1992.0  \n",
       "2       Subscriber    Male      1981.0  \n",
       "3       Subscriber    Male      1986.0  \n",
       "4       Subscriber    Male      1975.0  \n",
       "...            ...     ...         ...  \n",
       "299995  Subscriber    Male      1965.0  \n",
       "299996    Customer     NaN         NaN  \n",
       "299997  Subscriber  Female      1988.0  \n",
       "299998    Customer     NaN         NaN  \n",
       "299999  Subscriber    Male      1984.0  \n",
       "\n",
       "[300000 rows x 9 columns]"
      ]
     },
     "execution_count": 1,
     "metadata": {},
     "output_type": "execute_result"
    }
   ],
   "source": [
    "import pandas as pd\n",
    "df = pd.read_csv(\"data/chicago.csv\")\n",
    "df"
   ]
  },
  {
   "cell_type": "code",
   "execution_count": 2,
   "id": "e09bb251-6906-46f5-96b9-859f6a5500bb",
   "metadata": {},
   "outputs": [
    {
     "data": {
      "text/plain": [
       "Unnamed: 0         int64\n",
       "Start Time        object\n",
       "End Time          object\n",
       "Trip Duration      int64\n",
       "Start Station     object\n",
       "End Station       object\n",
       "User Type         object\n",
       "Gender            object\n",
       "Birth Year       float64\n",
       "dtype: object"
      ]
     },
     "execution_count": 2,
     "metadata": {},
     "output_type": "execute_result"
    }
   ],
   "source": [
    "df.dtypes"
   ]
  },
  {
   "cell_type": "code",
   "execution_count": 3,
   "id": "0b2c6dc9-80c4-4fce-8239-8d86ca9036e7",
   "metadata": {},
   "outputs": [
    {
     "data": {
      "text/plain": [
       "Unnamed: 0                int64\n",
       "Start Time       datetime64[ns]\n",
       "End Time         datetime64[ns]\n",
       "Trip Duration             int64\n",
       "Start Station            object\n",
       "End Station              object\n",
       "User Type                object\n",
       "Gender                   object\n",
       "Birth Year              float64\n",
       "dtype: object"
      ]
     },
     "execution_count": 3,
     "metadata": {},
     "output_type": "execute_result"
    }
   ],
   "source": [
    "df[\"Start Time\"] = pd.to_datetime(df[\"Start Time\"])\n",
    "df[\"End Time\"] = pd.to_datetime(df[\"End Time\"])\n",
    "df.dtypes"
   ]
  },
  {
   "cell_type": "code",
   "execution_count": 5,
   "id": "c5ccac76-edee-46ac-8d22-a5f267a27cda",
   "metadata": {},
   "outputs": [
    {
     "data": {
      "text/plain": [
       "0             June\n",
       "1              May\n",
       "2          January\n",
       "3            March\n",
       "4          January\n",
       "            ...   \n",
       "299995     January\n",
       "299996       April\n",
       "299997    February\n",
       "299998       April\n",
       "299999         May\n",
       "Name: Start Time, Length: 300000, dtype: object"
      ]
     },
     "execution_count": 5,
     "metadata": {},
     "output_type": "execute_result"
    }
   ],
   "source": [
    "df[\"Start Time\"].dt.month_name()"
   ]
  },
  {
   "cell_type": "code",
   "execution_count": 7,
   "id": "051da8a7-eccc-4af9-ab01-6be1a91706c8",
   "metadata": {},
   "outputs": [
    {
     "data": {
      "text/plain": [
       "0            Friday\n",
       "1          Thursday\n",
       "2         Wednesday\n",
       "3            Monday\n",
       "4           Tuesday\n",
       "            ...    \n",
       "299995     Saturday\n",
       "299996       Friday\n",
       "299997       Sunday\n",
       "299998       Sunday\n",
       "299999      Tuesday\n",
       "Name: Start Time, Length: 300000, dtype: object"
      ]
     },
     "execution_count": 7,
     "metadata": {},
     "output_type": "execute_result"
    }
   ],
   "source": [
    "df[\"Start Time\"].dt.day_name()"
   ]
  },
  {
   "cell_type": "code",
   "execution_count": 8,
   "id": "805f4891-5471-4632-b98e-610ed1f11cbd",
   "metadata": {},
   "outputs": [
    {
     "data": {
      "text/html": [
       "<div>\n",
       "<style scoped>\n",
       "    .dataframe tbody tr th:only-of-type {\n",
       "        vertical-align: middle;\n",
       "    }\n",
       "\n",
       "    .dataframe tbody tr th {\n",
       "        vertical-align: top;\n",
       "    }\n",
       "\n",
       "    .dataframe thead th {\n",
       "        text-align: right;\n",
       "    }\n",
       "</style>\n",
       "<table border=\"1\" class=\"dataframe\">\n",
       "  <thead>\n",
       "    <tr style=\"text-align: right;\">\n",
       "      <th></th>\n",
       "      <th>Unnamed: 0</th>\n",
       "      <th>Start Time</th>\n",
       "      <th>End Time</th>\n",
       "      <th>Trip Duration</th>\n",
       "      <th>Start Station</th>\n",
       "      <th>End Station</th>\n",
       "      <th>User Type</th>\n",
       "      <th>Gender</th>\n",
       "      <th>Birth Year</th>\n",
       "    </tr>\n",
       "  </thead>\n",
       "  <tbody>\n",
       "    <tr>\n",
       "      <th>0</th>\n",
       "      <td>1423854</td>\n",
       "      <td>2017-06-23 15:09:32</td>\n",
       "      <td>2017-06-23 15:14:53</td>\n",
       "      <td>321</td>\n",
       "      <td>Wood St &amp; Hubbard St</td>\n",
       "      <td>Damen Ave &amp; Chicago Ave</td>\n",
       "      <td>Subscriber</td>\n",
       "      <td>Male</td>\n",
       "      <td>1992.0</td>\n",
       "    </tr>\n",
       "    <tr>\n",
       "      <th>5</th>\n",
       "      <td>1473887</td>\n",
       "      <td>2017-06-26 09:01:20</td>\n",
       "      <td>2017-06-26 09:11:06</td>\n",
       "      <td>586</td>\n",
       "      <td>Clinton St &amp; Washington Blvd</td>\n",
       "      <td>Canal St &amp; Taylor St</td>\n",
       "      <td>Subscriber</td>\n",
       "      <td>Male</td>\n",
       "      <td>1990.0</td>\n",
       "    </tr>\n",
       "    <tr>\n",
       "      <th>18</th>\n",
       "      <td>1469705</td>\n",
       "      <td>2017-06-25 21:26:30</td>\n",
       "      <td>2017-06-25 21:33:44</td>\n",
       "      <td>434</td>\n",
       "      <td>State St &amp; Pearson St</td>\n",
       "      <td>Clark St &amp; Schiller St</td>\n",
       "      <td>Subscriber</td>\n",
       "      <td>Male</td>\n",
       "      <td>1987.0</td>\n",
       "    </tr>\n",
       "    <tr>\n",
       "      <th>21</th>\n",
       "      <td>1420915</td>\n",
       "      <td>2017-06-23 12:21:01</td>\n",
       "      <td>2017-06-23 12:32:54</td>\n",
       "      <td>713</td>\n",
       "      <td>Rush St &amp; Cedar St</td>\n",
       "      <td>Halsted St &amp; Willow St</td>\n",
       "      <td>Subscriber</td>\n",
       "      <td>Male</td>\n",
       "      <td>1985.0</td>\n",
       "    </tr>\n",
       "    <tr>\n",
       "      <th>23</th>\n",
       "      <td>1413814</td>\n",
       "      <td>2017-06-22 19:14:37</td>\n",
       "      <td>2017-06-22 19:29:54</td>\n",
       "      <td>917</td>\n",
       "      <td>Bissell St &amp; Armitage Ave</td>\n",
       "      <td>Orleans St &amp; Chestnut St (NEXT Apts)</td>\n",
       "      <td>Subscriber</td>\n",
       "      <td>Female</td>\n",
       "      <td>1989.0</td>\n",
       "    </tr>\n",
       "    <tr>\n",
       "      <th>...</th>\n",
       "      <td>...</td>\n",
       "      <td>...</td>\n",
       "      <td>...</td>\n",
       "      <td>...</td>\n",
       "      <td>...</td>\n",
       "      <td>...</td>\n",
       "      <td>...</td>\n",
       "      <td>...</td>\n",
       "      <td>...</td>\n",
       "    </tr>\n",
       "    <tr>\n",
       "      <th>299978</th>\n",
       "      <td>1242195</td>\n",
       "      <td>2017-06-12 08:35:11</td>\n",
       "      <td>2017-06-12 08:44:20</td>\n",
       "      <td>549</td>\n",
       "      <td>St. Clair St &amp; Erie St</td>\n",
       "      <td>Michigan Ave &amp; Lake St</td>\n",
       "      <td>Subscriber</td>\n",
       "      <td>Female</td>\n",
       "      <td>1971.0</td>\n",
       "    </tr>\n",
       "    <tr>\n",
       "      <th>299981</th>\n",
       "      <td>1212375</td>\n",
       "      <td>2017-06-10 14:52:58</td>\n",
       "      <td>2017-06-10 15:29:52</td>\n",
       "      <td>2214</td>\n",
       "      <td>Franklin St &amp; Jackson Blvd</td>\n",
       "      <td>Lake Shore Dr &amp; North Blvd</td>\n",
       "      <td>Customer</td>\n",
       "      <td>NaN</td>\n",
       "      <td>NaN</td>\n",
       "    </tr>\n",
       "    <tr>\n",
       "      <th>299986</th>\n",
       "      <td>1464340</td>\n",
       "      <td>2017-06-25 16:17:53</td>\n",
       "      <td>2017-06-25 16:51:21</td>\n",
       "      <td>2008</td>\n",
       "      <td>Shedd Aquarium</td>\n",
       "      <td>LaSalle St &amp; Washington St</td>\n",
       "      <td>Customer</td>\n",
       "      <td>NaN</td>\n",
       "      <td>NaN</td>\n",
       "    </tr>\n",
       "    <tr>\n",
       "      <th>299990</th>\n",
       "      <td>1444489</td>\n",
       "      <td>2017-06-24 15:28:12</td>\n",
       "      <td>2017-06-24 16:08:11</td>\n",
       "      <td>2399</td>\n",
       "      <td>Rush St &amp; Cedar St</td>\n",
       "      <td>Pine Grove Ave &amp; Waveland Ave</td>\n",
       "      <td>Subscriber</td>\n",
       "      <td>Male</td>\n",
       "      <td>1989.0</td>\n",
       "    </tr>\n",
       "    <tr>\n",
       "      <th>299992</th>\n",
       "      <td>1327248</td>\n",
       "      <td>2017-06-17 16:44:16</td>\n",
       "      <td>2017-06-17 16:50:57</td>\n",
       "      <td>401</td>\n",
       "      <td>Sheffield Ave &amp; Willow St</td>\n",
       "      <td>Halsted St &amp; Dickens Ave</td>\n",
       "      <td>Subscriber</td>\n",
       "      <td>Male</td>\n",
       "      <td>1955.0</td>\n",
       "    </tr>\n",
       "  </tbody>\n",
       "</table>\n",
       "<p>98081 rows × 9 columns</p>\n",
       "</div>"
      ],
      "text/plain": [
       "        Unnamed: 0          Start Time            End Time  Trip Duration  \\\n",
       "0          1423854 2017-06-23 15:09:32 2017-06-23 15:14:53            321   \n",
       "5          1473887 2017-06-26 09:01:20 2017-06-26 09:11:06            586   \n",
       "18         1469705 2017-06-25 21:26:30 2017-06-25 21:33:44            434   \n",
       "21         1420915 2017-06-23 12:21:01 2017-06-23 12:32:54            713   \n",
       "23         1413814 2017-06-22 19:14:37 2017-06-22 19:29:54            917   \n",
       "...            ...                 ...                 ...            ...   \n",
       "299978     1242195 2017-06-12 08:35:11 2017-06-12 08:44:20            549   \n",
       "299981     1212375 2017-06-10 14:52:58 2017-06-10 15:29:52           2214   \n",
       "299986     1464340 2017-06-25 16:17:53 2017-06-25 16:51:21           2008   \n",
       "299990     1444489 2017-06-24 15:28:12 2017-06-24 16:08:11           2399   \n",
       "299992     1327248 2017-06-17 16:44:16 2017-06-17 16:50:57            401   \n",
       "\n",
       "                       Start Station                           End Station  \\\n",
       "0               Wood St & Hubbard St               Damen Ave & Chicago Ave   \n",
       "5       Clinton St & Washington Blvd                  Canal St & Taylor St   \n",
       "18             State St & Pearson St                Clark St & Schiller St   \n",
       "21                Rush St & Cedar St                Halsted St & Willow St   \n",
       "23         Bissell St & Armitage Ave  Orleans St & Chestnut St (NEXT Apts)   \n",
       "...                              ...                                   ...   \n",
       "299978        St. Clair St & Erie St                Michigan Ave & Lake St   \n",
       "299981    Franklin St & Jackson Blvd            Lake Shore Dr & North Blvd   \n",
       "299986                Shedd Aquarium            LaSalle St & Washington St   \n",
       "299990            Rush St & Cedar St         Pine Grove Ave & Waveland Ave   \n",
       "299992     Sheffield Ave & Willow St              Halsted St & Dickens Ave   \n",
       "\n",
       "         User Type  Gender  Birth Year  \n",
       "0       Subscriber    Male      1992.0  \n",
       "5       Subscriber    Male      1990.0  \n",
       "18      Subscriber    Male      1987.0  \n",
       "21      Subscriber    Male      1985.0  \n",
       "23      Subscriber  Female      1989.0  \n",
       "...            ...     ...         ...  \n",
       "299978  Subscriber  Female      1971.0  \n",
       "299981    Customer     NaN         NaN  \n",
       "299986    Customer     NaN         NaN  \n",
       "299990  Subscriber    Male      1989.0  \n",
       "299992  Subscriber    Male      1955.0  \n",
       "\n",
       "[98081 rows x 9 columns]"
      ]
     },
     "execution_count": 8,
     "metadata": {},
     "output_type": "execute_result"
    }
   ],
   "source": [
    "mask = df[\"Start Time\"].dt.month_name() == \"June\"\n",
    "df[mask]"
   ]
  },
  {
   "cell_type": "code",
   "execution_count": 12,
   "id": "e4030e06-7a16-46f7-970f-352e799b59d7",
   "metadata": {},
   "outputs": [
    {
     "data": {
      "text/plain": [
       "0    Tuesday\n",
       "dtype: object"
      ]
     },
     "execution_count": 12,
     "metadata": {},
     "output_type": "execute_result"
    }
   ],
   "source": [
    "df[\"Start Time\"].dt.day_name().mode()"
   ]
  },
  {
   "cell_type": "code",
   "execution_count": 11,
   "id": "cdb7af9f-a2af-4b74-9800-dffcceb75355",
   "metadata": {},
   "outputs": [
    {
     "data": {
      "text/plain": [
       "'Tuesday'"
      ]
     },
     "execution_count": 11,
     "metadata": {},
     "output_type": "execute_result"
    }
   ],
   "source": [
    "df[\"Start Time\"].dt.day_name().mode()[0]"
   ]
  },
  {
   "cell_type": "code",
   "execution_count": 13,
   "id": "5c842e73-98d3-43e3-8e70-fadeecb0aeda",
   "metadata": {},
   "outputs": [
    {
     "data": {
      "text/html": [
       "<div>\n",
       "<style scoped>\n",
       "    .dataframe tbody tr th:only-of-type {\n",
       "        vertical-align: middle;\n",
       "    }\n",
       "\n",
       "    .dataframe tbody tr th {\n",
       "        vertical-align: top;\n",
       "    }\n",
       "\n",
       "    .dataframe thead th {\n",
       "        text-align: right;\n",
       "    }\n",
       "</style>\n",
       "<table border=\"1\" class=\"dataframe\">\n",
       "  <thead>\n",
       "    <tr style=\"text-align: right;\">\n",
       "      <th></th>\n",
       "      <th>Start Station</th>\n",
       "      <th>End Station</th>\n",
       "    </tr>\n",
       "  </thead>\n",
       "  <tbody>\n",
       "    <tr>\n",
       "      <th>0</th>\n",
       "      <td>Streeter Dr &amp; Grand Ave</td>\n",
       "      <td>Streeter Dr &amp; Grand Ave</td>\n",
       "    </tr>\n",
       "  </tbody>\n",
       "</table>\n",
       "</div>"
      ],
      "text/plain": [
       "             Start Station              End Station\n",
       "0  Streeter Dr & Grand Ave  Streeter Dr & Grand Ave"
      ]
     },
     "execution_count": 13,
     "metadata": {},
     "output_type": "execute_result"
    }
   ],
   "source": [
    "df[[\"Start Station\", \"End Station\"]].mode()"
   ]
  },
  {
   "cell_type": "code",
   "execution_count": 14,
   "id": "486612a9-c558-49e6-a200-75874d40fdd9",
   "metadata": {},
   "outputs": [
    {
     "data": {
      "text/plain": [
       "0    Streeter Dr & Grand Ave\n",
       "dtype: object"
      ]
     },
     "execution_count": 14,
     "metadata": {},
     "output_type": "execute_result"
    }
   ],
   "source": [
    "df[\"Start Station\"].mode()"
   ]
  },
  {
   "cell_type": "code",
   "execution_count": 15,
   "id": "614ff046-9881-4771-8501-e4fe30526852",
   "metadata": {},
   "outputs": [
    {
     "data": {
      "text/plain": [
       "0    Streeter Dr & Grand Ave\n",
       "dtype: object"
      ]
     },
     "execution_count": 15,
     "metadata": {},
     "output_type": "execute_result"
    }
   ],
   "source": [
    "df[\"End Station\"].mode()"
   ]
  },
  {
   "cell_type": "code",
   "execution_count": 19,
   "id": "37a69ecc-a333-4b6e-8c1a-0eb0f9807f45",
   "metadata": {},
   "outputs": [
    {
     "data": {
      "text/plain": [
       "Start Station              End Station               \n",
       "Lake Shore Dr & Monroe St  Streeter Dr & Grand Ave       854\n",
       "Streeter Dr & Grand Ave    Streeter Dr & Grand Ave       712\n",
       "                           Theater on the Lake           561\n",
       "                           Lake Shore Dr & North Blvd    538\n",
       "                           Lake Shore Dr & Monroe St     526\n",
       "                                                        ... \n",
       "LaSalle St & Adams St      LaSalle St & Jackson Blvd       1\n",
       "                           Halsted St & Willow St          1\n",
       "                           Halsted St & Roosevelt Rd       1\n",
       "                           Halsted St & Maxwell St         1\n",
       "Lake Park Ave & 53rd St    Dorchester Ave & 63rd St        1\n",
       "Length: 47115, dtype: int64"
      ]
     },
     "execution_count": 19,
     "metadata": {},
     "output_type": "execute_result"
    }
   ],
   "source": [
    "df[[\"Start Station\", \"End Station\"]].value_counts()"
   ]
  },
  {
   "cell_type": "code",
   "execution_count": null,
   "id": "69e81d3f-567d-4d5c-a154-4d2c43967032",
   "metadata": {},
   "outputs": [],
   "source": [
    "df[[\"Start Station\", \"End Station\"]].value_counts().index[0]"
   ]
  }
 ],
 "metadata": {
  "kernelspec": {
   "display_name": "Python 3 (ipykernel)",
   "language": "python",
   "name": "python3"
  },
  "language_info": {
   "codemirror_mode": {
    "name": "ipython",
    "version": 3
   },
   "file_extension": ".py",
   "mimetype": "text/x-python",
   "name": "python",
   "nbconvert_exporter": "python",
   "pygments_lexer": "ipython3",
   "version": "3.9.7"
  }
 },
 "nbformat": 4,
 "nbformat_minor": 5
}
