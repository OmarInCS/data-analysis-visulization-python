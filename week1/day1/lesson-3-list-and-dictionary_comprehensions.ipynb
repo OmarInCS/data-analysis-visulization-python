{
 "cells": [
  {
   "cell_type": "markdown",
   "metadata": {
    "slideshow": {
     "slide_type": "slide"
    }
   },
   "source": [
    "<img src=\"http://imgur.com/1ZcRyrc.png\" style=\"float: left; margin: 20px; height: 55px\">\n",
    "\n",
    "# Python List & Dictionary Comprehensions\n",
    "\n",
    "---\n",
    "\n",
    "### Learning Objectives\n",
    "*After this lesson, you will be able to:*\n",
    "- Create list comprehensions \n",
    "- Create dictionary comprehensions \n",
    "- Use conditional logic (`if`/`else`) within list & dictionary comprehensions\n",
    "- Use `zip()` and `enumerate()` within list & dictionary comprehensions\n",
    "- Use nested list & dictionary comprehensions "
   ]
  },
  {
   "cell_type": "markdown",
   "metadata": {},
   "source": [
    "---\n",
    "\n",
    "### Lesson Guide\n",
    "\n",
    "- [Warm-Up on Python Basics](#warm-up)\n",
    "- [Basic List Comprehensions](#list_comprehensions)\n",
    "- [Basic Dictionary Comprehensions](#dictionary_comprehensions)\n",
    "- [Conditional Logic within Comprehensions](#conditional_comprehensions)\n",
    "- [Zip and Enumerate within Comprehensions](#zip_enumerate)\n",
    "- [Nested Comprehensions](#nested_comprehensions)"
   ]
  },
  {
   "cell_type": "markdown",
   "metadata": {},
   "source": [
    "<a id='warm-up'></a>\n",
    "\n",
    "### Warm-Up on  Python Basics\n",
    "\n",
    "---\n",
    "\n",
    "In the next 10-15min try to write the code for the questions below on the Python basics that you reviewed yesterday."
   ]
  },
  {
   "cell_type": "markdown",
   "metadata": {},
   "source": [
    "#### Warm-Up A:  Remove the last element in `lstA` below, then sort it, insert the number `22` into the 5th position, and take a slice of the 7th through the 10th elements (inclusive). "
   ]
  },
  {
   "cell_type": "markdown",
   "metadata": {},
   "source": [
    "**Hint:** You can use the function `dir()` to find out which attributes and methods are available for any python object."
   ]
  },
  {
   "cell_type": "code",
   "execution_count": 1,
   "metadata": {
    "slideshow": {
     "slide_type": "subslide"
    }
   },
   "outputs": [],
   "source": [
    "lstA = [13,15,-4,8,23,25,17,44,-7,-10,0,1,5,0,2,8,45]"
   ]
  },
  {
   "cell_type": "code",
   "execution_count": 2,
   "metadata": {},
   "outputs": [
    {
     "data": {
      "text/plain": [
       "[13, 15, -4, 8, 23, 25, 17, 44, -7, -10, 0, 1, 5, 0, 2, 8]"
      ]
     },
     "execution_count": 2,
     "metadata": {},
     "output_type": "execute_result"
    }
   ],
   "source": [
    "# lstA.remove(45)\n",
    "# lstA.pop()\n",
    "del lstA[-1]\n",
    "lstA"
   ]
  },
  {
   "cell_type": "code",
   "execution_count": 3,
   "metadata": {},
   "outputs": [
    {
     "data": {
      "text/plain": [
       "[-10, -7, -4, 0, 0, 1, 2, 5, 8, 8, 13, 15, 17, 23, 25, 44]"
      ]
     },
     "execution_count": 3,
     "metadata": {},
     "output_type": "execute_result"
    }
   ],
   "source": [
    "lstA.sort()\n",
    "lstA"
   ]
  },
  {
   "cell_type": "code",
   "execution_count": 4,
   "metadata": {},
   "outputs": [
    {
     "data": {
      "text/plain": [
       "[-10, -7, -4, 0, 22, 0, 1, 2, 5, 8, 8, 13, 15, 17, 23, 25, 44]"
      ]
     },
     "execution_count": 4,
     "metadata": {},
     "output_type": "execute_result"
    }
   ],
   "source": [
    "lstA.insert(4, 22)\n",
    "lstA"
   ]
  },
  {
   "cell_type": "code",
   "execution_count": 5,
   "metadata": {},
   "outputs": [
    {
     "data": {
      "text/plain": [
       "[1, 2, 5, 8]"
      ]
     },
     "execution_count": 5,
     "metadata": {},
     "output_type": "execute_result"
    }
   ],
   "source": [
    "lstA[6:10]"
   ]
  },
  {
   "cell_type": "code",
   "execution_count": 6,
   "metadata": {},
   "outputs": [
    {
     "data": {
      "text/plain": [
       "['__add__',\n",
       " '__class__',\n",
       " '__contains__',\n",
       " '__delattr__',\n",
       " '__delitem__',\n",
       " '__dir__',\n",
       " '__doc__',\n",
       " '__eq__',\n",
       " '__format__',\n",
       " '__ge__',\n",
       " '__getattribute__',\n",
       " '__getitem__',\n",
       " '__gt__',\n",
       " '__hash__',\n",
       " '__iadd__',\n",
       " '__imul__',\n",
       " '__init__',\n",
       " '__init_subclass__',\n",
       " '__iter__',\n",
       " '__le__',\n",
       " '__len__',\n",
       " '__lt__',\n",
       " '__mul__',\n",
       " '__ne__',\n",
       " '__new__',\n",
       " '__reduce__',\n",
       " '__reduce_ex__',\n",
       " '__repr__',\n",
       " '__reversed__',\n",
       " '__rmul__',\n",
       " '__setattr__',\n",
       " '__setitem__',\n",
       " '__sizeof__',\n",
       " '__str__',\n",
       " '__subclasshook__',\n",
       " 'append',\n",
       " 'clear',\n",
       " 'copy',\n",
       " 'count',\n",
       " 'extend',\n",
       " 'index',\n",
       " 'insert',\n",
       " 'pop',\n",
       " 'remove',\n",
       " 'reverse',\n",
       " 'sort']"
      ]
     },
     "execution_count": 6,
     "metadata": {},
     "output_type": "execute_result"
    }
   ],
   "source": [
    "dir(lstA)"
   ]
  },
  {
   "cell_type": "markdown",
   "metadata": {},
   "source": [
    "#### Warm-Up B:  Remove Diesel from `dictB` below.  Add Teddy to the dictionary with a value of 5. Get a list of the key, value tuples now in the dictionary."
   ]
  },
  {
   "cell_type": "code",
   "execution_count": 7,
   "metadata": {},
   "outputs": [],
   "source": [
    "dictB = {'Mabel':10,\n",
    "         'Wilbur':12,\n",
    "         'Diesel':4,\n",
    "         'Schatzie':9}"
   ]
  },
  {
   "cell_type": "code",
   "execution_count": 8,
   "metadata": {},
   "outputs": [
    {
     "data": {
      "text/plain": [
       "{'Mabel': 10, 'Wilbur': 12, 'Schatzie': 9}"
      ]
     },
     "execution_count": 8,
     "metadata": {},
     "output_type": "execute_result"
    }
   ],
   "source": [
    "del dictB[\"Diesel\"]\n",
    "dictB"
   ]
  },
  {
   "cell_type": "code",
   "execution_count": 9,
   "metadata": {},
   "outputs": [
    {
     "data": {
      "text/plain": [
       "{'Mabel': 10, 'Wilbur': 12, 'Schatzie': 9, 'Teddy': 5}"
      ]
     },
     "execution_count": 9,
     "metadata": {},
     "output_type": "execute_result"
    }
   ],
   "source": [
    "dictB.update({\"Teddy\": 5})\n",
    "dictB"
   ]
  },
  {
   "cell_type": "code",
   "execution_count": 11,
   "metadata": {},
   "outputs": [
    {
     "data": {
      "text/plain": [
       "[('Mabel', 10), ('Wilbur', 12), ('Schatzie', 9), ('Teddy', 5)]"
      ]
     },
     "execution_count": 11,
     "metadata": {},
     "output_type": "execute_result"
    }
   ],
   "source": [
    "list(dictB.items())"
   ]
  },
  {
   "cell_type": "markdown",
   "metadata": {},
   "source": [
    "#### Warm-Up C:  For the string below, first strip the whitespace on both sides, then replace the '&' with 'and', then get rid of the exclamation marks, then convert it all to lowercase letters, and finally split the string into a list of individual words."
   ]
  },
  {
   "cell_type": "code",
   "execution_count": 12,
   "metadata": {},
   "outputs": [],
   "source": [
    "#FIRST: strip the whitespace on both sides\n",
    "#SECOND: replace the '&' with 'and'\n",
    "#THIRD: get rid of the exclamation marks\n",
    "#FOURTH: convert the whole string to lowercase letters\n",
    "#FIFTH: split the string into a list of individual words\n",
    "\n",
    "stringC = ' Pizzas & BURRITOS!!! are indisputably the BEST foods!   '"
   ]
  },
  {
   "cell_type": "code",
   "execution_count": 15,
   "metadata": {},
   "outputs": [
    {
     "data": {
      "text/plain": [
       "['pizzas', 'and', 'burritos', 'are', 'indisputably', 'the', 'best', 'foods']"
      ]
     },
     "execution_count": 15,
     "metadata": {},
     "output_type": "execute_result"
    }
   ],
   "source": [
    "stringC.strip().replace(\"&\", \"and\").replace(\"!\", \"\").lower().split(\" \")"
   ]
  },
  {
   "cell_type": "markdown",
   "metadata": {},
   "source": [
    "#### Warm-Up D:  Write a for-loop that iterates through `exam_scores`. Create a new dictionary that keeps each student's name, but records the exam scores as letter grades. Each entry should look like `'Bradley': ['B','A','B','C']`  "
   ]
  },
  {
   "cell_type": "code",
   "execution_count": 24,
   "metadata": {},
   "outputs": [],
   "source": [
    "#Use the following grade boundaries:\n",
    "# A : 70 or above\n",
    "# B : between 30 and 69\n",
    "# C : between 10 and 29\n",
    "# D : anything less than 10\n",
    "# if one of the grades is missing, simply skip over it\n",
    "\n",
    "exam_scores = {'Emily':[72,52,48,63],\n",
    "               'Demi':[78,65,55,75],\n",
    "               'Kush':[25,12,20,8],\n",
    "               'Fortune':[45,58,62,73],\n",
    "               'Sarah':[43,'?',38,52]}"
   ]
  },
  {
   "cell_type": "code",
   "execution_count": 25,
   "metadata": {},
   "outputs": [
    {
     "data": {
      "text/plain": [
       "{'Emily': ['A', 'B', 'B', 'B'],\n",
       " 'Demi': ['A', 'B', 'B', 'A'],\n",
       " 'Kush': ['C', 'C', 'C', 'D'],\n",
       " 'Fortune': ['B', 'B', 'B', 'A'],\n",
       " 'Sarah': ['B', '?', 'B', 'B']}"
      ]
     },
     "execution_count": 25,
     "metadata": {},
     "output_type": "execute_result"
    }
   ],
   "source": [
    "for name, scores in exam_scores.items():\n",
    "    for i in range(len(scores)):\n",
    "        if scores[i] == \"?\":\n",
    "            continue\n",
    "\n",
    "        if scores[i] >= 70:\n",
    "            scores[i] = \"A\"\n",
    "        elif scores[i] >= 30:\n",
    "            scores[i] = \"B\"\n",
    "        elif scores[i] >= 10:\n",
    "            scores[i] = \"C\"\n",
    "        elif scores[i] >= 0:\n",
    "            scores[i] = \"D\"\n",
    "        \n",
    "exam_scores"
   ]
  },
  {
   "cell_type": "code",
   "execution_count": null,
   "metadata": {},
   "outputs": [],
   "source": []
  },
  {
   "cell_type": "code",
   "execution_count": null,
   "metadata": {},
   "outputs": [],
   "source": []
  },
  {
   "cell_type": "markdown",
   "metadata": {},
   "source": [
    "<a id='list_comprehensions'></a>\n",
    "\n",
    "### Basic List Comprehensions\n",
    "\n",
    "---\n",
    "\n",
    "List comprehensions are a simple and powerful syntax that allow for fast, efficient, and intuitive manipulation of array-like data types.\n",
    "\n",
    "They are very useful replacements for iteration control statements!"
   ]
  },
  {
   "cell_type": "code",
   "execution_count": 28,
   "metadata": {
    "scrolled": true
   },
   "outputs": [
    {
     "data": {
      "text/plain": [
       "[1, 4, 9, 16, 25, 36, 100, 144]"
      ]
     },
     "execution_count": 28,
     "metadata": {},
     "output_type": "execute_result"
    }
   ],
   "source": [
    "#Let's write a for-loop to take the list below and return a list where each element has been squared:\n",
    "numbers_A = [1,2,3,4,5,6,10,12]\n",
    "\n",
    "answer = []\n",
    "for n in numbers_A:\n",
    "    answer.append(n ** 2)\n",
    "    \n",
    "answer\n",
    "\n",
    "# for i in range(len(numbers_A)):\n",
    "#     numbers_A[i] = numbers_A[i] ** 2\n",
    "    \n",
    "# numbers_A"
   ]
  },
  {
   "cell_type": "code",
   "execution_count": 29,
   "metadata": {},
   "outputs": [
    {
     "data": {
      "text/plain": [
       "[1, 9, 25, 49, 81, 121, 225]"
      ]
     },
     "execution_count": 29,
     "metadata": {},
     "output_type": "execute_result"
    }
   ],
   "source": [
    "#Now, let's do the same thing with a list comprehension:\n",
    "numbers_B = [1,3,5,7,9,11,15]\n",
    "\n",
    "answer = [n ** 2 for n in numbers_B]\n",
    "answer"
   ]
  },
  {
   "cell_type": "code",
   "execution_count": null,
   "metadata": {},
   "outputs": [],
   "source": [
    "# [expr for var in sequence]"
   ]
  },
  {
   "cell_type": "markdown",
   "metadata": {
    "slideshow": {
     "slide_type": "slide"
    }
   },
   "source": [
    "- Within the brackets these elements are similar to a for loop:\n",
    "  1. The **operation per element** or **expression for the outcome** comes first: `n**2`\n",
    "  2. Next is the **for loop variable assignment**: `for n`\n",
    "  3. Last comes the **list of elements to iterate over**: `in numbers_B`"
   ]
  },
  {
   "cell_type": "markdown",
   "metadata": {},
   "source": [
    "#### Quick Practice: Try these basic list comprehensions!"
   ]
  },
  {
   "cell_type": "code",
   "execution_count": 30,
   "metadata": {},
   "outputs": [
    {
     "data": {
      "text/plain": [
       "[56, 96, 76, 46, 26]"
      ]
     },
     "execution_count": 30,
     "metadata": {},
     "output_type": "execute_result"
    }
   ],
   "source": [
    "#Multiply every element in this list by 10, and then subtract 4:\n",
    "numbers = [6,10,8,5,3]\n",
    "# answer: [56, 96, 76, 46, 26]\n",
    "\n",
    "[n * 10 - 4 for n in numbers]"
   ]
  },
  {
   "cell_type": "code",
   "execution_count": 31,
   "metadata": {},
   "outputs": [
    {
     "data": {
      "text/plain": [
       "['Alex', 'Tom', 'Kate', 'Emily', 'Hilde']"
      ]
     },
     "execution_count": 31,
     "metadata": {},
     "output_type": "execute_result"
    }
   ],
   "source": [
    "#Use .capitalize() to get a list of the names with the first letters capitalized:\n",
    "names = ['alex','TOM','kate','Emily','hilde']\n",
    "\n",
    "[name.capitalize() for name in names]"
   ]
  },
  {
   "cell_type": "code",
   "execution_count": 32,
   "metadata": {},
   "outputs": [
    {
     "data": {
      "text/plain": [
       "['SK', 'RK', 'SB', 'GM', 'EL']"
      ]
     },
     "execution_count": 32,
     "metadata": {},
     "output_type": "execute_result"
    }
   ],
   "source": [
    "#Create a list of just the first two characters from the strings in the list below:\n",
    "strings = ['SK1908','RK1905','SB1001','GM1406','EL3005']\n",
    "# answer: ['SK', 'RK', 'SB', 'GM', 'EL']\n",
    "\n",
    "[s[:2] for s in strings]"
   ]
  },
  {
   "cell_type": "markdown",
   "metadata": {},
   "source": [
    "<a id='dictionary_comprehensions'></a>\n",
    "\n",
    "### Basic Dictionary Comprehensions\n",
    "\n",
    "---\n",
    "\n",
    "You can also use comprehensions to create dictionaries instead of lists!\n",
    "You'll need to use `{}` instead of `[]`, and you'll need to determine what you want the key:value pair to look like!"
   ]
  },
  {
   "cell_type": "code",
   "execution_count": 35,
   "metadata": {},
   "outputs": [
    {
     "data": {
      "text/plain": [
       "{'exasperated': 3, 'angry': 0, 'elated': 2, 'incredulous': 1}"
      ]
     },
     "execution_count": 35,
     "metadata": {},
     "output_type": "execute_result"
    }
   ],
   "source": [
    "#let's write a for-loop to create a dictionary that stores how many 'e's there are in the words below:\n",
    "words_A = ['exasperated','angry','elated','incredulous']\n",
    "# answer: {'exasperated': 3, 'angry': 0, 'elated': 2, 'incredulous': 1}\n",
    "\n",
    "answer = {}\n",
    "for word in words_A:\n",
    "    answer.update({word: word.count('e')})\n",
    "\n",
    "answer"
   ]
  },
  {
   "cell_type": "code",
   "execution_count": 36,
   "metadata": {},
   "outputs": [
    {
     "data": {
      "text/plain": [
       "{'embarrassed': 2, 'exhausted': 2, 'overjoyed': 2, 'embittered': 3}"
      ]
     },
     "execution_count": 36,
     "metadata": {},
     "output_type": "execute_result"
    }
   ],
   "source": [
    "#now let's do the same thing with a dictionary comprehension:\n",
    "words_B = ['embarrassed','exhausted','overjoyed','embittered']\n",
    "\n",
    "{w: w.count('e') for w in words_B}"
   ]
  },
  {
   "cell_type": "code",
   "execution_count": 37,
   "metadata": {},
   "outputs": [
    {
     "data": {
      "text/plain": [
       "{'embarrassed': (2, 2),\n",
       " 'exhausted': (2, 1),\n",
       " 'overjoyed': (2, 0),\n",
       " 'embittered': (3, 0)}"
      ]
     },
     "execution_count": 37,
     "metadata": {},
     "output_type": "execute_result"
    }
   ],
   "source": [
    "#now let's do the same thing again, but this time, let's count both the 'e's and the 'a's:\n",
    "words_B = ['embarrassed','exhausted','overjoyed','embittered']\n",
    "# answer: {'embarrassed': (2, 2), 'exhausted': (2, 1), 'overjoyed': (2, 0), 'embittered': (3, 0)}\n",
    "\n",
    "{w: (w.count('e'), w.count('a')) for w in words_B}"
   ]
  },
  {
   "cell_type": "markdown",
   "metadata": {},
   "source": [
    "#### Quick Practice: Try these basic dictionary comprehensions!"
   ]
  },
  {
   "cell_type": "code",
   "execution_count": 40,
   "metadata": {},
   "outputs": [
    {
     "data": {
      "text/plain": [
       "{'bus': 3, 'train': 5, 'airplane': 8, 'tram': 4, 'helicopter': 10}"
      ]
     },
     "execution_count": 40,
     "metadata": {},
     "output_type": "execute_result"
    }
   ],
   "source": [
    "#Create a dictionary storing the length of each word in the list below:\n",
    "words = ['bus','train','airplane','tram','helicopter']\n",
    "# answer: {'bus': 3, 'train': 5, 'airplane': 8, 'tram': 4, 'helicopter': 10}\n",
    "\n",
    "{w: len(w) for w in words}"
   ]
  },
  {
   "cell_type": "code",
   "execution_count": 1,
   "metadata": {},
   "outputs": [
    {
     "data": {
      "text/plain": [
       "{'GRANT': 5, 'SKETCHLEY': 9, 'REUSTLE': 7, 'HUSE': 4, 'MELLGARD': 8}"
      ]
     },
     "execution_count": 1,
     "metadata": {},
     "output_type": "execute_result"
    }
   ],
   "source": [
    "#Create a dictionary that stores the length of each of the surnames in the list below, but with the names capitalized:\n",
    "#ie: GRANT: 5, etc\n",
    "surnames = ['grant','Sketchley','REUSTLE','huse','Mellgard']\n",
    "# answer: {'GRANT': 5, 'SKETCHLEY': 9, ....}\n",
    "\n",
    "{s.upper(): len(s) for s in surnames}"
   ]
  },
  {
   "cell_type": "code",
   "execution_count": 7,
   "metadata": {},
   "outputs": [
    {
     "data": {
      "text/plain": [
       "{1: (1, 1), 2: (4, 8), 3: (9, 27), 4: (16, 64), 5: (25, 125)}"
      ]
     },
     "execution_count": 7,
     "metadata": {},
     "output_type": "execute_result"
    }
   ],
   "source": [
    "#Create a dictionary that stores the square and the cube of each of the numbers below:\n",
    "numbers = [1,2,3,4,5]\n",
    "# answer: {1: (1, 1), 2: (4, 8), 3: (9, 27), 4: (16, 64), 5: (25, 125)}\n",
    "\n",
    "{n: (n**2, n**3) for n in numbers}"
   ]
  },
  {
   "cell_type": "markdown",
   "metadata": {},
   "source": [
    "<a id='conditional_comprehensions'></a>\n",
    "\n",
    "### Conditional Logic within Comprehensions\n",
    "\n",
    "---\n",
    "\n",
    "You can use if/else statements within comprehensions, just the same way that you can in a for loop! \n",
    "\n",
    "A rule of thumb is:\n",
    "- If the 'if' is related to **changing the outcome** you actually have, then it goes at **the beginning of your comprehension** after the expression for the outcome\n",
    "- If the 'if' is **filtering out some of the values** (for example, you ONLY want to find the square roots of the positive numbers in a list, and skip all the negatives), then it goes right **at the end of your comprehension**"
   ]
  },
  {
   "cell_type": "code",
   "execution_count": 8,
   "metadata": {
    "slideshow": {
     "slide_type": "subslide"
    }
   },
   "outputs": [
    {
     "data": {
      "text/plain": [
       "[0, 0, 0, 1, 1]"
      ]
     },
     "execution_count": 8,
     "metadata": {},
     "output_type": "execute_result"
    }
   ],
   "source": [
    "#Let's write a for-loop to binarize the list of numbers below depending on whether they are above or below 10\n",
    "#(If the number is below 10, we replace it with 0; if it's above 10, we replace it with 1)\n",
    "numbers_A = [5,7,8,19,30]\n",
    "# answer: [0, 0, 0, 1, 1]\n",
    "\n",
    "answer = []\n",
    "for n in numbers_A:\n",
    "    if n > 10:\n",
    "        answer.append(1)\n",
    "    else:\n",
    "        answer.append(0)\n",
    "\n",
    "answer"
   ]
  },
  {
   "cell_type": "code",
   "execution_count": 9,
   "metadata": {},
   "outputs": [
    {
     "data": {
      "text/plain": [
       "[1, 0, 0, 1, 1]"
      ]
     },
     "execution_count": 9,
     "metadata": {},
     "output_type": "execute_result"
    }
   ],
   "source": [
    "#Now let's do the same thing with a list comprehension:\n",
    "numbers_B = [34,2,8,13,20]\n",
    "\n",
    "[1 if n > 10 else 0    for n in numbers_B]"
   ]
  },
  {
   "cell_type": "code",
   "execution_count": 16,
   "metadata": {},
   "outputs": [
    {
     "data": {
      "text/plain": [
       "{'ostentatious': 'long',\n",
       " 'house': 'short',\n",
       " 'industrial': 'long',\n",
       " 'dog': 'short',\n",
       " 'eat': 'short'}"
      ]
     },
     "execution_count": 16,
     "metadata": {},
     "output_type": "execute_result"
    }
   ],
   "source": [
    "#Let's write a dictionary comprehension to store whether each word is 'short' or 'long' in the list below\n",
    "#If the length of the word is over six letters, then we'll say it's 'long'; otherwise it's 'short'\n",
    "#We want to skip over any items that aren't words\n",
    "lst_A = ['ostentatious','house','industrial', None,'dog',8,'eat']\n",
    "# answer: {'ostentatious': 'long', 'house': 'short', 'industrial': 'long', ...}\n",
    "\n",
    "{a: 'long' if len(a) > 6 else 'short'    for a in lst_A   if type(a) == str}"
   ]
  },
  {
   "cell_type": "code",
   "execution_count": 17,
   "metadata": {},
   "outputs": [
    {
     "data": {
      "text/plain": [
       "{'ostentatious': 'long',\n",
       " 'house': 'medium',\n",
       " 'industrial': 'long',\n",
       " 'dog': 'short',\n",
       " 'eat': 'short'}"
      ]
     },
     "execution_count": 17,
     "metadata": {},
     "output_type": "execute_result"
    }
   ],
   "source": [
    "#Now let's try the same thing as above, but this time, if the word is between 4 and 6 letters, classify it as 'medium'\n",
    "lst_A = ['ostentatious','house','industrial',None,'dog',8,'eat']\n",
    "\n",
    "{a: 'long' if len(a) > 6 else 'short' if len(a) < 4 else 'medium'    for a in lst_A   if type(a) == str}"
   ]
  },
  {
   "cell_type": "markdown",
   "metadata": {},
   "source": [
    "#### Quick Practice: Try these comprehensions with conditionals!"
   ]
  },
  {
   "cell_type": "code",
   "execution_count": 18,
   "metadata": {},
   "outputs": [
    {
     "data": {
      "text/plain": [
       "{'cat': 3, 'elephant': 8, 'rabbit': 6}"
      ]
     },
     "execution_count": 18,
     "metadata": {},
     "output_type": "execute_result"
    }
   ],
   "source": [
    "#Write a dictionary comprehension to store the length of each of the words in the list below, \n",
    "#but only for the words that end in 't'!\n",
    "words = ['cat','dog','elephant','rabbit','lizard']\n",
    "# answer: {'cat': 3, 'elephant': 8, 'rabbit': 6}\n",
    "\n",
    "{w: len(w) for w in words if w.endswith(\"t\")}"
   ]
  },
  {
   "cell_type": "code",
   "execution_count": 23,
   "metadata": {},
   "outputs": [
    {
     "data": {
      "text/plain": [
       "[8, 15, 9, 20, 21]"
      ]
     },
     "execution_count": 23,
     "metadata": {},
     "output_type": "execute_result"
    }
   ],
   "source": [
    "#Write a list comprehension to multiply all the even numbers by 2 and all the odd numbers by 3\n",
    "#BUT only do this for the positive numbers!\n",
    "#(remember, you can use % to find the remainder after division for two numbers, \n",
    "#so 10%5 would be 0 because 5 fits into 10 evenly with no remainder)\n",
    "numbers = [4,5,3,10,-6,7]\n",
    "# answer: [8, 15, 9, 20, 21]\n",
    "\n",
    "\n",
    "[n*2 if n % 2 == 0 else n*3  for n in numbers if n > 0]"
   ]
  },
  {
   "cell_type": "markdown",
   "metadata": {},
   "source": [
    "<a id='zip_enumerate'></a>\n",
    "\n",
    "### Zip and Enumerate within Comprehensions\n",
    "\n",
    "---\n",
    "\n",
    "The functions `zip()` and `enumerate()` can be really helpful for list and dictionary comprehensions!\n",
    "\n",
    "`zip()` is great for pairing together items from two different lists.\n",
    "\n",
    "`enumerate()` is helpful when you want to use both the items and also the position of the item in the list"
   ]
  },
  {
   "cell_type": "code",
   "execution_count": 40,
   "metadata": {},
   "outputs": [
    {
     "data": {
      "text/plain": [
       "{'Tokyo': 37.8,\n",
       " 'Shanghai': 34.9,\n",
       " 'Jakarta': 31.7,\n",
       " 'Delhi': 26.5,\n",
       " 'Seoul': 25.5}"
      ]
     },
     "execution_count": 40,
     "metadata": {},
     "output_type": "execute_result"
    }
   ],
   "source": [
    "#Let's write a for-loop to create a dictionary that stores the populations of the cities below:\n",
    "cities_A = ['Tokyo','Shanghai','Jakarta','Delhi','Seoul']\n",
    "populations_A = [37.8,34.9,31.7,26.5,25.5]\n",
    "# answer: {'Tokyo': 37.8,'Shanghai': 34.9,'Jakarta': 31.7,'Delhi': 26.5,'Seoul': 25.5}\n",
    "\n",
    "answer = {}\n",
    "for c, p in zip(cities_A, populations_A):\n",
    "    answer.update({c: p})\n",
    "\n",
    "answer\n",
    "\n",
    "# for c, p in zip(cities_A, populations_A):\n",
    "#     print(c, p)\n",
    "\n",
    "# for i, c in enumerate(cities_A):\n",
    "#     print(i, c)\n",
    "\n",
    "# for i, t in enumerate(zip(cities_A, populations_A)):\n",
    "#     print(i, t)"
   ]
  },
  {
   "cell_type": "code",
   "execution_count": 30,
   "metadata": {},
   "outputs": [
    {
     "data": {
      "text/plain": [
       "{'Karachi': 25, 'Guangzhou': 25, 'Beijing': 25, 'Shenzhen': 23}"
      ]
     },
     "execution_count": 30,
     "metadata": {},
     "output_type": "execute_result"
    }
   ],
   "source": [
    "#Let's write a dictionary comprehension to store the population of the cities below to the nearest million, \n",
    "#but ONLY if they're more than 22 million\n",
    "cities_B = ['Karachi','Guangzhou','Beijing','Shenzhen','Mexico City']\n",
    "populations_B = [25.1,25.0,24.9,23.3,21.5]\n",
    "# answer: {'Karachi': 25,'Guangzhou': 25,'Beijing': 25,'Shenzhen': 23}\n",
    "\n",
    "{c: round(p) for c, p in zip(cities_B, populations_B) if p > 22}"
   ]
  },
  {
   "cell_type": "code",
   "execution_count": 37,
   "metadata": {},
   "outputs": [
    {
     "data": {
      "text/plain": [
       "['1 Tokyo',\n",
       " '2 Shanghai',\n",
       " '3 Jakarta',\n",
       " '4 Delhi',\n",
       " '5 Seoul',\n",
       " '6 Karachi',\n",
       " '7 Guangzhou',\n",
       " '8 Beijing',\n",
       " '9 Shenzhen',\n",
       " '10 Mexico City']"
      ]
     },
     "execution_count": 37,
     "metadata": {},
     "output_type": "execute_result"
    }
   ],
   "source": [
    "#Let's combine the two lists of cities together and then write a list comprehension to get a list of strings \n",
    "#that looks like ['1 Tokyo','2 Shanghai',...]\n",
    "\n",
    "[f'{i+1} {c}'  for i, c in enumerate(cities_A + cities_B)]"
   ]
  },
  {
   "cell_type": "code",
   "execution_count": 41,
   "metadata": {},
   "outputs": [
    {
     "data": {
      "text/plain": [
       "{'Tokyo': (1, 37.8),\n",
       " 'Shanghai': (2, 34.9),\n",
       " 'Jakarta': (3, 31.7),\n",
       " 'Delhi': (4, 26.5),\n",
       " 'Seoul': (5, 25.5),\n",
       " 'Karachi': (6, 25.1),\n",
       " 'Guangzhou': (7, 25.0),\n",
       " 'Beijing': (8, 24.9)}"
      ]
     },
     "execution_count": 41,
     "metadata": {},
     "output_type": "execute_result"
    }
   ],
   "source": [
    "#Let's create a dictionary that holds each city as the key, \n",
    "#and a tuple containing the ranking of the city and its population as the value\n",
    "#but ONLY for the top 8 cities\n",
    "#each entry should look like:  'Delhi': (4, 26.5)\n",
    "\n",
    "\n",
    "{t[0]: (i+1, t[1])  for i, t in enumerate(zip(cities_A + cities_B, populations_A + populations_B)) if i < 8}\n"
   ]
  },
  {
   "cell_type": "markdown",
   "metadata": {},
   "source": [
    "#### Quick Practice: Try these comprehensions with zip and enumerate!"
   ]
  },
  {
   "cell_type": "code",
   "execution_count": 43,
   "metadata": {},
   "outputs": [
    {
     "data": {
      "text/plain": [
       "{'Faye': 41, 'Ollie': 25, 'Roberto': 42}"
      ]
     },
     "execution_count": 43,
     "metadata": {},
     "output_type": "execute_result"
    }
   ],
   "source": [
    "#create a dictionary that stores each person's name with the total number of hours they worked last week\n",
    "#each entry should look like:   'Ollie': 25 \n",
    "employees = ['Faye','Ollie','Roberto']\n",
    "hours = [(5,8,10,10,8),(4,0,6,10,5),(8,8,7,9,10)]\n",
    "# answer: {'Faye': 41,'Ollie': 25,'Roberto': 42}\n",
    "\n",
    "{e: sum(h) for e, h in zip(employees, hours)}"
   ]
  },
  {
   "cell_type": "code",
   "execution_count": 121,
   "metadata": {},
   "outputs": [],
   "source": [
    "#A player rolls two dice and add their results together to get a total number of points\n",
    "#EXCEPT if either of the dice is a 1, in which case the player gets no points at all\n",
    "#OR if both of the dice are the same number (other than 1), in which case the player gets 20 points\n",
    "#create a dictionary of scores for the player with the rolls below\n",
    "die_1 = [3,4,2,5,6,4]\n",
    "die_2 = [2,1,2,6,4,4]\n",
    "\n"
   ]
  },
  {
   "cell_type": "markdown",
   "metadata": {},
   "source": [
    "Solution:\n",
    "\n",
    "<p style=\"color:white\">\n",
    "    {i:0 if t[0]==1 or t[1]==1 else 20 if t[0]==t[1] else sum(t) for i, t in enumerate(zip(die_1,die_2))}"
   ]
  },
  {
   "cell_type": "code",
   "execution_count": 122,
   "metadata": {},
   "outputs": [],
   "source": [
    "#the following is a list of 20 students in order of how well they did on an exam\n",
    "#the top three students and the bottom three students will change sets\n",
    "#create a list of only the top three students and the bottom three students, with their ranking\n",
    "#each entry should look like:   ('Matt', 1)\n",
    "students = ['Matt','Keri','Raushaun','CJ','Sean',\n",
    "            'Abdullah','Chris','Mabel','Anna','Liza',\n",
    "            'Sam','Alfie','Emma','Michael','Boris',\n",
    "            'Fred','Demi','Renata','Kush','Precious']\n"
   ]
  },
  {
   "cell_type": "code",
   "execution_count": 132,
   "metadata": {},
   "outputs": [],
   "source": [
    "#what if you want to use the same students as above, \n",
    "#but you want to examine the papers of the best student, the 5th best, the 10th best, and the 16th best?\n",
    "#you also want to combine the names of the student with their actual score from the list below\n",
    "#make a dictionary with each entry looking like:  'Matt': ('#1 out of 20', 94)\n",
    "scores = [94,92,88,80,75,73,70,65,64,63,58,55,54,52,50,48,47,38,35,30]"
   ]
  },
  {
   "cell_type": "markdown",
   "metadata": {},
   "source": [
    "Solution:\n",
    "\n",
    "<p style='color:white'>\n",
    "{t[0][1]: (f\"#{t[0][0]+1} out of 20\", t[1]) for t in zip(enumerate(students),scores)}"
   ]
  },
  {
   "cell_type": "markdown",
   "metadata": {},
   "source": [
    "<a id='nested_comprehensions'></a>\n",
    "\n",
    "### Nested List & Dictionary Comprehensions\n",
    "\n",
    "---\n",
    "\n",
    "Sometimes you might have more than one 'for element in list' phrase within a single comprehension!  This will happen whenever you're iterating through more than one thing.\n",
    "\n",
    "It may be helpful to remember that the nested comprehension for loops are in the same order as they would be in standard nested for loops, except the retrieved element comes first."
   ]
  },
  {
   "cell_type": "code",
   "execution_count": 44,
   "metadata": {},
   "outputs": [
    {
     "data": {
      "text/plain": [
       "[(1, 'A'),\n",
       " (1, 'B'),\n",
       " (1, 'C'),\n",
       " (2, 'A'),\n",
       " (2, 'B'),\n",
       " (2, 'C'),\n",
       " (3, 'A'),\n",
       " (3, 'B'),\n",
       " (3, 'C'),\n",
       " (4, 'A'),\n",
       " (4, 'B'),\n",
       " (4, 'C')]"
      ]
     },
     "execution_count": 44,
     "metadata": {},
     "output_type": "execute_result"
    }
   ],
   "source": [
    "#Using a for loop, let's create all the combinations possible for choosing a number plus a letter from the lists below:\n",
    "numbers = [1,2,3,4]\n",
    "letters = ['A','B','C']\n",
    "# answer: [(1, 'A'), (1, 'B'), (1, 'C'), (2, 'A'), (2, 'B'), ....]\n",
    "\n",
    "answer = []\n",
    "for n in numbers:\n",
    "    for l in letters:\n",
    "        answer.append((n, l))\n",
    "\n",
    "answer"
   ]
  },
  {
   "cell_type": "code",
   "execution_count": 45,
   "metadata": {},
   "outputs": [
    {
     "data": {
      "text/plain": [
       "[(5, 'A'),\n",
       " (5, 'B'),\n",
       " (6, 'A'),\n",
       " (6, 'B'),\n",
       " (7, 'A'),\n",
       " (7, 'B'),\n",
       " (8, 'A'),\n",
       " (8, 'B'),\n",
       " (9, 'A'),\n",
       " (9, 'B')]"
      ]
     },
     "execution_count": 45,
     "metadata": {},
     "output_type": "execute_result"
    }
   ],
   "source": [
    "#Now let's do the same thing with a list comprehension:\n",
    "numbers = [5,6,7,8,9]\n",
    "letters = ['A','B']\n",
    "\n",
    "[(n, l) for n in numbers for l in letters]"
   ]
  },
  {
   "cell_type": "code",
   "execution_count": 50,
   "metadata": {},
   "outputs": [
    {
     "data": {
      "text/plain": [
       "{'Katie': 22.24, 'Aaron': 42.56, 'Sheila': 36.64, 'Edward': 12.8}"
      ]
     },
     "execution_count": 50,
     "metadata": {},
     "output_type": "execute_result"
    }
   ],
   "source": [
    "#Using a comprehension, let's create a dictionary recording the distances \n",
    "#that each runner completed during their weekly runs\n",
    "#These are all in miles though, so let's convert those to kilometers first using 5 miles : 8 kilometers\n",
    "#Let's ONLY keep the distances that are over 2 miles, though\n",
    "runners = ['Katie','Aaron','Sheila','Edward']\n",
    "distances_list = [[1.3,3.5,2.9,3.5,4.0],[6.3,7.0,7.5,5.8],[4.5,4.5,5.1,4.3,4.5],[2.6,2.5,2.9]]\n",
    "\n",
    "{r: sum([d * 8 / 5 for d in d_lst if d > 2]) for r, d_lst in zip(runners, distances_list)}\n",
    "\n",
    "# [d for d in distances_list[0] if d > 2]"
   ]
  },
  {
   "cell_type": "markdown",
   "metadata": {},
   "source": [
    "###### Solution:\n",
    "<p style=\"color: white;\">\n",
    "distances_list = [[dis * 8 / 5 for dis in pl_dis if dis > 2] for pl_dis in distances_list]\n",
    "print(distances_list)\n",
    "pl_dis = {r: sum(d_lst) for r, d_lst in zip(runners, distances_list)}\n",
    "pl_dis\n",
    "</p>"
   ]
  },
  {
   "cell_type": "markdown",
   "metadata": {},
   "source": [
    "#### Quick Practice: Try these nested comprehensions!"
   ]
  },
  {
   "cell_type": "code",
   "execution_count": 6,
   "metadata": {},
   "outputs": [],
   "source": [
    "#Create a list of the square, cube, and fourth power of each of the numbers below\n",
    "#Your answer should be a dictionary of lists, where the last element is 10: [100,1000,10000]\n",
    "numbers = [1,2,3,4,5,6,10]\n",
    "exponents = [2,3,4]\n",
    "\n"
   ]
  },
  {
   "cell_type": "markdown",
   "metadata": {},
   "source": [
    "###### Solution:\n",
    "<p style=\"color: white;\">\n",
    "{n: [n**ex for ex in exponents] for n in numbers}\n",
    "</p>"
   ]
  },
  {
   "cell_type": "code",
   "execution_count": null,
   "metadata": {},
   "outputs": [],
   "source": []
  }
 ],
 "metadata": {
  "kernelspec": {
   "display_name": "Python 3",
   "language": "python",
   "name": "python3"
  },
  "language_info": {
   "codemirror_mode": {
    "name": "ipython",
    "version": 3
   },
   "file_extension": ".py",
   "mimetype": "text/x-python",
   "name": "python",
   "nbconvert_exporter": "python",
   "pygments_lexer": "ipython3",
   "version": "3.8.5"
  },
  "toc": {
   "nav_menu": {},
   "number_sections": false,
   "sideBar": true,
   "skip_h1_title": false,
   "title_cell": "Table of Contents",
   "title_sidebar": "Contents",
   "toc_cell": false,
   "toc_position": {},
   "toc_section_display": "block",
   "toc_window_display": false
  },
  "varInspector": {
   "cols": {
    "lenName": 16,
    "lenType": 16,
    "lenVar": 40
   },
   "kernels_config": {
    "python": {
     "delete_cmd_postfix": "",
     "delete_cmd_prefix": "del ",
     "library": "var_list.py",
     "varRefreshCmd": "print(var_dic_list())"
    },
    "r": {
     "delete_cmd_postfix": ") ",
     "delete_cmd_prefix": "rm(",
     "library": "var_list.r",
     "varRefreshCmd": "cat(var_dic_list()) "
    }
   },
   "types_to_exclude": [
    "module",
    "function",
    "builtin_function_or_method",
    "instance",
    "_Feature"
   ],
   "window_display": false
  }
 },
 "nbformat": 4,
 "nbformat_minor": 4
}
