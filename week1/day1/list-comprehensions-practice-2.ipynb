{
 "cells": [
  {
   "cell_type": "markdown",
   "metadata": {},
   "source": [
    "### Practice List Comprehensions\n",
    "\n",
    "This guided demo follows the lecture on list comprehensions!\n",
    "\n",
    "#### Section 1: Basic list comprehensions"
   ]
  },
  {
   "cell_type": "code",
   "execution_count": 1,
   "metadata": {},
   "outputs": [],
   "source": [
    "\n",
    "import string"
   ]
  },
  {
   "cell_type": "markdown",
   "metadata": {},
   "source": [
    "##### 1-A) Add 1 to every element in the list"
   ]
  },
  {
   "cell_type": "code",
   "execution_count": 3,
   "metadata": {},
   "outputs": [],
   "source": [
    "numbers = [0,1,2,3,4,5,6,7,8,9]\n",
    "\n"
   ]
  },
  {
   "cell_type": "markdown",
   "metadata": {},
   "source": [
    "##### Solution:\n",
    "<p style=\"display: none;\">\n",
    "[n + 1 for n in numbers]\n",
    "</p>"
   ]
  },
  {
   "cell_type": "markdown",
   "metadata": {},
   "source": [
    "#### Section 2: List comprehension conditional logic\n",
    "\n",
    "##### 2-A) \"Binarize\" n so that any value greater than or equal to the mean of n is 1, otherwise 0"
   ]
  },
  {
   "cell_type": "code",
   "execution_count": 5,
   "metadata": {},
   "outputs": [],
   "source": [
    "n = [1, 2, 7, 21, 3, 1, 62, 3, 34, 12, 73, 44, 12, 11, 9]\n"
   ]
  },
  {
   "cell_type": "markdown",
   "metadata": {},
   "source": [
    "##### Solution:\n",
    "<p style=\"display: none;\">\n",
    "mean = sum(n) / len(n)\n",
    "print(mean)\n",
    "[1 if i >= mean else 0 for i in n]\n",
    "</p>"
   ]
  },
  {
   "cell_type": "markdown",
   "metadata": {},
   "source": [
    "##### 2-B) Swap 1s to 0s and 0s to 1s. If the element is neither a 0 nor 1, make it None"
   ]
  },
  {
   "cell_type": "code",
   "execution_count": 7,
   "metadata": {},
   "outputs": [],
   "source": [
    "n = [0, 1, 0, 1, 2, 3, 5, 2, 1, 0]\n",
    "\n"
   ]
  },
  {
   "cell_type": "markdown",
   "metadata": {},
   "source": [
    "##### Solution:\n",
    "<p style=\"display: none;\">\n",
    "[1 if i == 0 else 0 if i == 1 else None for i in n]\n",
    "</p>"
   ]
  },
  {
   "cell_type": "markdown",
   "metadata": {},
   "source": [
    "#### Section 3: Nested list comprehensions\n",
    "\n",
    "##### 3-A) Get the square and square root of all non-negative numbers in the list"
   ]
  },
  {
   "cell_type": "code",
   "execution_count": 9,
   "metadata": {},
   "outputs": [],
   "source": [
    "n = [0, 1, 50, -23, -1, 75, -3]\n",
    "\n"
   ]
  },
  {
   "cell_type": "markdown",
   "metadata": {},
   "source": [
    "##### Solution:\n",
    "<p style=\"display: none;\">\n",
    "[[i**2, i**0.5] for i in n if i >= 0]\n",
    "</p>"
   ]
  },
  {
   "cell_type": "markdown",
   "metadata": {},
   "source": [
    "#### Section 4: Functions in list comprehensions\n",
    "\n",
    "##### 4-A) Combine elements of these two lists item by item into list pairs"
   ]
  },
  {
   "cell_type": "code",
   "execution_count": 11,
   "metadata": {},
   "outputs": [],
   "source": [
    "a = ['a','b','c','d']\n",
    "z = ['z','y','x','w']\n",
    "\n"
   ]
  },
  {
   "cell_type": "markdown",
   "metadata": {},
   "source": [
    "##### Solution:\n",
    "<p style=\"display: none;\">\n",
    "[(i, j) for i, j in zip(a, z)]\n",
    "</p>"
   ]
  },
  {
   "cell_type": "markdown",
   "metadata": {},
   "source": [
    "##### 4-B) Pair each index and element of this list into list pairs"
   ]
  },
  {
   "cell_type": "code",
   "execution_count": 13,
   "metadata": {},
   "outputs": [],
   "source": [
    "a = ['a','b','c','d']\n",
    "\n"
   ]
  },
  {
   "cell_type": "markdown",
   "metadata": {},
   "source": [
    "##### Solution:\n",
    "<p style=\"display: none;\">\n",
    "[(i, j) for i, j in enumerate(a)]\n",
    "</p>"
   ]
  },
  {
   "cell_type": "markdown",
   "metadata": {},
   "source": [
    "##### 4-C) For each element of each list, calculate the first list element times the index divided by the element of the second list"
   ]
  },
  {
   "cell_type": "code",
   "execution_count": 17,
   "metadata": {},
   "outputs": [],
   "source": [
    "list_one = [10, 15, 20, 25, 40]\n",
    "list_two = [1, 2, 3, 4, 5]\n",
    "\n"
   ]
  },
  {
   "cell_type": "markdown",
   "metadata": {},
   "source": [
    "##### Solution:\n",
    "<p style=\"display: none;\">\n",
    "[t[0] * i / t[1] for i, t in enumerate(zip(list_one, list_two))]\n",
    "</p>"
   ]
  },
  {
   "cell_type": "markdown",
   "metadata": {},
   "source": [
    "#### Section 5: Nested list comprehensions\n",
    "\n",
    "##### 5-A) Create all the alphabet \"syllables\" defined as consonant-vowel pairs in a flattened list [USING FOR LOOP ITERATION]"
   ]
  },
  {
   "cell_type": "code",
   "execution_count": 19,
   "metadata": {},
   "outputs": [],
   "source": [
    "vowels = ['a', 'e', 'i', 'o', 'u']\n",
    "alphabet = string.ascii_lowercase\n"
   ]
  },
  {
   "cell_type": "markdown",
   "metadata": {},
   "source": [
    "##### Solution:\n",
    "<p style=\"display: none;\">\n",
    "syllables = []\n",
    "for alpha in alphabet:\n",
    "    if alpha not in vowels:\n",
    "        for v in vowels:\n",
    "            syllables.append(alpha + v)\n",
    "\n",
    "syllables\n",
    "</p>"
   ]
  },
  {
   "cell_type": "markdown",
   "metadata": {},
   "source": [
    "##### 5-B) Create all the alphabet \"syllables\" defined as consonant-vowel pairs in a flattened list [USING A LIST COMPREHENSION]"
   ]
  },
  {
   "cell_type": "code",
   "execution_count": 21,
   "metadata": {},
   "outputs": [],
   "source": [
    "vowels = ['a', 'e', 'i', 'o', 'u']\n",
    "alphabet = string.ascii_lowercase\n"
   ]
  },
  {
   "cell_type": "markdown",
   "metadata": {},
   "source": [
    "##### Solution:\n",
    "<p style=\"display: none;\">\n",
    "syllabels = [c + v for c in alphabet if c not in vowels for v in vowels]\n",
    "syllabels\n",
    "</p>"
   ]
  },
  {
   "cell_type": "markdown",
   "metadata": {},
   "source": [
    "#### Section 6: Dictionary comprehensions\n",
    "\n",
    "##### 6-A) Make a dictionary where keys are animals and values are lists with the number value of each character in the key\n",
    "\n",
    "Hint: use the **ord()** function to convert characters to numbers."
   ]
  },
  {
   "cell_type": "code",
   "execution_count": 23,
   "metadata": {},
   "outputs": [],
   "source": [
    "keys = ['dog', 'cat', 'bird', 'horse']\n",
    "\n"
   ]
  },
  {
   "cell_type": "markdown",
   "metadata": {},
   "source": [
    "##### Solution:\n",
    "<p style=\"display: none;\">\n",
    "{animal: [ord(ch) for ch in animal] for animal in keys}\n",
    "</p>"
   ]
  },
  {
   "cell_type": "code",
   "execution_count": null,
   "metadata": {},
   "outputs": [],
   "source": []
  }
 ],
 "metadata": {
  "kernelspec": {
   "display_name": "Python 3",
   "language": "python",
   "name": "python3"
  },
  "language_info": {
   "codemirror_mode": {
    "name": "ipython",
    "version": 3
   },
   "file_extension": ".py",
   "mimetype": "text/x-python",
   "name": "python",
   "nbconvert_exporter": "python",
   "pygments_lexer": "ipython3",
   "version": "3.8.5"
  }
 },
 "nbformat": 4,
 "nbformat_minor": 4
}
