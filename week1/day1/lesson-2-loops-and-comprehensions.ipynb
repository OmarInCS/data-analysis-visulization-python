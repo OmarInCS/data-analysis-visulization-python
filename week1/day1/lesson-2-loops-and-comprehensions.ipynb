{
 "cells": [
  {
   "cell_type": "markdown",
   "metadata": {},
   "source": [
    "<img src=\"http://imgur.com/1ZcRyrc.png\" style=\"float: left; margin: 20px; height: 55px\">\n",
    "\n",
    "#  Python Review Iterations - for and while loops\n",
    "Week 1 | Day 2 | Lesson 1\n",
    "\n",
    "---"
   ]
  },
  {
   "cell_type": "markdown",
   "metadata": {},
   "source": [
    "### LEARNING OBJECTIVES\n",
    "\n",
    "- Formulate for and while loops\n",
    "- Iterate using for loops\n",
    "- Iterate using while loops"
   ]
  },
  {
   "cell_type": "markdown",
   "metadata": {},
   "source": [
    "---\n",
    "\n",
    "## Lesson Guide\n",
    "\n",
    "- [Introduction: for and while loops](#for-and-while-loops)\n",
    "- [Demo: for loops](#demo-for)\n",
    "- [Independent practice: for loops](#ind-practice-for)\n",
    "- [Demo: while loops](#demo-while)\n",
    "- [Independent practice: while loops](#ind-practice-while)\n",
    "- [Conclusions](#conclusion)\n",
    "- [Additional Resources](#resources)"
   ]
  },
  {
   "cell_type": "markdown",
   "metadata": {},
   "source": [
    "<a name=\"for-and-while-loops\"></a>\n",
    "## Introduction: for and while loops \n",
    "\n",
    "The for statement is used to iterate over the elements of a sequence, that means any kind of iterable object like strings, lists, tuples, dictionaries and so on. It's\n",
    "used when you have a piece of code which you want to repeat a certain number of times.\n",
    "\n",
    "The while loop tells the computer to do something as long as a condition is met.\n",
    "A while loop consists of a block of code and a condition. The condition\n",
    "is evaluated, and if the condition is true, the code within the\n",
    "block is executed. This repeats until the condition becomes false.\n",
    "\n",
    "[for and while loops at python for beginners](http://www.pythonforbeginners.com/control-flow-2/python-for-and-while-loops)\n",
    "\n",
    "[for and while loops at cyberciti](http://www.cyberciti.biz/faq/python-for-loop-examples-statements/)"
   ]
  },
  {
   "cell_type": "markdown",
   "metadata": {},
   "source": [
    "<a name=\"demo-for\"></a>\n",
    "## Demo: for loops\n",
    "\n",
    "The general syntax for a **for loop** is indicated below:\n",
    "\n",
    "```python\n",
    "    for iterator_name in iterating_sequence:\n",
    "        …statements…\n",
    "```\n",
    "\n",
    "A simple example:"
   ]
  },
  {
   "cell_type": "code",
   "execution_count": 4,
   "metadata": {},
   "outputs": [],
   "source": [
    "for count in [1, 2, 3]:\n",
    "    print(count)\n",
    "    print('Yes' * count)\n",
    "    \n",
    "print (count)"
   ]
  },
  {
   "cell_type": "markdown",
   "metadata": {},
   "source": [
    "This is a for loop. It has the heading starting with `for`, followed by a\n",
    "variable name (count in this case), the word `in`, some sequence, and a final colon.\n",
    "As with function definitions and other heading lines, the colon at the end of\n",
    "the line indicates that a consistently indented block of statements follows\n",
    "to complete the for loop.\n",
    "\n",
    "Let's try a simple repeat for loop. It serves to repeat the exact same action a specific number of times. In that case only the length of the sequence,\n",
    "not the individual elements are important."
   ]
  },
  {
   "cell_type": "code",
   "execution_count": 1,
   "metadata": {},
   "outputs": [
    {
     "name": "stdout",
     "output_type": "stream",
     "text": [
      "Hello\n",
      "Hello\n",
      "Hello\n",
      "Hello\n",
      "Hello\n",
      "Hello\n",
      "Hello\n",
      "Hello\n",
      "Hello\n",
      "Hello\n"
     ]
    }
   ],
   "source": [
    "# simple repeat loop - print the word 'Hello' 10 times\n",
    "\n"
   ]
  },
  {
   "cell_type": "markdown",
   "metadata": {},
   "source": [
    "Let's try a for loop through words.\n",
    "\n",
    "Using a for loop to go through the letters in a word"
   ]
  },
  {
   "cell_type": "code",
   "execution_count": 2,
   "metadata": {},
   "outputs": [
    {
     "name": "stdout",
     "output_type": "stream",
     "text": [
      "c\n",
      "o\n",
      "m\n",
      "p\n",
      "u\n",
      "t\n",
      "e\n",
      "r\n"
     ]
    }
   ],
   "source": [
    "# print the each letter of the word\n",
    "word = 'computer'\n",
    "\n"
   ]
  },
  {
   "cell_type": "markdown",
   "metadata": {},
   "source": [
    "Let's use a for loop to print out a list."
   ]
  },
  {
   "cell_type": "code",
   "execution_count": 3,
   "metadata": {},
   "outputs": [
    {
     "name": "stdout",
     "output_type": "stream",
     "text": [
      "earl grey\n",
      "darjeeling\n",
      "english breakfast\n",
      "lapsang souchong\n",
      "oolong\n",
      "kombucha\n",
      "green tea\n"
     ]
    }
   ],
   "source": [
    "# print each element of the list\n",
    "teas = ['earl grey', 'darjeeling', 'english breakfast', 'lapsang souchong', \n",
    "        'oolong', 'kombucha', 'green tea']\n",
    "\n"
   ]
  },
  {
   "cell_type": "markdown",
   "metadata": {},
   "source": [
    "[for loops at cyberciti](http://www.cyberciti.biz/faq/python-for-loop-examples-statements/)\n",
    "\n",
    "[for loops at python for beginners](http://www.pythonforbeginners.com/control-flow-2/python-for-and-while-loops)\n",
    "\n",
    "[for loops at python handson](http://anh.cs.luc.edu/python/hands-on/3.1/handsonHtml/loops.html)"
   ]
  },
  {
   "cell_type": "markdown",
   "metadata": {},
   "source": [
    "<a name=\"ind-practice-for\"></a>\n",
    "## Independent Practice: for loops\n",
    "\n",
    "Now, try creating a few for loops on your own with the exercises in the [starter code](Exercises_for_and_while_loops.ipynb)."
   ]
  },
  {
   "cell_type": "markdown",
   "metadata": {},
   "source": [
    "<a name=\"demo-while\"></a>\n",
    "## Demo: while loops \n",
    "\n",
    "The general syntax for a **while loop** is indicated below:\n",
    "\n",
    "```python\n",
    "    while condition:\n",
    "        …statements…\n",
    "```\n",
    "\n",
    "The syntax includes the following parts:\n",
    "* in the first line\n",
    "    * the keyword **`while`** \n",
    "    * followed by a condition which evaluates to `true` or `false`\n",
    "    * followed by a colon\n",
    "* an indented code block including all statements to be executed if the condition evaluates to true\n",
    "\n",
    "Once the statements have been executed, the condition will be checked again, and if it still holds, the statements will be executed once more and so on. This means that if the condition is met initially but not modified by any of the statements it will simply keep running, so be careful.\n",
    "\n",
    "Let's create a simple counter using a while loop."
   ]
  },
  {
   "cell_type": "code",
   "execution_count": 4,
   "metadata": {},
   "outputs": [
    {
     "name": "stdout",
     "output_type": "stream",
     "text": [
      "0\n",
      "1\n",
      "2\n",
      "3\n",
      "4\n",
      "5\n"
     ]
    }
   ],
   "source": [
    "# using while loop, print the numbers from 0-5\n",
    "\n"
   ]
  },
  {
   "cell_type": "markdown",
   "metadata": {},
   "source": [
    "Another counter using a while loop"
   ]
  },
  {
   "cell_type": "code",
   "execution_count": 1,
   "metadata": {},
   "outputs": [],
   "source": [
    "# swap the print and increment statements, and notice the difference\n",
    "\n",
    "\n"
   ]
  },
  {
   "cell_type": "markdown",
   "metadata": {},
   "source": [
    "And one more..."
   ]
  },
  {
   "cell_type": "code",
   "execution_count": 8,
   "metadata": {},
   "outputs": [
    {
     "name": "stdin",
     "output_type": "stream",
     "text": [
      "Enter text, [type \"stop\" to quit]:  stop\n"
     ]
    },
    {
     "name": "stdout",
     "output_type": "stream",
     "text": [
      "stop\n"
     ]
    }
   ],
   "source": [
    "reply = None\n",
    "while reply != 'stop':\n",
    "    reply = input('Enter text, [type \"stop\" to quit]: ')\n",
    "    reply = reply.lower()\n",
    "    print(reply)"
   ]
  },
  {
   "cell_type": "markdown",
   "metadata": {},
   "source": [
    "This while loop will stop when the user types \"stop\".\n",
    "\n",
    "Remember, a while loop runs until the condition is False. The problem is,\n",
    "sometimes they don't stop. To avoid this, here are some rules to follow:\n",
    "\n",
    "* Make sure that you use while-loops sparingly. Usually a for-loop is better.\n",
    "* Review your while statements and make sure that the boolean test will\n",
    "   become False at some point.\n",
    "* When in doubt, print out your test variable at the top and bottom of the\n",
    "   while-loop to see what it's doing.\n",
    "   \n",
    "[while loops at learn python the hard way](http://learnpythonthehardway.org/book/ex33.html)"
   ]
  },
  {
   "cell_type": "markdown",
   "metadata": {},
   "source": [
    "<a name=\"ind-practice-while\"></a>\n",
    "## Independent Practice: while loops\n",
    "\n",
    "- Now, create a few while loops on your own with the exercises in the [starter code](Exercises_for_and_while_loops.ipynb).\n",
    "\n",
    "<a name=\"conclusion\"></a>\n",
    "## Conclusion\n",
    "\n",
    "After this lesson you should be able to describe \n",
    "- when a for loop or a while loop are useful\n",
    "- what are the differences between for and while loops\n",
    "- potential dangers with while loops and what you can do to avoid them\n",
    "\n",
    "<a name=\"resources\"></a>\n",
    "## Additional resources\n",
    "\n",
    "- [for and while loops at python for beginners](http://www.pythonforbeginners.com/control-flow-2/python-for-and-while-loops)\n",
    "- [for loops at cyberciti](http://www.cyberciti.biz/faq/python-for-loop-examples-statements/)\n",
    "- [for loops at python hands-on](http://anh.cs.luc.edu/python/hands-on/3.1/handsonHtml/loops.html)\n",
    "- [while loops at learn python the hard way](http://learnpythonthehardway.org/book/ex33.html)"
   ]
  },
  {
   "cell_type": "markdown",
   "metadata": {
    "slideshow": {
     "slide_type": "slide"
    }
   },
   "source": [
    "<img src=\"http://imgur.com/1ZcRyrc.png\" style=\"float: left; margin: 20px; height: 55px\">\n",
    "\n",
    "# Python List & Dictionary Comprehensions\n",
    "Week 1 | Day 2 | Lesson 2\n",
    "\n",
    "---\n",
    "\n",
    "### Learning Objectives\n",
    "*After this lesson, you will be able to:*\n",
    "- Create list comprehensions \n",
    "- Create dictionary comprehensions \n",
    "- Use conditional logic (`if`/`else`) within list & dictionary comprehensions "
   ]
  },
  {
   "cell_type": "markdown",
   "metadata": {},
   "source": [
    "---\n",
    "\n",
    "### Lesson Guide\n",
    "\n",
    "- [Warm-Up on Python Basics](#warm-up)\n",
    "- [Basic List Comprehensions](#list_comprehensions)\n",
    "- [Basic Dictionary Comprehensions](#dictionary_comprehensions)\n",
    "- [Conditional Logic within Comprehensions](#conditional_comprehensions)\n"
   ]
  },
  {
   "cell_type": "markdown",
   "metadata": {},
   "source": [
    "<a id='list_comprehensions'></a>\n",
    "\n",
    "### Basic List Comprehensions\n",
    "\n",
    "---\n",
    "\n",
    "List comprehensions are a simple and powerful syntax that allow for fast, efficient, and intuitive manipulation of array-like data types.\n",
    "\n",
    "They are very useful replacements for iteration control statements!"
   ]
  },
  {
   "cell_type": "code",
   "execution_count": 2,
   "metadata": {
    "scrolled": true
   },
   "outputs": [],
   "source": [
    "#Let's write a for-loop to take the list below and return a list where each element has been squared:\n",
    "numbers_A = [1,2,3,4,5,6,10,12]\n"
   ]
  },
  {
   "cell_type": "code",
   "execution_count": 10,
   "metadata": {},
   "outputs": [
    {
     "data": {
      "text/plain": [
       "[1, 9, 25, 49, 81, 121, 225]"
      ]
     },
     "execution_count": 10,
     "metadata": {},
     "output_type": "execute_result"
    }
   ],
   "source": [
    "#Now, let's do the same thing with a list comprehension:\n",
    "numbers_B = [1,3,5,7,9,11,15]\n",
    "\n"
   ]
  },
  {
   "cell_type": "code",
   "execution_count": null,
   "metadata": {},
   "outputs": [],
   "source": []
  },
  {
   "cell_type": "markdown",
   "metadata": {
    "slideshow": {
     "slide_type": "slide"
    }
   },
   "source": [
    "- Within the brackets these elements are similar to a for loop:\n",
    "  1. The **operation per element** or **expression for the outcome** comes first: `n**2`\n",
    "  2. Next is the **for loop variable assignment**: `for n`\n",
    "  3. Last comes the **list of elements to iterate over**: `in numbers_B`"
   ]
  },
  {
   "cell_type": "markdown",
   "metadata": {},
   "source": [
    "#### Quick Practice: Try these basic list comprehensions!"
   ]
  },
  {
   "cell_type": "code",
   "execution_count": 3,
   "metadata": {},
   "outputs": [],
   "source": [
    "#Multiply every element in this list by 10, and then subtract 4:\n",
    "numbers = [6,10,8,5,3]\n"
   ]
  },
  {
   "cell_type": "code",
   "execution_count": 11,
   "metadata": {},
   "outputs": [
    {
     "data": {
      "text/plain": [
       "['Alex', 'Tom', 'Kate', 'Emily', 'Hilde']"
      ]
     },
     "execution_count": 11,
     "metadata": {},
     "output_type": "execute_result"
    }
   ],
   "source": [
    "#Use .capitalize() to get a list of the names with the first letters capitalized:\n",
    "names = ['alex','TOM','kate','Emily','hilde']\n"
   ]
  },
  {
   "cell_type": "code",
   "execution_count": 5,
   "metadata": {},
   "outputs": [],
   "source": [
    "#Create a list of just the first two characters from the strings in the list below:\n",
    "strings = ['SK1908','RK1905','SB1001','GM1406','EL3005']\n"
   ]
  },
  {
   "cell_type": "markdown",
   "metadata": {},
   "source": [
    "<a id='dictionary_comprehensions'></a>\n",
    "\n",
    "### Basic Dictionary Comprehensions\n",
    "\n",
    "---\n",
    "\n",
    "You can also use comprehensions to create dictionaries instead of lists!\n",
    "You'll need to use `{}` instead of `[]`, and you'll need to determine what you want the key:value pair to look like!"
   ]
  },
  {
   "cell_type": "code",
   "execution_count": 12,
   "metadata": {},
   "outputs": [
    {
     "data": {
      "text/plain": [
       "{'exasperated': 3, 'angry': 0, 'elated': 2, 'incredulous': 1}"
      ]
     },
     "execution_count": 12,
     "metadata": {},
     "output_type": "execute_result"
    }
   ],
   "source": [
    "#let's write a for-loop to create a dictionary that stores how many 'e's there are in the words below:\n",
    "# result: {'exasperated': 3, 'angry': 0, ...}\n",
    "words_A = ['exasperated','angry','elated','incredulous']\n",
    "\n"
   ]
  },
  {
   "cell_type": "code",
   "execution_count": 13,
   "metadata": {},
   "outputs": [
    {
     "data": {
      "text/plain": [
       "{'embarrassed': 2, 'exhausted': 2, 'overjoyed': 2, 'embittered': 3}"
      ]
     },
     "execution_count": 13,
     "metadata": {},
     "output_type": "execute_result"
    }
   ],
   "source": [
    "#now let's do the same thing with a dictionary comprehension: count()\n",
    "words_B = ['embarrassed','exhausted','overjoyed','embittered']\n"
   ]
  },
  {
   "cell_type": "code",
   "execution_count": 14,
   "metadata": {},
   "outputs": [
    {
     "data": {
      "text/plain": [
       "{'embarrassed': 4, 'exhausted': 3, 'overjoyed': 2, 'embittered': 3}"
      ]
     },
     "execution_count": 14,
     "metadata": {},
     "output_type": "execute_result"
    }
   ],
   "source": [
    "#now let's do the same thing again, but this time, let's count both the 'e's and the 'a's:\n",
    "# {'embarrassed': 4,'exhausted': 3,'overjoyed': 2,'embittered': 3}\n",
    "words_B = ['embarrassed','exhausted','overjoyed','embittered']\n",
    "\n"
   ]
  },
  {
   "cell_type": "markdown",
   "metadata": {},
   "source": [
    "#### Quick Practice: Try these basic dictionary comprehensions!"
   ]
  },
  {
   "cell_type": "code",
   "execution_count": 9,
   "metadata": {},
   "outputs": [],
   "source": [
    "#Create a dictionary storing the length of each word in the list below:\n",
    "words = ['bus','train','airplane','tram','helicopter']\n"
   ]
  },
  {
   "cell_type": "code",
   "execution_count": 10,
   "metadata": {},
   "outputs": [],
   "source": [
    "#Create a dictionary that stores the length of each of the surnames in the list below, but with the names capitalized:\n",
    "#ie: GRANT: 5, etc\n",
    "surnames = ['grant','Sketchley','REUSTLE','huse','Mellgard']\n"
   ]
  },
  {
   "cell_type": "code",
   "execution_count": 11,
   "metadata": {},
   "outputs": [],
   "source": [
    "#Create a dictionary that stores the square and the cube of each of the numbers below:\n",
    "numbers = [1,2,3,4,5]\n"
   ]
  }
 ],
 "metadata": {
  "anaconda-cloud": {},
  "kernelspec": {
   "display_name": "Python 3",
   "language": "python",
   "name": "python3"
  },
  "language_info": {
   "codemirror_mode": {
    "name": "ipython",
    "version": 3
   },
   "file_extension": ".py",
   "mimetype": "text/x-python",
   "name": "python",
   "nbconvert_exporter": "python",
   "pygments_lexer": "ipython3",
   "version": "3.8.5"
  },
  "toc": {
   "nav_menu": {},
   "number_sections": false,
   "sideBar": true,
   "skip_h1_title": true,
   "title_cell": "Table of Contents",
   "title_sidebar": "Contents",
   "toc_cell": false,
   "toc_position": {},
   "toc_section_display": "block",
   "toc_window_display": false
  }
 },
 "nbformat": 4,
 "nbformat_minor": 4
}
