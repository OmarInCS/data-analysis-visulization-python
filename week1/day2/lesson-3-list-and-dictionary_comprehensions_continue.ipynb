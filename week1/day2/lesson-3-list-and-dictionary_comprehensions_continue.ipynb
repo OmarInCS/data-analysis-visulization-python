{
 "cells": [
  {
   "cell_type": "markdown",
   "metadata": {
    "slideshow": {
     "slide_type": "slide"
    }
   },
   "source": [
    "<img src=\"http://imgur.com/1ZcRyrc.png\" style=\"float: left; margin: 20px; height: 55px\">\n",
    "\n",
    "# Python List & Dictionary Comprehensions (Continue)\n",
    "\n",
    "---\n",
    "\n",
    "### Learning Objectives\n",
    "*After this lesson, you will be able to:*\n",
    "- Use conditional logic (`if`/`else`) within list & dictionary comprehensions\n",
    "- Use `zip()` and `enumerate()` within list & dictionary comprehensions\n",
    "- Use nested list & dictionary comprehensions "
   ]
  },
  {
   "cell_type": "markdown",
   "metadata": {},
   "source": [
    "---\n",
    "\n",
    "### Lesson Guide\n",
    "\n",
    "- [Conditional Logic within Comprehensions](#conditional_comprehensions)\n",
    "- [Zip and Enumerate within Comprehensions](#zip_enumerate)\n",
    "- [Nested Comprehensions](#nested_comprehensions)"
   ]
  },
  {
   "cell_type": "markdown",
   "metadata": {},
   "source": [
    "<a id='conditional_comprehensions'></a>\n",
    "\n",
    "### Conditional Logic within Comprehensions\n",
    "\n",
    "---\n",
    "\n",
    "You can use if/else statements within comprehensions, just the same way that you can in a for loop! \n",
    "\n",
    "A rule of thumb is:\n",
    "- If the 'if' is related to **changing the outcome** you actually have, then it goes at **the beginning of your comprehension** after the expression for the outcome\n",
    "- If the 'if' is **filtering out some of the values** (for example, you ONLY want to find the square roots of the positive numbers in a list, and skip all the negatives), then it goes right **at the end of your comprehension**"
   ]
  },
  {
   "cell_type": "code",
   "execution_count": 1,
   "metadata": {
    "slideshow": {
     "slide_type": "subslide"
    }
   },
   "outputs": [],
   "source": [
    "#Let's write a for-loop to binarize the list of numbers below depending on whether they are above or below 10\n",
    "#(If the number is below 10, we replace it with 0; if it's above 10, we replace it with 1)\n",
    "# [0, 0, 0, 1, 1]\n",
    "numbers_A = [5,7,8,19,30]\n",
    "\n"
   ]
  },
  {
   "cell_type": "markdown",
   "metadata": {},
   "source": [
    "<details>\n",
    "    <summary>Solution</summary>\n",
    "    <code>[0 if n < 10 else 1 for n in numbers_A]</code>\n",
    "</details>"
   ]
  },
  {
   "cell_type": "code",
   "execution_count": 13,
   "metadata": {},
   "outputs": [],
   "source": [
    "#Now let's do the same thing with a list comprehension:\n",
    "numbers_B = [34,2,8,13,20]\n"
   ]
  },
  {
   "cell_type": "code",
   "execution_count": 1,
   "metadata": {},
   "outputs": [],
   "source": [
    "#Let's write a dictionary comprehension to store whether each word is 'short' or 'long' in the list below\n",
    "#If the length of the word is over six letters, then we'll say it's 'long'; otherwise it's 'short'\n",
    "#We want to skip over any items that aren't words\n",
    "# {'ostentatious': 'long','house': 'short','industrial': 'long', 'dog': 'short','eat': 'short'}\n",
    "lst_A = ['ostentatious','house','industrial', None,'dog',8,'eat']\n",
    "\n"
   ]
  },
  {
   "cell_type": "markdown",
   "metadata": {},
   "source": [
    "<details>\n",
    "    <summary>Solution</summary>\n",
    "    <code>{w: 'long' if len(w) > 6 else 'short' for w in lst_A if type(w) == str}</code>\n",
    "</details>"
   ]
  },
  {
   "cell_type": "code",
   "execution_count": 4,
   "metadata": {},
   "outputs": [],
   "source": [
    "#Now let's try the same thing as above, but this time, if the word is between 4 and 6 letters, classify it as 'medium'\n",
    "lst_A = ['ostentatious','house','industrial',None,'dog',8,'eat']\n",
    "\n"
   ]
  },
  {
   "cell_type": "markdown",
   "metadata": {},
   "source": [
    "<details>\n",
    "    <summary>Solution</summary>\n",
    "    <code>{w: 'long' if len(w) > 6 else 'medium' if len(w) >= 4 else 'short' for w in lst_A if type(w) == str}</code>\n",
    "</details>"
   ]
  },
  {
   "cell_type": "markdown",
   "metadata": {},
   "source": [
    "#### Quick Practice: Try these comprehensions with conditionals!"
   ]
  },
  {
   "cell_type": "code",
   "execution_count": 2,
   "metadata": {},
   "outputs": [],
   "source": [
    "#Write a dictionary comprehension to store the length of each of the words in the list below, \n",
    "#but only for the words that end in 't'!\n",
    "words = ['cat','dog','elephant','rabbit','lizard']\n",
    "\n"
   ]
  },
  {
   "cell_type": "code",
   "execution_count": 17,
   "metadata": {},
   "outputs": [],
   "source": [
    "#Write a list comprehension to multiply all the even numbers by 2 and all the odd numbers by 3\n",
    "#BUT only do this for the positive numbers!\n",
    "#(remember, you can use % to find the remainder after division for two numbers, \n",
    "#so 10%5 would be 0 because 5 fits into 10 evenly with no remainder)\n",
    "numbers = [4,5,3,10,-6,7]\n"
   ]
  },
  {
   "cell_type": "markdown",
   "metadata": {},
   "source": [
    "<a id='zip_enumerate'></a>\n",
    "\n",
    "### Zip and Enumerate within Comprehensions\n",
    "\n",
    "---\n",
    "\n",
    "The functions `zip()` and `enumerate()` can be really helpful for list and dictionary comprehensions!\n",
    "\n",
    "`zip()` is great for pairing together items from two different lists.\n",
    "\n",
    "`enumerate()` is helpful when you want to use both the items and also the position of the item in the list"
   ]
  },
  {
   "cell_type": "code",
   "execution_count": 3,
   "metadata": {},
   "outputs": [],
   "source": [
    "#Let's write a for-loop to create a dictionary that stores the populations of the cities below:\n",
    "cities_A = ['Tokyo','Shanghai','Jakarta','Delhi','Seoul']\n",
    "populations_A = [37.8,34.9,31.7,26.5,25.5]\n",
    "\n",
    "\n"
   ]
  },
  {
   "cell_type": "markdown",
   "metadata": {},
   "source": [
    "<pre>\n",
    "<details>\n",
    "    <summary>Solution</summary>\n",
    "    <code>\n",
    "d = {}\n",
    "for c, p in zip(cities_A, populations_A):\n",
    "    if p > 30:\n",
    "        d[c] = p\n",
    "d\n",
    "    </code>\n",
    "</details>\n",
    "</pre>"
   ]
  },
  {
   "cell_type": "code",
   "execution_count": 7,
   "metadata": {},
   "outputs": [],
   "source": [
    "#Let's write a dictionary comprehension to store the population of the cities below to the nearest million, \n",
    "#but ONLY if they're more than 22 million\n",
    "# {'Karachi': 25.1,'Guangzhou': 25.0,'Beijing': 24.9,'Shenzhen': 23.3}\n",
    "cities_B = ['Karachi','Guangzhou','Beijing','Shenzhen','Mexico City']\n",
    "populations_B = [25.1,25.0,24.9,23.3,21.5]\n",
    "\n"
   ]
  },
  {
   "cell_type": "markdown",
   "metadata": {},
   "source": [
    "<details>\n",
    "    <summary>Solution</summary>\n",
    "    <code>{c: p for c, p in zip(cities_B, populations_B) if p > 22}</code>\n",
    "</details>"
   ]
  },
  {
   "cell_type": "code",
   "execution_count": 5,
   "metadata": {},
   "outputs": [],
   "source": [
    "#Let's combine the two lists of cities together and then write a list comprehension to get a list of strings \n",
    "#that looks like ['1 Tokyo','2 Shanghai',...]\n",
    "\n",
    "all_citities = cities_A + cities_B\n",
    "\n"
   ]
  },
  {
   "cell_type": "markdown",
   "metadata": {},
   "source": [
    "<pre>\n",
    "<details>\n",
    "    <summary>Solution</summary>\n",
    "<code>\n",
    "cities = cities_A + cities_B\n",
    "[f\"{i+1} {c}\" for i, c in enumerate(cities)]\n",
    "</code>\n",
    "</details>\n",
    "</pre>"
   ]
  },
  {
   "cell_type": "code",
   "execution_count": 6,
   "metadata": {},
   "outputs": [],
   "source": [
    "#Let's create a dictionary that holds each city as the key, \n",
    "#and a tuple containing the ranking of the city and its population as the value\n",
    "#but ONLY for the top 8 cities\n",
    "#each entry should look like:  'Delhi': (4, 26.5)\n",
    "\n",
    "all_citities = cities_A + cities_B\n",
    "all_populations = populations_A + populations_B\n",
    "\n"
   ]
  },
  {
   "cell_type": "markdown",
   "metadata": {},
   "source": [
    "<pre>\n",
    "<details>\n",
    "    <summary>Solution</summary>\n",
    "    <code>\n",
    "popoulations = populations_A + populations_B\n",
    "{c: (i+1, p) for i, (c, p) in enumerate(zip(cities, popoulations)) if i < 8}\n",
    "    </code>\n",
    "</details>\n",
    "</pre>"
   ]
  },
  {
   "cell_type": "markdown",
   "metadata": {},
   "source": [
    "#### Quick Practice: Try these comprehensions with zip and enumerate!"
   ]
  },
  {
   "cell_type": "code",
   "execution_count": null,
   "metadata": {},
   "outputs": [],
   "source": [
    "#create a dictionary that stores each person's name with the total number of hours they worked last week\n",
    "#each entry should look like:   'Ollie': 25 \n",
    "employees = ['Faye','Ollie','Roberto']\n",
    "hours = [(5,8,10,10,8),(4,0,6,10,5),(8,8,7,9,10)]\n"
   ]
  },
  {
   "cell_type": "code",
   "execution_count": 121,
   "metadata": {},
   "outputs": [],
   "source": [
    "#A player rolls two dice and add their results together to get a total number of points\n",
    "#EXCEPT if either of the dice is a 1, in which case the player gets no points at all\n",
    "#OR if both of the dice are the same number (other than 1), in which case the player gets 20 points\n",
    "#create a dictionary of scores for the player with the rolls below\n",
    "die_1 = [3,4,2,5,6,4]\n",
    "die_2 = [2,1,2,6,4,4]\n"
   ]
  },
  {
   "cell_type": "markdown",
   "metadata": {},
   "source": [
    "Solution:\n",
    "\n",
    "<p style=\"color:white\">{i:0 if t[0]==1 or t[1]==1 else 20 if t[0]==t[1] else sum(t) for i, t in enumerate(zip(die_1,die_2))}"
   ]
  },
  {
   "cell_type": "code",
   "execution_count": 122,
   "metadata": {},
   "outputs": [],
   "source": [
    "#the following is a list of 20 students in order of how well they did on an exam\n",
    "#the top three students and the bottom three students will change sets\n",
    "#create a list of only the top three students and the bottom three students, with their ranking\n",
    "#each entry should look like:   ('Matt', 1)\n",
    "students = ['Matt','Keri','Raushaun','CJ','Sean',\n",
    "            'Abdullah','Chris','Mabel','Anna','Liza',\n",
    "            'Sam','Alfie','Emma','Michael','Boris',\n",
    "            'Fred','Demi','Renata','Kush','Precious']\n",
    "\n",
    "\n"
   ]
  },
  {
   "cell_type": "code",
   "execution_count": 132,
   "metadata": {},
   "outputs": [],
   "source": [
    "#what if you want to use the same students as above, \n",
    "#but you want to examine the papers of the best student, the 5th best, the 10th best, and the 16th best?\n",
    "#you also want to combine the names of the student with their actual score from the list below\n",
    "#make a dictionary with each entry looking like:  'Matt': ('#1 out of 20', 94)\n",
    "scores = [94,92,88,80,75,73,70,65,64,63,58,55,54,52,50,48,47,38,35,30]\n",
    "\n"
   ]
  },
  {
   "cell_type": "markdown",
   "metadata": {},
   "source": [
    "Solution:\n",
    "\n",
    "<p style='color:white'>\n",
    "{t[0][1]: (f\"#{t[0][0]+1} out of 20\", t[1]) for t in zip(enumerate(students),scores)}"
   ]
  },
  {
   "cell_type": "markdown",
   "metadata": {},
   "source": [
    "<a id='nested_comprehensions'></a>\n",
    "\n",
    "### Nested List & Dictionary Comprehensions\n",
    "\n",
    "---\n",
    "\n",
    "Sometimes you might have more than one 'for element in list' phrase within a single comprehension!  This will happen whenever you're iterating through more than one thing.\n",
    "\n",
    "It may be helpful to remember that the nested comprehension for loops are in the same order as they would be in standard nested for loops, except the retrieved element comes first."
   ]
  },
  {
   "cell_type": "code",
   "execution_count": 7,
   "metadata": {},
   "outputs": [],
   "source": [
    "#Using a for loop, let's create all the combinations possible for choosing a number plus a letter from the lists below:\n",
    "numbers = [1,2,3,4]\n",
    "letters = ['A','B','C']\n",
    "\n"
   ]
  },
  {
   "cell_type": "code",
   "execution_count": 8,
   "metadata": {},
   "outputs": [],
   "source": [
    "#Now let's do the same thing with a list comprehension:\n",
    "numbers = [5,6,7,8,9]\n",
    "letters = ['A','B']\n",
    "\n"
   ]
  },
  {
   "cell_type": "markdown",
   "metadata": {},
   "source": [
    "<details>\n",
    "    <summary>Solution</summary>\n",
    "    <code>[(n, l) for n in numbers for l in letters]</code>\n",
    "</details>"
   ]
  },
  {
   "cell_type": "code",
   "execution_count": 34,
   "metadata": {},
   "outputs": [
    {
     "data": {
      "text/plain": [
       "{'Katie': 22.24, 'Aaron': 42.56, 'Sheila': 36.64, 'Edward': 12.8}"
      ]
     },
     "execution_count": 34,
     "metadata": {},
     "output_type": "execute_result"
    }
   ],
   "source": [
    "#Using a comprehension, let's create a dictionary recording the distances \n",
    "#that each runner completed during their weekly runs\n",
    "#These are all in miles though, so let's convert those to kilometers first using 5 miles : 8 kilometers\n",
    "#Let's ONLY keep the distances that are over 2 miles, though\n",
    "runners = ['Katie','Aaron','Sheila','Edward']\n",
    "distances_list = [[1.3,3.5,2.9,3.5,4.0],[6.3,7.0,7.5,5.8],[4.5,4.5,5.1,4.3,4.5],[2.6,2.5,2.9]]\n",
    "\n"
   ]
  },
  {
   "cell_type": "markdown",
   "metadata": {
    "tags": []
   },
   "source": [
    "###### Solution:\n",
    "<p style=\"color: white;\">\n",
    "distances_list = [[dis * 8 / 5 for dis in pl_dis if dis > 2] for pl_dis in distances_list]\n",
    "print(distances_list)\n",
    "pl_dis = {r: sum(d_lst) for r, d_lst in zip(runners, distances_list)}\n",
    "pl_dis\n",
    "</p>"
   ]
  },
  {
   "cell_type": "markdown",
   "metadata": {},
   "source": [
    "#### Quick Practice: Try these nested comprehensions!"
   ]
  },
  {
   "cell_type": "code",
   "execution_count": 6,
   "metadata": {},
   "outputs": [],
   "source": [
    "#Create a list of the square, cube, and fourth power of each of the numbers below\n",
    "#Your answer should be a dictionary of lists, where the last element is 10: [100,1000,10000]\n",
    "numbers = [1,2,3,4,5,6,10]\n",
    "exponents = [2,3,4]\n",
    "\n"
   ]
  },
  {
   "cell_type": "markdown",
   "metadata": {},
   "source": [
    "###### Solution:\n",
    "<p style=\"color: white;\">\n",
    "{n: [n**ex for ex in exponents] for n in numbers}\n",
    "</p>"
   ]
  },
  {
   "cell_type": "code",
   "execution_count": null,
   "metadata": {},
   "outputs": [],
   "source": []
  }
 ],
 "metadata": {
  "kernelspec": {
   "display_name": "Python 3 (ipykernel)",
   "language": "python",
   "name": "python3"
  },
  "language_info": {
   "codemirror_mode": {
    "name": "ipython",
    "version": 3
   },
   "file_extension": ".py",
   "mimetype": "text/x-python",
   "name": "python",
   "nbconvert_exporter": "python",
   "pygments_lexer": "ipython3",
   "version": "3.9.12"
  },
  "toc": {
   "nav_menu": {},
   "number_sections": false,
   "sideBar": true,
   "skip_h1_title": false,
   "title_cell": "Table of Contents",
   "title_sidebar": "Contents",
   "toc_cell": false,
   "toc_position": {},
   "toc_section_display": "block",
   "toc_window_display": false
  },
  "varInspector": {
   "cols": {
    "lenName": 16,
    "lenType": 16,
    "lenVar": 40
   },
   "kernels_config": {
    "python": {
     "delete_cmd_postfix": "",
     "delete_cmd_prefix": "del ",
     "library": "var_list.py",
     "varRefreshCmd": "print(var_dic_list())"
    },
    "r": {
     "delete_cmd_postfix": ") ",
     "delete_cmd_prefix": "rm(",
     "library": "var_list.r",
     "varRefreshCmd": "cat(var_dic_list()) "
    }
   },
   "types_to_exclude": [
    "module",
    "function",
    "builtin_function_or_method",
    "instance",
    "_Feature"
   ],
   "window_display": false
  }
 },
 "nbformat": 4,
 "nbformat_minor": 4
}
