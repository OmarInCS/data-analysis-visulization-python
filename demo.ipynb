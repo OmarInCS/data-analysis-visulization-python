{
 "cells": [
  {
   "cell_type": "code",
   "execution_count": 1,
   "id": "c16affce-9f29-440c-b726-b1b767a42d28",
   "metadata": {},
   "outputs": [
    {
     "name": "stdout",
     "output_type": "stream",
     "text": [
      "Hello World\n"
     ]
    }
   ],
   "source": [
    "print(\"Hello World\")"
   ]
  },
  {
   "cell_type": "markdown",
   "id": "6b676a97-64b0-4f74-984f-bb1c8e4d9330",
   "metadata": {},
   "source": [
    "# Python Lists\n",
    "### List methods\n",
    "\n",
    "   - append\n",
    "   - insert\n",
    "   - pop\n",
    "   - clear"
   ]
  },
  {
   "cell_type": "markdown",
   "id": "8ec2b81d-2ca5-4f25-b5c9-314a83624ebc",
   "metadata": {},
   "source": [
    "#### To switch to command mode `Esc + m + Enter`\n",
    "\n",
    "Author: **Omar Karem** <br>\n",
    "Position: *Data Analyst*\n",
    "\n",
    "[More about list](https://developers.google.com/edu/python/lists) <br>\n",
    "![List Image](https://static.javatpoint.com/python/images/lists-indexing-and-splitting.png)"
   ]
  },
  {
   "cell_type": "code",
   "execution_count": 2,
   "id": "e384f463-2f20-4ae1-bc71-7de8cae2221a",
   "metadata": {},
   "outputs": [],
   "source": [
    "marks = [23, 25, 18, 15]"
   ]
  },
  {
   "cell_type": "code",
   "execution_count": 3,
   "id": "63407a9a-9e1c-4df4-bcce-a506d86c0af5",
   "metadata": {},
   "outputs": [
    {
     "data": {
      "text/plain": [
       "[23, 25, 18, 15]"
      ]
     },
     "execution_count": 3,
     "metadata": {},
     "output_type": "execute_result"
    }
   ],
   "source": [
    "marks"
   ]
  },
  {
   "cell_type": "code",
   "execution_count": 6,
   "id": "6a7c6ee7-fee1-4f3a-90e8-20ad42b4a937",
   "metadata": {},
   "outputs": [
    {
     "data": {
      "text/plain": [
       "23"
      ]
     },
     "execution_count": 6,
     "metadata": {},
     "output_type": "execute_result"
    }
   ],
   "source": [
    "marks[0]"
   ]
  },
  {
   "cell_type": "code",
   "execution_count": 7,
   "id": "f41bb163-4167-43f9-a445-2e3de23f742d",
   "metadata": {},
   "outputs": [
    {
     "data": {
      "text/plain": [
       "15"
      ]
     },
     "execution_count": 7,
     "metadata": {},
     "output_type": "execute_result"
    }
   ],
   "source": [
    "marks[-1]"
   ]
  },
  {
   "cell_type": "code",
   "execution_count": 8,
   "id": "766e1b5a-ff6f-4222-8ab6-b74026dbaf8c",
   "metadata": {},
   "outputs": [
    {
     "data": {
      "text/plain": [
       "[23, 25, 18]"
      ]
     },
     "execution_count": 8,
     "metadata": {},
     "output_type": "execute_result"
    }
   ],
   "source": [
    "marks[0:3]"
   ]
  },
  {
   "cell_type": "code",
   "execution_count": 9,
   "id": "4fe1a9bb-f23e-4568-81ed-8c4fc0c4a8e0",
   "metadata": {},
   "outputs": [],
   "source": [
    "marks[-1] = 20"
   ]
  },
  {
   "cell_type": "code",
   "execution_count": 10,
   "id": "1998d3e3-31eb-4601-9946-c80f87856969",
   "metadata": {},
   "outputs": [
    {
     "data": {
      "text/plain": [
       "[23, 25, 18, 20]"
      ]
     },
     "execution_count": 10,
     "metadata": {},
     "output_type": "execute_result"
    }
   ],
   "source": [
    "marks"
   ]
  },
  {
   "cell_type": "code",
   "execution_count": 11,
   "id": "d1342ae0-f1d1-4fa1-b138-9a69e48f5d1f",
   "metadata": {},
   "outputs": [
    {
     "data": {
      "text/plain": [
       "[23, 25, 18, 20, 13]"
      ]
     },
     "execution_count": 11,
     "metadata": {},
     "output_type": "execute_result"
    }
   ],
   "source": [
    "marks.append(13)\n",
    "marks"
   ]
  },
  {
   "cell_type": "code",
   "execution_count": 12,
   "id": "7926d133-ef83-4b04-bf52-b663ed2b52be",
   "metadata": {},
   "outputs": [
    {
     "data": {
      "text/plain": [
       "[18, 23, 25, 18, 20, 13]"
      ]
     },
     "execution_count": 12,
     "metadata": {},
     "output_type": "execute_result"
    }
   ],
   "source": [
    "marks.insert(0, 18)\n",
    "marks"
   ]
  },
  {
   "cell_type": "code",
   "execution_count": 13,
   "id": "cecd5f53-bfb6-42cb-b9c7-f5f271d8ed40",
   "metadata": {},
   "outputs": [
    {
     "data": {
      "text/plain": [
       "2"
      ]
     },
     "execution_count": 13,
     "metadata": {},
     "output_type": "execute_result"
    }
   ],
   "source": [
    "marks.count(18)"
   ]
  },
  {
   "cell_type": "code",
   "execution_count": 14,
   "id": "a42616fa-3ecd-4f08-a91e-e7e25b9d1d52",
   "metadata": {},
   "outputs": [
    {
     "data": {
      "text/plain": [
       "[18, 23, 25, 18, 20, 13, 15, 23, 25]"
      ]
     },
     "execution_count": 14,
     "metadata": {},
     "output_type": "execute_result"
    }
   ],
   "source": [
    "more_marks = [15, 23, 25]\n",
    "marks.extend(more_marks)\n",
    "marks"
   ]
  },
  {
   "cell_type": "code",
   "execution_count": 15,
   "id": "3b9d6ab6-b5b1-451c-9b0a-00678a5972dd",
   "metadata": {},
   "outputs": [
    {
     "data": {
      "text/plain": [
       "[18, 23, 25, 18, 13, 15, 23, 25]"
      ]
     },
     "execution_count": 15,
     "metadata": {},
     "output_type": "execute_result"
    }
   ],
   "source": [
    "marks.remove(20)\n",
    "marks"
   ]
  },
  {
   "cell_type": "code",
   "execution_count": 16,
   "id": "ae343dcd-b0ef-4685-84e8-ef5de03562db",
   "metadata": {},
   "outputs": [
    {
     "data": {
      "text/plain": [
       "[18, 23, 25, 13, 15, 23, 25]"
      ]
     },
     "execution_count": 16,
     "metadata": {},
     "output_type": "execute_result"
    }
   ],
   "source": [
    "marks.pop(3)\n",
    "marks"
   ]
  },
  {
   "cell_type": "code",
   "execution_count": 17,
   "id": "abe41c0e-612d-4026-b761-48f72e473180",
   "metadata": {},
   "outputs": [
    {
     "data": {
      "text/plain": [
       "[13, 15, 18, 23, 23, 25, 25]"
      ]
     },
     "execution_count": 17,
     "metadata": {},
     "output_type": "execute_result"
    }
   ],
   "source": [
    "marks.sort()\n",
    "marks"
   ]
  },
  {
   "cell_type": "code",
   "execution_count": 19,
   "id": "3d2d29ef-d4fc-488a-891e-3e46772aeee8",
   "metadata": {},
   "outputs": [
    {
     "data": {
      "text/plain": [
       "[25, 25, 23, 23, 18, 15, 13]"
      ]
     },
     "execution_count": 19,
     "metadata": {},
     "output_type": "execute_result"
    }
   ],
   "source": [
    "marks.sort(reverse=True)\n",
    "marks"
   ]
  },
  {
   "cell_type": "code",
   "execution_count": null,
   "id": "3de554cf-0a33-4fb2-955c-7e9afed38f17",
   "metadata": {},
   "outputs": [],
   "source": []
  }
 ],
 "metadata": {
  "kernelspec": {
   "display_name": "Python 3 (ipykernel)",
   "language": "python",
   "name": "python3"
  },
  "language_info": {
   "codemirror_mode": {
    "name": "ipython",
    "version": 3
   },
   "file_extension": ".py",
   "mimetype": "text/x-python",
   "name": "python",
   "nbconvert_exporter": "python",
   "pygments_lexer": "ipython3",
   "version": "3.9.12"
  }
 },
 "nbformat": 4,
 "nbformat_minor": 5
}
