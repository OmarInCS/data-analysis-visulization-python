{
 "cells": [
  {
   "cell_type": "markdown",
   "id": "8297899f",
   "metadata": {},
   "source": [
    "# Data Analysis Course\n",
    "## using Python"
   ]
  },
  {
   "cell_type": "code",
   "execution_count": 1,
   "id": "887331d1",
   "metadata": {},
   "outputs": [
    {
     "name": "stdout",
     "output_type": "stream",
     "text": [
      "Welcome to Python\n"
     ]
    }
   ],
   "source": [
    "print(\"Welcome to Python\")"
   ]
  },
  {
   "cell_type": "markdown",
   "id": "21f020dc",
   "metadata": {},
   "source": [
    "[Our Website](https://www.abadnet.com.sa)"
   ]
  },
  {
   "cell_type": "markdown",
   "id": "92aa5f44",
   "metadata": {},
   "source": [
    "![Logo](https://cdn.dribbble.com/users/10882/screenshots/15172621/media/cd2246d5d0f54f9a4316bd4d276764b2.png?compress=1&resize=400x300)"
   ]
  },
  {
   "cell_type": "markdown",
   "id": "69cef206",
   "metadata": {},
   "source": [
    "### Topics:\n",
    "   - Python Revision\n",
    "   - Data **Cleaning**\n",
    "   - Data *Visualization*\n",
    "   - Models\n",
    "   \n",
    "> This is a quote\n",
    "> \n",
    "> more text"
   ]
  },
  {
   "cell_type": "markdown",
   "id": "e8b46af8",
   "metadata": {},
   "source": [
    "## Lists"
   ]
  },
  {
   "cell_type": "code",
   "execution_count": 2,
   "id": "4e6c80ec",
   "metadata": {},
   "outputs": [],
   "source": [
    "marks = [23, 18, 12, 25]"
   ]
  },
  {
   "cell_type": "code",
   "execution_count": 3,
   "id": "66a2761c",
   "metadata": {},
   "outputs": [
    {
     "data": {
      "text/plain": [
       "[23, 18, 12, 25]"
      ]
     },
     "execution_count": 3,
     "metadata": {},
     "output_type": "execute_result"
    }
   ],
   "source": [
    "marks"
   ]
  },
  {
   "cell_type": "code",
   "execution_count": 4,
   "id": "d8c057e6",
   "metadata": {},
   "outputs": [
    {
     "data": {
      "text/plain": [
       "23"
      ]
     },
     "execution_count": 4,
     "metadata": {},
     "output_type": "execute_result"
    }
   ],
   "source": [
    "marks[0]"
   ]
  },
  {
   "cell_type": "code",
   "execution_count": 5,
   "id": "fabb16aa",
   "metadata": {},
   "outputs": [
    {
     "data": {
      "text/plain": [
       "25"
      ]
     },
     "execution_count": 5,
     "metadata": {},
     "output_type": "execute_result"
    }
   ],
   "source": [
    "marks[-1]"
   ]
  },
  {
   "cell_type": "code",
   "execution_count": 6,
   "id": "2836d610",
   "metadata": {},
   "outputs": [
    {
     "data": {
      "text/plain": [
       "4"
      ]
     },
     "execution_count": 6,
     "metadata": {},
     "output_type": "execute_result"
    }
   ],
   "source": [
    "len(marks)"
   ]
  },
  {
   "cell_type": "code",
   "execution_count": 7,
   "id": "529fef11",
   "metadata": {},
   "outputs": [
    {
     "data": {
      "text/plain": [
       "[23, 18, 12, 25, 17]"
      ]
     },
     "execution_count": 7,
     "metadata": {},
     "output_type": "execute_result"
    }
   ],
   "source": [
    "marks.append(17)\n",
    "marks"
   ]
  },
  {
   "cell_type": "code",
   "execution_count": 8,
   "id": "1dc903e1",
   "metadata": {},
   "outputs": [
    {
     "data": {
      "text/plain": [
       "[20, 23, 18, 12, 25, 17]"
      ]
     },
     "execution_count": 8,
     "metadata": {},
     "output_type": "execute_result"
    }
   ],
   "source": [
    "marks.insert(0, 20)\n",
    "marks"
   ]
  },
  {
   "cell_type": "code",
   "execution_count": 9,
   "id": "4bd6f848",
   "metadata": {},
   "outputs": [
    {
     "data": {
      "text/plain": [
       "[20, 23, 18, 12, 25, 17, 18, 25, 23, 14]"
      ]
     },
     "execution_count": 9,
     "metadata": {},
     "output_type": "execute_result"
    }
   ],
   "source": [
    "marks_g2 = [18, 25, 23, 14]\n",
    "marks.extend(marks_g2)\n",
    "marks"
   ]
  },
  {
   "cell_type": "code",
   "execution_count": 10,
   "id": "f63d1654",
   "metadata": {},
   "outputs": [
    {
     "data": {
      "text/plain": [
       "[20, 23, 18, 12, 25, 17, 18, 25, 23, 14, 18, 25, 23, 14]"
      ]
     },
     "execution_count": 10,
     "metadata": {},
     "output_type": "execute_result"
    }
   ],
   "source": [
    "marks += marks_g2\n",
    "marks"
   ]
  },
  {
   "cell_type": "code",
   "execution_count": 11,
   "id": "c3c8974b",
   "metadata": {},
   "outputs": [
    {
     "data": {
      "text/plain": [
       "[20, 23, 18, 12, 25, 17, 18, 25, 23, 18, 25, 23, 14]"
      ]
     },
     "execution_count": 11,
     "metadata": {},
     "output_type": "execute_result"
    }
   ],
   "source": [
    "marks.remove(14)\n",
    "marks"
   ]
  },
  {
   "cell_type": "code",
   "execution_count": 12,
   "id": "7470024d",
   "metadata": {},
   "outputs": [
    {
     "data": {
      "text/plain": [
       "[20, 23, 18, 12, 25, 18, 25, 23, 18, 25, 23, 14]"
      ]
     },
     "execution_count": 12,
     "metadata": {},
     "output_type": "execute_result"
    }
   ],
   "source": [
    "marks.pop(5)\n",
    "marks"
   ]
  },
  {
   "cell_type": "code",
   "execution_count": 13,
   "id": "f77de068",
   "metadata": {},
   "outputs": [
    {
     "data": {
      "text/plain": [
       "[25, 25, 25, 23, 23, 23, 20, 18, 18, 18, 14, 12]"
      ]
     },
     "execution_count": 13,
     "metadata": {},
     "output_type": "execute_result"
    }
   ],
   "source": [
    "marks.sort(reverse=True)\n",
    "marks"
   ]
  },
  {
   "cell_type": "code",
   "execution_count": 14,
   "id": "65164c38",
   "metadata": {},
   "outputs": [
    {
     "data": {
      "text/plain": [
       "[12, 14, 18, 20, 23, 25]"
      ]
     },
     "execution_count": 14,
     "metadata": {},
     "output_type": "execute_result"
    }
   ],
   "source": [
    "marks = list(set(marks))\n",
    "marks"
   ]
  },
  {
   "cell_type": "code",
   "execution_count": 15,
   "id": "d270a128",
   "metadata": {},
   "outputs": [],
   "source": [
    "# marks[0]"
   ]
  },
  {
   "cell_type": "code",
   "execution_count": 16,
   "id": "6e7ab35e",
   "metadata": {},
   "outputs": [
    {
     "data": {
      "text/plain": [
       "[25, 23, 20, 18, 14, 12]"
      ]
     },
     "execution_count": 16,
     "metadata": {},
     "output_type": "execute_result"
    }
   ],
   "source": [
    "marks.sort(reverse=True)\n",
    "marks"
   ]
  },
  {
   "cell_type": "code",
   "execution_count": 17,
   "id": "c0d05367",
   "metadata": {},
   "outputs": [
    {
     "data": {
      "text/plain": [
       "[25, 23, 20]"
      ]
     },
     "execution_count": 17,
     "metadata": {},
     "output_type": "execute_result"
    }
   ],
   "source": [
    "marks[0:3]"
   ]
  },
  {
   "cell_type": "code",
   "execution_count": 18,
   "id": "b49360c7",
   "metadata": {},
   "outputs": [
    {
     "data": {
      "text/plain": [
       "[25, 23, 20]"
      ]
     },
     "execution_count": 18,
     "metadata": {},
     "output_type": "execute_result"
    }
   ],
   "source": [
    "marks[:3]"
   ]
  },
  {
   "cell_type": "code",
   "execution_count": 19,
   "id": "54a02026",
   "metadata": {},
   "outputs": [
    {
     "data": {
      "text/plain": [
       "[18, 14, 12]"
      ]
     },
     "execution_count": 19,
     "metadata": {},
     "output_type": "execute_result"
    }
   ],
   "source": [
    "marks[-3:]"
   ]
  },
  {
   "cell_type": "code",
   "execution_count": 20,
   "id": "ab9c600d",
   "metadata": {},
   "outputs": [],
   "source": [
    "del marks[-1]"
   ]
  },
  {
   "cell_type": "code",
   "execution_count": 21,
   "id": "363046a6",
   "metadata": {},
   "outputs": [
    {
     "data": {
      "text/plain": [
       "[25, 23, 20, 18, 14]"
      ]
     },
     "execution_count": 21,
     "metadata": {},
     "output_type": "execute_result"
    }
   ],
   "source": [
    "marks"
   ]
  },
  {
   "cell_type": "code",
   "execution_count": 22,
   "id": "49da9a9d",
   "metadata": {},
   "outputs": [
    {
     "data": {
      "text/plain": [
       "False"
      ]
     },
     "execution_count": 22,
     "metadata": {},
     "output_type": "execute_result"
    }
   ],
   "source": [
    "13 in marks"
   ]
  },
  {
   "cell_type": "markdown",
   "id": "f7ed348a",
   "metadata": {},
   "source": [
    "## Tuple:"
   ]
  },
  {
   "cell_type": "code",
   "execution_count": 23,
   "id": "9e332803",
   "metadata": {},
   "outputs": [
    {
     "data": {
      "text/plain": [
       "('Sunday', 'Monday', 'Tuesday', 'Wednesday')"
      ]
     },
     "execution_count": 23,
     "metadata": {},
     "output_type": "execute_result"
    }
   ],
   "source": [
    "days = (\"Sunday\", \"Monday\", \"Tuesday\", \"Wednesday\")\n",
    "days"
   ]
  },
  {
   "cell_type": "code",
   "execution_count": 24,
   "id": "c3f206f8",
   "metadata": {},
   "outputs": [
    {
     "data": {
      "text/plain": [
       "'Sunday'"
      ]
     },
     "execution_count": 24,
     "metadata": {},
     "output_type": "execute_result"
    }
   ],
   "source": [
    "days[0]"
   ]
  },
  {
   "cell_type": "code",
   "execution_count": 25,
   "id": "55874297",
   "metadata": {},
   "outputs": [
    {
     "data": {
      "text/plain": [
       "'Wednesday'"
      ]
     },
     "execution_count": 25,
     "metadata": {},
     "output_type": "execute_result"
    }
   ],
   "source": [
    "days[-1]"
   ]
  },
  {
   "cell_type": "code",
   "execution_count": 26,
   "id": "ba1e1c83",
   "metadata": {},
   "outputs": [
    {
     "data": {
      "text/plain": [
       "4"
      ]
     },
     "execution_count": 26,
     "metadata": {},
     "output_type": "execute_result"
    }
   ],
   "source": [
    "len(days)"
   ]
  },
  {
   "cell_type": "code",
   "execution_count": 27,
   "id": "1e5a53c2",
   "metadata": {},
   "outputs": [],
   "source": [
    "# days[0] = \"Sun\"  -- Will not work because tuple is immutable"
   ]
  },
  {
   "cell_type": "code",
   "execution_count": 28,
   "id": "4be7a6bb",
   "metadata": {},
   "outputs": [
    {
     "data": {
      "text/plain": [
       "['Sunday', 'Monday', 'Tuesday', 'Wednesday']"
      ]
     },
     "execution_count": 28,
     "metadata": {},
     "output_type": "execute_result"
    }
   ],
   "source": [
    "list(days)"
   ]
  },
  {
   "cell_type": "markdown",
   "id": "d0f5dd9e",
   "metadata": {},
   "source": [
    "## Dict:"
   ]
  },
  {
   "cell_type": "code",
   "execution_count": 29,
   "id": "776f0f73",
   "metadata": {},
   "outputs": [],
   "source": [
    "countries = {\n",
    "    \"sa\": \"Saudi Arabia\",\n",
    "    \"ae\": \"Arab Emirates\",\n",
    "    \"eg\": \"Egypt\"\n",
    "}"
   ]
  },
  {
   "cell_type": "code",
   "execution_count": 30,
   "id": "c6fc1a5b",
   "metadata": {},
   "outputs": [
    {
     "data": {
      "text/plain": [
       "'Arab Emirates'"
      ]
     },
     "execution_count": 30,
     "metadata": {},
     "output_type": "execute_result"
    }
   ],
   "source": [
    "# countries[\"ae\"]\n",
    "countries.get(\"ae\", \"Not Found\")"
   ]
  },
  {
   "cell_type": "code",
   "execution_count": 31,
   "id": "e30f0a4d",
   "metadata": {},
   "outputs": [
    {
     "data": {
      "text/plain": [
       "{'sa': 'Saudi Arabia', 'ae': 'Arab Emirates', 'eg': 'Egypt'}"
      ]
     },
     "execution_count": 31,
     "metadata": {},
     "output_type": "execute_result"
    }
   ],
   "source": [
    "countries"
   ]
  },
  {
   "cell_type": "code",
   "execution_count": 32,
   "id": "91f318ed",
   "metadata": {},
   "outputs": [
    {
     "data": {
      "text/plain": [
       "['Saudi Arabia', 'Arab Emirates', 'Egypt']"
      ]
     },
     "execution_count": 32,
     "metadata": {},
     "output_type": "execute_result"
    }
   ],
   "source": [
    "list(countries.values())"
   ]
  },
  {
   "cell_type": "code",
   "execution_count": 33,
   "id": "f29d7956",
   "metadata": {},
   "outputs": [
    {
     "data": {
      "text/plain": [
       "['sa', 'ae', 'eg']"
      ]
     },
     "execution_count": 33,
     "metadata": {},
     "output_type": "execute_result"
    }
   ],
   "source": [
    "list(countries.keys())"
   ]
  },
  {
   "cell_type": "code",
   "execution_count": 34,
   "id": "d215558d",
   "metadata": {},
   "outputs": [
    {
     "data": {
      "text/plain": [
       "[('sa', 'Saudi Arabia'), ('ae', 'Arab Emirates'), ('eg', 'Egypt')]"
      ]
     },
     "execution_count": 34,
     "metadata": {},
     "output_type": "execute_result"
    }
   ],
   "source": [
    "items = list(countries.items())\n",
    "items"
   ]
  },
  {
   "cell_type": "code",
   "execution_count": 35,
   "id": "3f21ca66",
   "metadata": {},
   "outputs": [
    {
     "data": {
      "text/plain": [
       "'Saudi Arabia'"
      ]
     },
     "execution_count": 35,
     "metadata": {},
     "output_type": "execute_result"
    }
   ],
   "source": [
    "items[0][1]"
   ]
  },
  {
   "cell_type": "code",
   "execution_count": 36,
   "id": "7999f301",
   "metadata": {},
   "outputs": [
    {
     "data": {
      "text/plain": [
       "{'sa': 'Saudi Arabia', 'ae': 'Arab Emirates', 'eg': 'Republic of Egypt'}"
      ]
     },
     "execution_count": 36,
     "metadata": {},
     "output_type": "execute_result"
    }
   ],
   "source": [
    "# countries[\"eg\"] = \"Republic of Egypt\"\n",
    "countries.update({\"eg\": \"Republic of Egypt\"})\n",
    "countries"
   ]
  },
  {
   "cell_type": "code",
   "execution_count": 37,
   "id": "5d798f2f",
   "metadata": {},
   "outputs": [
    {
     "data": {
      "text/plain": [
       "{'sa': 'Saudi Arabia',\n",
       " 'ae': 'Arab Emirates',\n",
       " 'eg': 'Republic of Egypt',\n",
       " 'pl': 'Palstine'}"
      ]
     },
     "execution_count": 37,
     "metadata": {},
     "output_type": "execute_result"
    }
   ],
   "source": [
    "# countries[\"pl\"] = \"Palstine\"\n",
    "countries.update({\"pl\": \"Palstine\"})\n",
    "countries"
   ]
  },
  {
   "cell_type": "code",
   "execution_count": 38,
   "id": "78479490",
   "metadata": {},
   "outputs": [
    {
     "data": {
      "text/plain": [
       "{'sa': 'Saudi Arabia', 'eg': 'Republic of Egypt', 'pl': 'Palstine'}"
      ]
     },
     "execution_count": 38,
     "metadata": {},
     "output_type": "execute_result"
    }
   ],
   "source": [
    "# del countries[\"ae\"]\n",
    "countries.pop(\"ae\")\n",
    "countries"
   ]
  },
  {
   "cell_type": "code",
   "execution_count": 39,
   "id": "7aa376e9",
   "metadata": {},
   "outputs": [
    {
     "data": {
      "text/plain": [
       "3"
      ]
     },
     "execution_count": 39,
     "metadata": {},
     "output_type": "execute_result"
    }
   ],
   "source": [
    "len(countries)"
   ]
  },
  {
   "cell_type": "code",
   "execution_count": 40,
   "id": "86c6aff1",
   "metadata": {},
   "outputs": [
    {
     "data": {
      "text/plain": [
       "False"
      ]
     },
     "execution_count": 40,
     "metadata": {},
     "output_type": "execute_result"
    }
   ],
   "source": [
    "\"ae\" in countries"
   ]
  },
  {
   "cell_type": "code",
   "execution_count": 41,
   "id": "e7298bd9",
   "metadata": {},
   "outputs": [
    {
     "data": {
      "text/plain": [
       "['sa', 'eg', 'pl']"
      ]
     },
     "execution_count": 41,
     "metadata": {},
     "output_type": "execute_result"
    }
   ],
   "source": [
    "list(countries)"
   ]
  },
  {
   "cell_type": "code",
   "execution_count": 42,
   "id": "93c7b38b",
   "metadata": {},
   "outputs": [
    {
     "data": {
      "text/plain": [
       "['W', 'e', 'l', 'c', 'o', 'm', 'e']"
      ]
     },
     "execution_count": 42,
     "metadata": {},
     "output_type": "execute_result"
    }
   ],
   "source": [
    "list(\"Welcome\")"
   ]
  },
  {
   "cell_type": "markdown",
   "id": "2809ef08",
   "metadata": {},
   "source": [
    "## Loops:"
   ]
  },
  {
   "cell_type": "markdown",
   "id": "0cb537c9",
   "metadata": {},
   "source": [
    "for `new_var` in `iterable`:\n",
    "\n",
    "    >\n",
    "    >\n",
    "    \n",
    "--\n",
    "--\n",
    "    "
   ]
  },
  {
   "cell_type": "code",
   "execution_count": 43,
   "id": "bf56b98b",
   "metadata": {},
   "outputs": [
    {
     "name": "stdout",
     "output_type": "stream",
     "text": [
      "27\n",
      "--------------------\n",
      "25\n",
      "--------------------\n",
      "22\n",
      "--------------------\n",
      "20\n",
      "--------------------\n",
      "16\n",
      "--------------------\n",
      "********************\n"
     ]
    }
   ],
   "source": [
    "for m in marks:\n",
    "    print(m + 2)\n",
    "    print(\"-\" * 20)\n",
    "\n",
    "print(\"*\" * 20)"
   ]
  },
  {
   "cell_type": "code",
   "execution_count": 44,
   "id": "9595fd0f",
   "metadata": {},
   "outputs": [
    {
     "name": "stdout",
     "output_type": "stream",
     "text": [
      "H\n",
      "e\n",
      "l\n",
      "l\n",
      "o\n"
     ]
    }
   ],
   "source": [
    "message = \"Hello\"\n",
    "for c in message:\n",
    "    print(c)\n",
    "    "
   ]
  },
  {
   "cell_type": "code",
   "execution_count": 45,
   "id": "e899f230",
   "metadata": {},
   "outputs": [],
   "source": [
    "mobile = \"0599888921\"\n",
    "for d in mobile:\n",
    "    if not d.isdigit():\n",
    "        print(\"Not a valid mobile\")\n",
    "        break\n"
   ]
  },
  {
   "cell_type": "code",
   "execution_count": 46,
   "id": "ff6d1446",
   "metadata": {},
   "outputs": [
    {
     "data": {
      "text/plain": [
       "True"
      ]
     },
     "execution_count": 46,
     "metadata": {},
     "output_type": "execute_result"
    }
   ],
   "source": [
    "mobile.isdigit()"
   ]
  },
  {
   "cell_type": "code",
   "execution_count": 47,
   "id": "b3abd2fb",
   "metadata": {},
   "outputs": [
    {
     "data": {
      "text/plain": [
       "[1, 2, 3, 4, 5, 6, 7, 8, 9]"
      ]
     },
     "execution_count": 47,
     "metadata": {},
     "output_type": "execute_result"
    }
   ],
   "source": [
    "list(range(1, 10))"
   ]
  },
  {
   "cell_type": "code",
   "execution_count": 48,
   "id": "9919ecea",
   "metadata": {},
   "outputs": [
    {
     "data": {
      "text/plain": [
       "[0, 1, 2, 3, 4, 5, 6, 7, 8, 9]"
      ]
     },
     "execution_count": 48,
     "metadata": {},
     "output_type": "execute_result"
    }
   ],
   "source": [
    "list(range(10))"
   ]
  },
  {
   "cell_type": "code",
   "execution_count": 49,
   "id": "75b8acc3",
   "metadata": {},
   "outputs": [
    {
     "data": {
      "text/plain": [
       "[1, 3, 5, 7, 9]"
      ]
     },
     "execution_count": 49,
     "metadata": {},
     "output_type": "execute_result"
    }
   ],
   "source": [
    "list(range(1, 10, 2))"
   ]
  },
  {
   "cell_type": "code",
   "execution_count": 50,
   "id": "6eec4d07",
   "metadata": {},
   "outputs": [
    {
     "name": "stdout",
     "output_type": "stream",
     "text": [
      "\n",
      "-\n",
      "--\n",
      "---\n",
      "----\n",
      "-----\n",
      "------\n",
      "-------\n",
      "--------\n",
      "---------\n"
     ]
    }
   ],
   "source": [
    "for i in range(10):\n",
    "    print(i * \"-\")\n",
    "#     print(\"Hello world\")\n"
   ]
  },
  {
   "cell_type": "markdown",
   "id": "7a65ebcf",
   "metadata": {},
   "source": [
    "while `bool-expr`:\n",
    "    \n",
    "    --\n",
    "    --\n",
    "    \n",
    " --"
   ]
  },
  {
   "cell_type": "code",
   "execution_count": 51,
   "id": "ad6cad5c",
   "metadata": {},
   "outputs": [
    {
     "name": "stdout",
     "output_type": "stream",
     "text": [
      "1\n",
      "2\n",
      "3\n",
      "4\n",
      "5\n",
      "6\n",
      "7\n",
      "8\n",
      "9\n",
      "10\n"
     ]
    }
   ],
   "source": [
    "x = 1\n",
    "while x <= 10:\n",
    "    print(x)\n",
    "    x += 1\n"
   ]
  },
  {
   "cell_type": "code",
   "execution_count": 52,
   "id": "56feeffc",
   "metadata": {},
   "outputs": [
    {
     "name": "stdout",
     "output_type": "stream",
     "text": [
      "1\n",
      "2\n",
      "3\n",
      "4\n",
      "5\n",
      "6\n",
      "7\n",
      "8\n",
      "9\n",
      "10\n"
     ]
    }
   ],
   "source": [
    "for y in range(1, 11):\n",
    "    print(y)"
   ]
  },
  {
   "cell_type": "code",
   "execution_count": 53,
   "id": "bf5d17eb",
   "metadata": {},
   "outputs": [
    {
     "data": {
      "text/plain": [
       "{'sa': 'Saudi Arabia', 'eg': 'Republic of Egypt', 'pl': 'Palstine'}"
      ]
     },
     "execution_count": 53,
     "metadata": {},
     "output_type": "execute_result"
    }
   ],
   "source": [
    "countries"
   ]
  },
  {
   "cell_type": "code",
   "execution_count": 54,
   "id": "d2a128f2",
   "metadata": {},
   "outputs": [
    {
     "name": "stdout",
     "output_type": "stream",
     "text": [
      "sa => Saudi Arabia\n",
      "eg => Republic of Egypt\n",
      "pl => Palstine\n"
     ]
    }
   ],
   "source": [
    "for k, v in countries.items():\n",
    "    print(k, \"=>\", v)"
   ]
  },
  {
   "cell_type": "markdown",
   "id": "c94a129e",
   "metadata": {},
   "source": [
    "## List & Dict Comprehension"
   ]
  },
  {
   "cell_type": "code",
   "execution_count": 55,
   "id": "222311c8",
   "metadata": {},
   "outputs": [
    {
     "data": {
      "text/plain": [
       "[27, 25, 22, 20, 16]"
      ]
     },
     "execution_count": 55,
     "metadata": {},
     "output_type": "execute_result"
    }
   ],
   "source": [
    "for i in range(len(marks)):\n",
    "    marks[i] += 2\n",
    "    \n",
    "marks"
   ]
  },
  {
   "cell_type": "code",
   "execution_count": 56,
   "id": "0c509f4a",
   "metadata": {},
   "outputs": [
    {
     "data": {
      "text/plain": [
       "[29, 27, 24, 22, 18]"
      ]
     },
     "execution_count": 56,
     "metadata": {},
     "output_type": "execute_result"
    }
   ],
   "source": [
    "new_marks = []\n",
    "for m in marks:\n",
    "    new_marks.append(m + 2)\n",
    "    \n",
    "new_marks"
   ]
  },
  {
   "cell_type": "code",
   "execution_count": 57,
   "id": "ee98f192",
   "metadata": {},
   "outputs": [
    {
     "data": {
      "text/plain": [
       "[27, 25, 22, 20, 16]"
      ]
     },
     "execution_count": 57,
     "metadata": {},
     "output_type": "execute_result"
    }
   ],
   "source": [
    "marks"
   ]
  },
  {
   "cell_type": "code",
   "execution_count": 58,
   "id": "0d9a6b0e",
   "metadata": {},
   "outputs": [
    {
     "data": {
      "text/plain": [
       "[32, 30, 27, 25, 21]"
      ]
     },
     "execution_count": 58,
     "metadata": {},
     "output_type": "execute_result"
    }
   ],
   "source": [
    "new_marks = [m + 5 for m in marks]\n",
    "new_marks"
   ]
  },
  {
   "cell_type": "code",
   "execution_count": 59,
   "id": "1a059fd4",
   "metadata": {},
   "outputs": [
    {
     "data": {
      "text/plain": [
       "['EARL GREY',\n",
       " 'DARJEELING',\n",
       " 'ENGLISH BREAKFAST',\n",
       " 'LAPSANG SOUCHONG',\n",
       " 'OOLONG',\n",
       " 'KOMBUCHA',\n",
       " 'GREEN TEA']"
      ]
     },
     "execution_count": 59,
     "metadata": {},
     "output_type": "execute_result"
    }
   ],
   "source": [
    "\n",
    "teas = ['earl grey', 'darjeeling', 'english breakfast', 'lapsang souchong', \n",
    "        'oolong', 'kombucha', 'green tea']\n",
    "\n",
    "teas = [t.upper() for t in teas]\n",
    "teas"
   ]
  },
  {
   "cell_type": "code",
   "execution_count": 60,
   "id": "49858cad",
   "metadata": {},
   "outputs": [
    {
     "data": {
      "text/plain": [
       "1"
      ]
     },
     "execution_count": 60,
     "metadata": {},
     "output_type": "execute_result"
    }
   ],
   "source": [
    "text = \"Hello\"\n",
    "text.count(\"e\")"
   ]
  },
  {
   "cell_type": "code",
   "execution_count": 61,
   "id": "6619e5f6",
   "metadata": {},
   "outputs": [
    {
     "data": {
      "text/plain": [
       "[9, 10, 17, 16, 6, 8, 9]"
      ]
     },
     "execution_count": 61,
     "metadata": {},
     "output_type": "execute_result"
    }
   ],
   "source": [
    "lengths = [len(t) for t in teas]\n",
    "lengths"
   ]
  },
  {
   "cell_type": "code",
   "execution_count": 62,
   "id": "f5e58424",
   "metadata": {},
   "outputs": [
    {
     "data": {
      "text/plain": [
       "{'S': 'Saudi Arabia', 'A': 'Arab Emirates', 'E': 'Egypt'}"
      ]
     },
     "execution_count": 62,
     "metadata": {},
     "output_type": "execute_result"
    }
   ],
   "source": [
    "countries = [\"Saudi Arabia\", \"Arab Emirates\", \"Egypt\"]\n",
    "countries_d = {c[0]: c for c in countries}\n",
    "countries_d"
   ]
  },
  {
   "cell_type": "code",
   "execution_count": 63,
   "id": "44294e77",
   "metadata": {},
   "outputs": [
    {
     "data": {
      "text/plain": [
       "{'EARL GREY': 9,\n",
       " 'DARJEELING': 10,\n",
       " 'ENGLISH BREAKFAST': 17,\n",
       " 'LAPSANG SOUCHONG': 16,\n",
       " 'OOLONG': 6,\n",
       " 'KOMBUCHA': 8,\n",
       " 'GREEN TEA': 9}"
      ]
     },
     "execution_count": 63,
     "metadata": {},
     "output_type": "execute_result"
    }
   ],
   "source": [
    "lengths = {t: len(t) for t in teas}\n",
    "lengths"
   ]
  },
  {
   "cell_type": "code",
   "execution_count": 64,
   "id": "68f358ea",
   "metadata": {},
   "outputs": [
    {
     "data": {
      "text/plain": [
       "{'EARL GREY': [9, 2],\n",
       " 'DARJEELING': [10, 1],\n",
       " 'ENGLISH BREAKFAST': [17, 2],\n",
       " 'LAPSANG SOUCHONG': [16, 2],\n",
       " 'OOLONG': [6, 1],\n",
       " 'KOMBUCHA': [8, 1],\n",
       " 'GREEN TEA': [9, 2]}"
      ]
     },
     "execution_count": 64,
     "metadata": {},
     "output_type": "execute_result"
    }
   ],
   "source": [
    "lengths = {t: [len(t), t.count(\" \") + 1] for t in teas}\n",
    "lengths"
   ]
  },
  {
   "cell_type": "code",
   "execution_count": 65,
   "id": "f1d3f3a1",
   "metadata": {},
   "outputs": [
    {
     "data": {
      "text/plain": [
       "{'EARL GREY': (9, 2),\n",
       " 'DARJEELING': (10, 1),\n",
       " 'ENGLISH BREAKFAST': (17, 2),\n",
       " 'LAPSANG SOUCHONG': (16, 2),\n",
       " 'OOLONG': (6, 1),\n",
       " 'KOMBUCHA': (8, 1),\n",
       " 'GREEN TEA': (9, 2)}"
      ]
     },
     "execution_count": 65,
     "metadata": {},
     "output_type": "execute_result"
    }
   ],
   "source": [
    "lengths = {t: (len(t), t.count(\" \") + 1) for t in teas}\n",
    "lengths"
   ]
  },
  {
   "cell_type": "code",
   "execution_count": 66,
   "id": "d5000148",
   "metadata": {},
   "outputs": [
    {
     "name": "stdout",
     "output_type": "stream",
     "text": [
      "2\n"
     ]
    }
   ],
   "source": [
    "print(lengths[\"EARL GREY\"][1])"
   ]
  },
  {
   "cell_type": "code",
   "execution_count": 67,
   "id": "8d3c2815",
   "metadata": {},
   "outputs": [
    {
     "name": "stdout",
     "output_type": "stream",
     "text": [
      "(9, 2)\n"
     ]
    }
   ],
   "source": [
    "print(lengths[\"EARL GREY\"])"
   ]
  },
  {
   "cell_type": "code",
   "execution_count": 68,
   "id": "8911a9e6",
   "metadata": {},
   "outputs": [
    {
     "data": {
      "text/plain": [
       "{'GRANT': 5, 'SKETCHLEY': 9, 'REUSTLE': 7, 'HUSE': 4, 'MELLGARD': 8}"
      ]
     },
     "execution_count": 68,
     "metadata": {},
     "output_type": "execute_result"
    }
   ],
   "source": [
    "surnames = ['grant','Sketchley','REUSTLE','huse','Mellgard']\n",
    "\n",
    "result = {n.upper(): len(n) for n in surnames}\n",
    "result"
   ]
  },
  {
   "cell_type": "markdown",
   "id": "96486aa9-3256-4aa5-a713-d7e672e393fd",
   "metadata": {},
   "source": [
    "## Comprehensions with Conditions"
   ]
  },
  {
   "cell_type": "code",
   "execution_count": 69,
   "id": "174eda24-e4f3-4830-b8ca-b0ef7056b007",
   "metadata": {},
   "outputs": [
    {
     "data": {
      "text/plain": [
       "[27, 25, 22, 20, 16]"
      ]
     },
     "execution_count": 69,
     "metadata": {},
     "output_type": "execute_result"
    }
   ],
   "source": [
    "marks"
   ]
  },
  {
   "cell_type": "code",
   "execution_count": 70,
   "id": "359e1bf7-6b8f-40d6-a250-8f89a16f916d",
   "metadata": {},
   "outputs": [
    {
     "data": {
      "text/plain": [
       "['Excellent', 'Excellent', 'Excellent', 'Good', 'Good']"
      ]
     },
     "execution_count": 70,
     "metadata": {},
     "output_type": "execute_result"
    }
   ],
   "source": [
    "result = [\"Excellent\" if m > 20 else \"Good\" for m in marks]\n",
    "result"
   ]
  },
  {
   "cell_type": "code",
   "execution_count": 71,
   "id": "1b0d68e3-0b21-417e-b657-e259a87ebf56",
   "metadata": {},
   "outputs": [
    {
     "data": {
      "text/plain": [
       "['Excellent', 'V. Good', 'V. Good', 'Fail', 'Fail']"
      ]
     },
     "execution_count": 71,
     "metadata": {},
     "output_type": "execute_result"
    }
   ],
   "source": [
    "result = [\"Excellent\" if m > 25 else \"V. Good\" if m > 20 else \"Fail\" for m in marks]\n",
    "result"
   ]
  },
  {
   "cell_type": "code",
   "execution_count": 72,
   "id": "f0a3f2d0-eab6-4ee0-8b88-bbdb1ffbb0fb",
   "metadata": {},
   "outputs": [
    {
     "data": {
      "text/plain": [
       "{27: 'Excellent', 25: 'Excellent', 22: 'Excellent', 20: 'Good', 16: 'Good'}"
      ]
     },
     "execution_count": 72,
     "metadata": {},
     "output_type": "execute_result"
    }
   ],
   "source": [
    "result = {m : \"Excellent\" if m > 20 else \"Good\" for m in marks}\n",
    "result"
   ]
  },
  {
   "cell_type": "code",
   "execution_count": 73,
   "id": "1a51fb78-ca10-49a2-9ba2-f7b0e493c8f5",
   "metadata": {},
   "outputs": [
    {
     "data": {
      "text/plain": [
       "[27, 25, 22]"
      ]
     },
     "execution_count": 73,
     "metadata": {},
     "output_type": "execute_result"
    }
   ],
   "source": [
    "result = [m for m in marks if m > 20]\n",
    "result"
   ]
  },
  {
   "cell_type": "code",
   "execution_count": 75,
   "id": "4b7e38b3-10fa-46c4-99a9-bcbd619a3c45",
   "metadata": {},
   "outputs": [
    {
     "name": "stdout",
     "output_type": "stream",
     "text": [
      "409 ns ± 4.45 ns per loop (mean ± std. dev. of 7 runs, 1000000 loops each)\n"
     ]
    }
   ],
   "source": [
    "%%timeit\n",
    "result = {m : \"Excellent\" if m > 25 else \"Good\" for m in marks if m > 20}\n",
    "result"
   ]
  },
  {
   "cell_type": "markdown",
   "id": "8d2373e5-0b16-4d9d-8f3b-81c04fe0e4da",
   "metadata": {},
   "source": [
    "## `zip` and `enumerate` functions"
   ]
  },
  {
   "cell_type": "code",
   "execution_count": 76,
   "id": "503dce12-1d15-4f1d-a80d-b9e79b2f201f",
   "metadata": {},
   "outputs": [
    {
     "data": {
      "text/plain": [
       "[27, 25, 22, 20, 16]"
      ]
     },
     "execution_count": 76,
     "metadata": {},
     "output_type": "execute_result"
    }
   ],
   "source": [
    "marks"
   ]
  },
  {
   "cell_type": "code",
   "execution_count": 78,
   "id": "dc0c6fea-4fef-4431-96d2-255f74ce84e2",
   "metadata": {},
   "outputs": [],
   "source": [
    "names = [\"Ahmed\", \"Ali\", \"Wael\", \"Fahad\", \"Abass\"]"
   ]
  },
  {
   "cell_type": "code",
   "execution_count": 79,
   "id": "d9eeb1a5-b412-45eb-8b93-6d9b8e80b417",
   "metadata": {},
   "outputs": [
    {
     "data": {
      "text/plain": [
       "{'Ahmed': 27, 'Ali': 25, 'Wael': 22, 'Fahad': 20, 'Abass': 16}"
      ]
     },
     "execution_count": 79,
     "metadata": {},
     "output_type": "execute_result"
    }
   ],
   "source": [
    "result = {n: m for n, m in zip(names, marks)}\n",
    "result"
   ]
  },
  {
   "cell_type": "code",
   "execution_count": 82,
   "id": "301a86b9-3db1-4c9f-be98-91b264e7f9e5",
   "metadata": {},
   "outputs": [
    {
     "data": {
      "text/plain": [
       "[('Ahmed', 27),\n",
       " ('Ahmed', 25),\n",
       " ('Ahmed', 22),\n",
       " ('Ahmed', 20),\n",
       " ('Ahmed', 16),\n",
       " ('Ali', 27),\n",
       " ('Ali', 25),\n",
       " ('Ali', 22),\n",
       " ('Ali', 20),\n",
       " ('Ali', 16),\n",
       " ('Wael', 27),\n",
       " ('Wael', 25),\n",
       " ('Wael', 22),\n",
       " ('Wael', 20),\n",
       " ('Wael', 16),\n",
       " ('Fahad', 27),\n",
       " ('Fahad', 25),\n",
       " ('Fahad', 22),\n",
       " ('Fahad', 20),\n",
       " ('Fahad', 16),\n",
       " ('Abass', 27),\n",
       " ('Abass', 25),\n",
       " ('Abass', 22),\n",
       " ('Abass', 20),\n",
       " ('Abass', 16)]"
      ]
     },
     "execution_count": 82,
     "metadata": {},
     "output_type": "execute_result"
    }
   ],
   "source": [
    "result = [(n, m) for n in names for m in marks]\n",
    "result"
   ]
  },
  {
   "cell_type": "code",
   "execution_count": 84,
   "id": "43ddcab7-73d6-4a2c-a2f5-27f838eed01a",
   "metadata": {},
   "outputs": [
    {
     "data": {
      "text/plain": [
       "[16, 20, 22, 25, 27]"
      ]
     },
     "execution_count": 84,
     "metadata": {},
     "output_type": "execute_result"
    }
   ],
   "source": [
    "marks[::-1]"
   ]
  },
  {
   "cell_type": "code",
   "execution_count": 87,
   "id": "cded2952-ad36-4298-8a6a-a0f38227b3c8",
   "metadata": {},
   "outputs": [
    {
     "data": {
      "text/plain": [
       "{'Ahmed': 16, 'Ali': 20, 'Wael': 22, 'Fahad': 25, 'Abass': 27}"
      ]
     },
     "execution_count": 87,
     "metadata": {},
     "output_type": "execute_result"
    }
   ],
   "source": [
    "result = {n: m for n, m in zip(names, marks[::-1])}\n",
    "result"
   ]
  },
  {
   "cell_type": "code",
   "execution_count": 88,
   "id": "9ee68fbb-4105-47d6-85bb-b9110eebb895",
   "metadata": {},
   "outputs": [
    {
     "data": {
      "text/plain": [
       "['Ahmed', 'Ali', 'Wael', 'Fahad', 'Abass']"
      ]
     },
     "execution_count": 88,
     "metadata": {},
     "output_type": "execute_result"
    }
   ],
   "source": [
    "names"
   ]
  },
  {
   "cell_type": "code",
   "execution_count": 90,
   "id": "92b225c6-768c-4b78-a1bd-9e63102336dc",
   "metadata": {},
   "outputs": [
    {
     "data": {
      "text/plain": [
       "[(1, 'Ahmed'), (2, 'Ali'), (3, 'Wael'), (4, 'Fahad'), (5, 'Abass')]"
      ]
     },
     "execution_count": 90,
     "metadata": {},
     "output_type": "execute_result"
    }
   ],
   "source": [
    "result = [(i+1, n) for i, n in enumerate(names)]\n",
    "result"
   ]
  },
  {
   "cell_type": "code",
   "execution_count": 92,
   "id": "b0f0c6de-d19e-44d3-a50a-87bce730923d",
   "metadata": {},
   "outputs": [
    {
     "data": {
      "text/plain": [
       "[(0, ('Ahmed', 27)),\n",
       " (1, ('Ali', 25)),\n",
       " (2, ('Wael', 22)),\n",
       " (3, ('Fahad', 20)),\n",
       " (4, ('Abass', 16))]"
      ]
     },
     "execution_count": 92,
     "metadata": {},
     "output_type": "execute_result"
    }
   ],
   "source": [
    "list(enumerate(zip(names, marks)))"
   ]
  },
  {
   "cell_type": "code",
   "execution_count": 93,
   "id": "7a8671b9-a7fa-4c7e-8d30-d7a250deb608",
   "metadata": {},
   "outputs": [
    {
     "data": {
      "text/plain": [
       "[('Ahmed', (0, 27)),\n",
       " ('Ali', (1, 25)),\n",
       " ('Wael', (2, 22)),\n",
       " ('Fahad', (3, 20)),\n",
       " ('Abass', (4, 16))]"
      ]
     },
     "execution_count": 93,
     "metadata": {},
     "output_type": "execute_result"
    }
   ],
   "source": [
    "list(zip(names,enumerate(marks)))"
   ]
  },
  {
   "cell_type": "markdown",
   "id": "1fa1be7b-8dd6-4059-8136-78e6cf8cd757",
   "metadata": {},
   "source": [
    "## Numpy"
   ]
  },
  {
   "cell_type": "code",
   "execution_count": 95,
   "id": "e7928f1a-0384-4c5c-a476-597141842b54",
   "metadata": {},
   "outputs": [
    {
     "data": {
      "text/plain": [
       "numpy.ndarray"
      ]
     },
     "execution_count": 95,
     "metadata": {},
     "output_type": "execute_result"
    }
   ],
   "source": [
    "import numpy as np\n",
    "\n",
    "marks = np.array([20, 25, 27, 16, 22])\n",
    "type(marks)"
   ]
  },
  {
   "cell_type": "code",
   "execution_count": 100,
   "id": "ad901677-959e-4ed8-bceb-46d83bc47fd0",
   "metadata": {},
   "outputs": [
    {
     "data": {
      "text/plain": [
       "array([18, 23, 25, 14, 20])"
      ]
     },
     "execution_count": 100,
     "metadata": {},
     "output_type": "execute_result"
    }
   ],
   "source": [
    "marks - 2"
   ]
  },
  {
   "cell_type": "code",
   "execution_count": 99,
   "id": "79d91a43-b856-4ccd-ac32-1c4322432571",
   "metadata": {},
   "outputs": [
    {
     "data": {
      "text/plain": [
       "array([30, 40, 44, 22, 34])"
      ]
     },
     "execution_count": 99,
     "metadata": {},
     "output_type": "execute_result"
    }
   ],
   "source": [
    "marks * 2 - 10"
   ]
  },
  {
   "cell_type": "code",
   "execution_count": 101,
   "id": "3bb90ab2-47c2-40cf-b7f6-57548b969599",
   "metadata": {},
   "outputs": [
    {
     "data": {
      "text/plain": [
       "20"
      ]
     },
     "execution_count": 101,
     "metadata": {},
     "output_type": "execute_result"
    }
   ],
   "source": [
    "marks[0]"
   ]
  },
  {
   "cell_type": "code",
   "execution_count": 102,
   "id": "01e68287-f55c-4b83-a9e3-a29f427c84ea",
   "metadata": {},
   "outputs": [
    {
     "data": {
      "text/plain": [
       "22"
      ]
     },
     "execution_count": 102,
     "metadata": {},
     "output_type": "execute_result"
    }
   ],
   "source": [
    "marks[-1]"
   ]
  },
  {
   "cell_type": "code",
   "execution_count": 103,
   "id": "cf7fe9c0-0e4f-4c28-b7a0-e4b81b831537",
   "metadata": {},
   "outputs": [
    {
     "data": {
      "text/plain": [
       "array([20, 25, 27])"
      ]
     },
     "execution_count": 103,
     "metadata": {},
     "output_type": "execute_result"
    }
   ],
   "source": [
    "marks[0:3]"
   ]
  },
  {
   "cell_type": "code",
   "execution_count": 104,
   "id": "8881fc2b-c719-4758-ace6-caccffd9cefb",
   "metadata": {},
   "outputs": [
    {
     "data": {
      "text/plain": [
       "array([25, 27, 22])"
      ]
     },
     "execution_count": 104,
     "metadata": {},
     "output_type": "execute_result"
    }
   ],
   "source": [
    "marks[marks > 20]"
   ]
  },
  {
   "cell_type": "code",
   "execution_count": 106,
   "id": "6c1ee35b-c548-41de-a4d2-2a88c04c068c",
   "metadata": {},
   "outputs": [
    {
     "data": {
      "text/plain": [
       "array([25, 27, 22])"
      ]
     },
     "execution_count": 106,
     "metadata": {},
     "output_type": "execute_result"
    }
   ],
   "source": [
    "mask = marks > 20\n",
    "marks[mask]"
   ]
  },
  {
   "cell_type": "code",
   "execution_count": 107,
   "id": "ba1cad99-00a5-4217-b4fd-0c6d45fa0cd2",
   "metadata": {},
   "outputs": [
    {
     "data": {
      "text/plain": [
       "array([False,  True,  True, False,  True])"
      ]
     },
     "execution_count": 107,
     "metadata": {},
     "output_type": "execute_result"
    }
   ],
   "source": [
    "mask"
   ]
  },
  {
   "cell_type": "code",
   "execution_count": 108,
   "id": "6ac3dabf-5c2f-4e4c-ab1f-b3b4d893c9fc",
   "metadata": {},
   "outputs": [
    {
     "data": {
      "text/plain": [
       "array(['ostentatious', 'house', 'industrial', None, 'dog', 8, 'eat'],\n",
       "      dtype=object)"
      ]
     },
     "execution_count": 108,
     "metadata": {},
     "output_type": "execute_result"
    }
   ],
   "source": [
    "arr_A = np.array(['ostentatious','house','industrial',None,'dog',8,'eat'])\n",
    "arr_A"
   ]
  },
  {
   "cell_type": "code",
   "execution_count": 110,
   "id": "d5984b5a-d952-4b6c-a09c-4782e1ffb57e",
   "metadata": {},
   "outputs": [
    {
     "data": {
      "text/plain": [
       "array([25. , 23. , 10. , 15.8])"
      ]
     },
     "execution_count": 110,
     "metadata": {},
     "output_type": "execute_result"
    }
   ],
   "source": [
    "numbers = np.array([25, 23, 10, 15.8])\n",
    "numbers"
   ]
  },
  {
   "cell_type": "code",
   "execution_count": 111,
   "id": "1a1962aa-eb24-48e8-81f9-26d5180da978",
   "metadata": {},
   "outputs": [
    {
     "data": {
      "text/plain": [
       "dtype('float64')"
      ]
     },
     "execution_count": 111,
     "metadata": {},
     "output_type": "execute_result"
    }
   ],
   "source": [
    "numbers.dtype"
   ]
  },
  {
   "cell_type": "code",
   "execution_count": 112,
   "id": "ad7c1988-177f-41ac-bc6a-41afc700e461",
   "metadata": {},
   "outputs": [
    {
     "data": {
      "text/plain": [
       "array(['25', '23', '10', '15.8', '10'], dtype='<U32')"
      ]
     },
     "execution_count": 112,
     "metadata": {},
     "output_type": "execute_result"
    }
   ],
   "source": [
    "numbers = np.array([25, 23, 10, 15.8, \"10\"])\n",
    "numbers"
   ]
  },
  {
   "cell_type": "code",
   "execution_count": 113,
   "id": "5551cdfb-5f48-4791-a134-9609e5f87049",
   "metadata": {},
   "outputs": [
    {
     "data": {
      "text/plain": [
       "27"
      ]
     },
     "execution_count": 113,
     "metadata": {},
     "output_type": "execute_result"
    }
   ],
   "source": [
    "marks.max()"
   ]
  },
  {
   "cell_type": "code",
   "execution_count": 114,
   "id": "ac0dd2c4-e00b-4fca-98bc-6664e5b0a30b",
   "metadata": {},
   "outputs": [
    {
     "data": {
      "text/plain": [
       "16"
      ]
     },
     "execution_count": 114,
     "metadata": {},
     "output_type": "execute_result"
    }
   ],
   "source": [
    "marks.min()"
   ]
  },
  {
   "cell_type": "code",
   "execution_count": 115,
   "id": "4408828b-f98b-4439-b23f-fcf57a6292bb",
   "metadata": {},
   "outputs": [
    {
     "data": {
      "text/plain": [
       "110"
      ]
     },
     "execution_count": 115,
     "metadata": {},
     "output_type": "execute_result"
    }
   ],
   "source": [
    "marks.sum()"
   ]
  },
  {
   "cell_type": "code",
   "execution_count": 116,
   "id": "62e973b5-cfee-4ef9-82fa-3fb5374b4f31",
   "metadata": {},
   "outputs": [
    {
     "data": {
      "text/plain": [
       "110"
      ]
     },
     "execution_count": 116,
     "metadata": {},
     "output_type": "execute_result"
    }
   ],
   "source": [
    "np.sum(marks)"
   ]
  },
  {
   "cell_type": "code",
   "execution_count": 117,
   "id": "87907b72-c685-405c-9e29-cc75883a80a6",
   "metadata": {},
   "outputs": [
    {
     "data": {
      "text/plain": [
       "22.0"
      ]
     },
     "execution_count": 117,
     "metadata": {},
     "output_type": "execute_result"
    }
   ],
   "source": [
    "np.mean(marks)"
   ]
  },
  {
   "cell_type": "code",
   "execution_count": 118,
   "id": "8cb281fa-8dd5-4ad1-9c3f-1b2e231328a8",
   "metadata": {},
   "outputs": [
    {
     "data": {
      "text/plain": [
       "array([20, 25, 27, 16, 22])"
      ]
     },
     "execution_count": 118,
     "metadata": {},
     "output_type": "execute_result"
    }
   ],
   "source": [
    "marks"
   ]
  },
  {
   "cell_type": "code",
   "execution_count": 119,
   "id": "609cfaca-5d72-4d2b-a9e3-f160abd6d583",
   "metadata": {},
   "outputs": [
    {
     "data": {
      "text/plain": [
       "14.8"
      ]
     },
     "execution_count": 119,
     "metadata": {},
     "output_type": "execute_result"
    }
   ],
   "source": [
    "np.var(marks)"
   ]
  },
  {
   "cell_type": "code",
   "execution_count": 120,
   "id": "6497df08-0de1-4ddc-abbe-cdd9e8827400",
   "metadata": {},
   "outputs": [
    {
     "data": {
      "text/plain": [
       "3.847076812334269"
      ]
     },
     "execution_count": 120,
     "metadata": {},
     "output_type": "execute_result"
    }
   ],
   "source": [
    "np.std(marks)"
   ]
  },
  {
   "cell_type": "code",
   "execution_count": null,
   "id": "4f2f1f30-7ead-4b30-a2f5-9e3130fe4d44",
   "metadata": {},
   "outputs": [],
   "source": []
  }
 ],
 "metadata": {
  "kernelspec": {
   "display_name": "Python 3 (ipykernel)",
   "language": "python",
   "name": "python3"
  },
  "language_info": {
   "codemirror_mode": {
    "name": "ipython",
    "version": 3
   },
   "file_extension": ".py",
   "mimetype": "text/x-python",
   "name": "python",
   "nbconvert_exporter": "python",
   "pygments_lexer": "ipython3",
   "version": "3.9.7"
  }
 },
 "nbformat": 4,
 "nbformat_minor": 5
}
