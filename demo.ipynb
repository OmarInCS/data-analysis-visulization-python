{
 "cells": [
  {
   "cell_type": "markdown",
   "id": "8297899f",
   "metadata": {},
   "source": [
    "# Data Analysis Course\n",
    "## using Python"
   ]
  },
  {
   "cell_type": "code",
   "execution_count": 26,
   "id": "887331d1",
   "metadata": {},
   "outputs": [
    {
     "name": "stdout",
     "output_type": "stream",
     "text": [
      "Welcome to Python\n"
     ]
    }
   ],
   "source": [
    "print(\"Welcome to Python\")"
   ]
  },
  {
   "cell_type": "markdown",
   "id": "21f020dc",
   "metadata": {},
   "source": [
    "[Our Website](https://www.abadnet.com.sa)"
   ]
  },
  {
   "cell_type": "markdown",
   "id": "92aa5f44",
   "metadata": {},
   "source": [
    "![Logo](https://cdn.dribbble.com/users/10882/screenshots/15172621/media/cd2246d5d0f54f9a4316bd4d276764b2.png?compress=1&resize=400x300)"
   ]
  },
  {
   "cell_type": "markdown",
   "id": "69cef206",
   "metadata": {},
   "source": [
    "### Topics:\n",
    "   - Python Revision\n",
    "   - Data **Cleaning**\n",
    "   - Data *Visualization*\n",
    "   - Models\n",
    "   \n",
    "> This is a quote\n",
    "> \n",
    "> more text"
   ]
  },
  {
   "cell_type": "markdown",
   "id": "e8b46af8",
   "metadata": {},
   "source": [
    "## Lists"
   ]
  },
  {
   "cell_type": "code",
   "execution_count": 27,
   "id": "4e6c80ec",
   "metadata": {},
   "outputs": [],
   "source": [
    "marks = [23, 18, 12, 25]"
   ]
  },
  {
   "cell_type": "code",
   "execution_count": 28,
   "id": "66a2761c",
   "metadata": {},
   "outputs": [
    {
     "data": {
      "text/plain": [
       "[23, 18, 12, 25]"
      ]
     },
     "execution_count": 28,
     "metadata": {},
     "output_type": "execute_result"
    }
   ],
   "source": [
    "marks"
   ]
  },
  {
   "cell_type": "code",
   "execution_count": 29,
   "id": "d8c057e6",
   "metadata": {},
   "outputs": [
    {
     "data": {
      "text/plain": [
       "23"
      ]
     },
     "execution_count": 29,
     "metadata": {},
     "output_type": "execute_result"
    }
   ],
   "source": [
    "marks[0]"
   ]
  },
  {
   "cell_type": "code",
   "execution_count": 30,
   "id": "fabb16aa",
   "metadata": {},
   "outputs": [
    {
     "data": {
      "text/plain": [
       "25"
      ]
     },
     "execution_count": 30,
     "metadata": {},
     "output_type": "execute_result"
    }
   ],
   "source": [
    "marks[-1]"
   ]
  },
  {
   "cell_type": "code",
   "execution_count": 31,
   "id": "2836d610",
   "metadata": {},
   "outputs": [
    {
     "data": {
      "text/plain": [
       "4"
      ]
     },
     "execution_count": 31,
     "metadata": {},
     "output_type": "execute_result"
    }
   ],
   "source": [
    "len(marks)"
   ]
  },
  {
   "cell_type": "code",
   "execution_count": 32,
   "id": "529fef11",
   "metadata": {},
   "outputs": [
    {
     "data": {
      "text/plain": [
       "[23, 18, 12, 25, 17]"
      ]
     },
     "execution_count": 32,
     "metadata": {},
     "output_type": "execute_result"
    }
   ],
   "source": [
    "marks.append(17)\n",
    "marks"
   ]
  },
  {
   "cell_type": "code",
   "execution_count": 33,
   "id": "1dc903e1",
   "metadata": {},
   "outputs": [
    {
     "data": {
      "text/plain": [
       "[20, 23, 18, 12, 25, 17]"
      ]
     },
     "execution_count": 33,
     "metadata": {},
     "output_type": "execute_result"
    }
   ],
   "source": [
    "marks.insert(0, 20)\n",
    "marks"
   ]
  },
  {
   "cell_type": "code",
   "execution_count": 34,
   "id": "4bd6f848",
   "metadata": {},
   "outputs": [
    {
     "data": {
      "text/plain": [
       "[20, 23, 18, 12, 25, 17, 18, 25, 23, 14]"
      ]
     },
     "execution_count": 34,
     "metadata": {},
     "output_type": "execute_result"
    }
   ],
   "source": [
    "marks_g2 = [18, 25, 23, 14]\n",
    "marks.extend(marks_g2)\n",
    "marks"
   ]
  },
  {
   "cell_type": "code",
   "execution_count": 35,
   "id": "f63d1654",
   "metadata": {},
   "outputs": [
    {
     "data": {
      "text/plain": [
       "[20, 23, 18, 12, 25, 17, 18, 25, 23, 14, 18, 25, 23, 14]"
      ]
     },
     "execution_count": 35,
     "metadata": {},
     "output_type": "execute_result"
    }
   ],
   "source": [
    "marks += marks_g2\n",
    "marks"
   ]
  },
  {
   "cell_type": "code",
   "execution_count": 36,
   "id": "c3c8974b",
   "metadata": {},
   "outputs": [
    {
     "data": {
      "text/plain": [
       "[20, 23, 18, 12, 25, 17, 18, 25, 23, 18, 25, 23, 14]"
      ]
     },
     "execution_count": 36,
     "metadata": {},
     "output_type": "execute_result"
    }
   ],
   "source": [
    "marks.remove(14)\n",
    "marks"
   ]
  },
  {
   "cell_type": "code",
   "execution_count": 37,
   "id": "7470024d",
   "metadata": {},
   "outputs": [
    {
     "data": {
      "text/plain": [
       "[20, 23, 18, 12, 25, 18, 25, 23, 18, 25, 23, 14]"
      ]
     },
     "execution_count": 37,
     "metadata": {},
     "output_type": "execute_result"
    }
   ],
   "source": [
    "marks.pop(5)\n",
    "marks"
   ]
  },
  {
   "cell_type": "code",
   "execution_count": 39,
   "id": "f77de068",
   "metadata": {},
   "outputs": [
    {
     "data": {
      "text/plain": [
       "[25, 25, 25, 23, 23, 23, 20, 18, 18, 18, 14, 12]"
      ]
     },
     "execution_count": 39,
     "metadata": {},
     "output_type": "execute_result"
    }
   ],
   "source": [
    "marks.sort(reverse=True)\n",
    "marks"
   ]
  },
  {
   "cell_type": "code",
   "execution_count": 42,
   "id": "65164c38",
   "metadata": {},
   "outputs": [
    {
     "data": {
      "text/plain": [
       "[18, 20, 23, 25, 12, 14]"
      ]
     },
     "execution_count": 42,
     "metadata": {},
     "output_type": "execute_result"
    }
   ],
   "source": [
    "marks = list(set(marks))\n",
    "marks"
   ]
  },
  {
   "cell_type": "code",
   "execution_count": 43,
   "id": "d270a128",
   "metadata": {},
   "outputs": [],
   "source": [
    "# marks[0]"
   ]
  },
  {
   "cell_type": "code",
   "execution_count": 45,
   "id": "6e7ab35e",
   "metadata": {},
   "outputs": [
    {
     "data": {
      "text/plain": [
       "[25, 23, 20, 18, 14, 12]"
      ]
     },
     "execution_count": 45,
     "metadata": {},
     "output_type": "execute_result"
    }
   ],
   "source": [
    "marks.sort(reverse=True)\n",
    "marks"
   ]
  },
  {
   "cell_type": "code",
   "execution_count": 46,
   "id": "c0d05367",
   "metadata": {},
   "outputs": [
    {
     "data": {
      "text/plain": [
       "[25, 23, 20]"
      ]
     },
     "execution_count": 46,
     "metadata": {},
     "output_type": "execute_result"
    }
   ],
   "source": [
    "marks[0:3]"
   ]
  },
  {
   "cell_type": "code",
   "execution_count": 47,
   "id": "b49360c7",
   "metadata": {},
   "outputs": [
    {
     "data": {
      "text/plain": [
       "[25, 23, 20]"
      ]
     },
     "execution_count": 47,
     "metadata": {},
     "output_type": "execute_result"
    }
   ],
   "source": [
    "marks[:3]"
   ]
  },
  {
   "cell_type": "code",
   "execution_count": null,
   "id": "54a02026",
   "metadata": {},
   "outputs": [],
   "source": [
    "marks[-3:]"
   ]
  },
  {
   "cell_type": "code",
   "execution_count": 48,
   "id": "ab9c600d",
   "metadata": {},
   "outputs": [],
   "source": [
    "del marks[-1]"
   ]
  },
  {
   "cell_type": "code",
   "execution_count": 49,
   "id": "363046a6",
   "metadata": {},
   "outputs": [
    {
     "data": {
      "text/plain": [
       "[25, 23, 20, 18, 14]"
      ]
     },
     "execution_count": 49,
     "metadata": {},
     "output_type": "execute_result"
    }
   ],
   "source": [
    "marks"
   ]
  },
  {
   "cell_type": "code",
   "execution_count": 51,
   "id": "49da9a9d",
   "metadata": {},
   "outputs": [
    {
     "data": {
      "text/plain": [
       "False"
      ]
     },
     "execution_count": 51,
     "metadata": {},
     "output_type": "execute_result"
    }
   ],
   "source": [
    "13 in marks"
   ]
  },
  {
   "cell_type": "markdown",
   "id": "f7ed348a",
   "metadata": {},
   "source": [
    "## Tuple:"
   ]
  },
  {
   "cell_type": "code",
   "execution_count": 52,
   "id": "9e332803",
   "metadata": {},
   "outputs": [
    {
     "data": {
      "text/plain": [
       "('Sunday', 'Monday', 'Tuesday', 'Wednesday')"
      ]
     },
     "execution_count": 52,
     "metadata": {},
     "output_type": "execute_result"
    }
   ],
   "source": [
    "days = (\"Sunday\", \"Monday\", \"Tuesday\", \"Wednesday\")\n",
    "days"
   ]
  },
  {
   "cell_type": "code",
   "execution_count": 53,
   "id": "c3f206f8",
   "metadata": {},
   "outputs": [
    {
     "data": {
      "text/plain": [
       "'Sunday'"
      ]
     },
     "execution_count": 53,
     "metadata": {},
     "output_type": "execute_result"
    }
   ],
   "source": [
    "days[0]"
   ]
  },
  {
   "cell_type": "code",
   "execution_count": 54,
   "id": "55874297",
   "metadata": {},
   "outputs": [
    {
     "data": {
      "text/plain": [
       "'Wednesday'"
      ]
     },
     "execution_count": 54,
     "metadata": {},
     "output_type": "execute_result"
    }
   ],
   "source": [
    "days[-1]"
   ]
  },
  {
   "cell_type": "code",
   "execution_count": 55,
   "id": "ba1e1c83",
   "metadata": {},
   "outputs": [
    {
     "data": {
      "text/plain": [
       "4"
      ]
     },
     "execution_count": 55,
     "metadata": {},
     "output_type": "execute_result"
    }
   ],
   "source": [
    "len(days)"
   ]
  },
  {
   "cell_type": "code",
   "execution_count": 57,
   "id": "1e5a53c2",
   "metadata": {},
   "outputs": [],
   "source": [
    "# days[0] = \"Sun\"  -- Will not work because tuple is immutable"
   ]
  },
  {
   "cell_type": "code",
   "execution_count": 60,
   "id": "4be7a6bb",
   "metadata": {},
   "outputs": [
    {
     "data": {
      "text/plain": [
       "['Sunday', 'Monday', 'Tuesday', 'Wednesday']"
      ]
     },
     "execution_count": 60,
     "metadata": {},
     "output_type": "execute_result"
    }
   ],
   "source": [
    "list(days)"
   ]
  },
  {
   "cell_type": "markdown",
   "id": "d0f5dd9e",
   "metadata": {},
   "source": [
    "## Dict:"
   ]
  },
  {
   "cell_type": "code",
   "execution_count": 79,
   "id": "776f0f73",
   "metadata": {},
   "outputs": [],
   "source": [
    "countries = {\n",
    "    \"sa\": \"Saudi Arabia\",\n",
    "    \"ae\": \"Arab Emirates\",\n",
    "    \"eg\": \"Egypt\"\n",
    "}"
   ]
  },
  {
   "cell_type": "code",
   "execution_count": 83,
   "id": "c6fc1a5b",
   "metadata": {},
   "outputs": [
    {
     "data": {
      "text/plain": [
       "'Arab Emirates'"
      ]
     },
     "execution_count": 83,
     "metadata": {},
     "output_type": "execute_result"
    }
   ],
   "source": [
    "# countries[\"ae\"]\n",
    "countries.get(\"ae\", \"Not Found\")"
   ]
  },
  {
   "cell_type": "code",
   "execution_count": 84,
   "id": "e30f0a4d",
   "metadata": {},
   "outputs": [
    {
     "data": {
      "text/plain": [
       "{'sa': 'Saudi Arabia', 'ae': 'Arab Emirates', 'eg': 'Egypt'}"
      ]
     },
     "execution_count": 84,
     "metadata": {},
     "output_type": "execute_result"
    }
   ],
   "source": [
    "countries"
   ]
  },
  {
   "cell_type": "code",
   "execution_count": 69,
   "id": "91f318ed",
   "metadata": {},
   "outputs": [
    {
     "data": {
      "text/plain": [
       "['Saudi Arabia', 'Arab Emirates', 'Egypt']"
      ]
     },
     "execution_count": 69,
     "metadata": {},
     "output_type": "execute_result"
    }
   ],
   "source": [
    "list(countries.values())"
   ]
  },
  {
   "cell_type": "code",
   "execution_count": 70,
   "id": "f29d7956",
   "metadata": {},
   "outputs": [
    {
     "data": {
      "text/plain": [
       "['sa', 'ae', 'eg']"
      ]
     },
     "execution_count": 70,
     "metadata": {},
     "output_type": "execute_result"
    }
   ],
   "source": [
    "list(countries.keys())"
   ]
  },
  {
   "cell_type": "code",
   "execution_count": 72,
   "id": "d215558d",
   "metadata": {},
   "outputs": [
    {
     "data": {
      "text/plain": [
       "[('sa', 'Saudi Arabia'), ('ae', 'Arab Emirates'), ('eg', 'Egypt')]"
      ]
     },
     "execution_count": 72,
     "metadata": {},
     "output_type": "execute_result"
    }
   ],
   "source": [
    "items = list(countries.items())\n",
    "items"
   ]
  },
  {
   "cell_type": "code",
   "execution_count": 73,
   "id": "3f21ca66",
   "metadata": {},
   "outputs": [
    {
     "data": {
      "text/plain": [
       "'Saudi Arabia'"
      ]
     },
     "execution_count": 73,
     "metadata": {},
     "output_type": "execute_result"
    }
   ],
   "source": [
    "items[0][1]"
   ]
  },
  {
   "cell_type": "code",
   "execution_count": 85,
   "id": "7999f301",
   "metadata": {},
   "outputs": [
    {
     "data": {
      "text/plain": [
       "{'sa': 'Saudi Arabia', 'ae': 'Arab Emirates', 'eg': 'Republic of Egypt'}"
      ]
     },
     "execution_count": 85,
     "metadata": {},
     "output_type": "execute_result"
    }
   ],
   "source": [
    "# countries[\"eg\"] = \"Republic of Egypt\"\n",
    "countries.update({\"eg\": \"Republic of Egypt\"})\n",
    "countries"
   ]
  },
  {
   "cell_type": "code",
   "execution_count": 87,
   "id": "5d798f2f",
   "metadata": {},
   "outputs": [
    {
     "data": {
      "text/plain": [
       "{'sa': 'Saudi Arabia',\n",
       " 'ae': 'Arab Emirates',\n",
       " 'eg': 'Republic of Egypt',\n",
       " 'pl': 'Palstine'}"
      ]
     },
     "execution_count": 87,
     "metadata": {},
     "output_type": "execute_result"
    }
   ],
   "source": [
    "# countries[\"pl\"] = \"Palstine\"\n",
    "countries.update({\"pl\": \"Palstine\"})\n",
    "countries"
   ]
  },
  {
   "cell_type": "code",
   "execution_count": 88,
   "id": "78479490",
   "metadata": {},
   "outputs": [
    {
     "data": {
      "text/plain": [
       "{'sa': 'Saudi Arabia', 'eg': 'Republic of Egypt', 'pl': 'Palstine'}"
      ]
     },
     "execution_count": 88,
     "metadata": {},
     "output_type": "execute_result"
    }
   ],
   "source": [
    "# del countries[\"ae\"]\n",
    "countries.pop(\"ae\")\n",
    "countries"
   ]
  },
  {
   "cell_type": "code",
   "execution_count": 77,
   "id": "7aa376e9",
   "metadata": {},
   "outputs": [
    {
     "data": {
      "text/plain": [
       "3"
      ]
     },
     "execution_count": 77,
     "metadata": {},
     "output_type": "execute_result"
    }
   ],
   "source": [
    "len(countries)"
   ]
  },
  {
   "cell_type": "code",
   "execution_count": 78,
   "id": "86c6aff1",
   "metadata": {},
   "outputs": [
    {
     "data": {
      "text/plain": [
       "False"
      ]
     },
     "execution_count": 78,
     "metadata": {},
     "output_type": "execute_result"
    }
   ],
   "source": [
    "\"ae\" in countries"
   ]
  },
  {
   "cell_type": "code",
   "execution_count": 89,
   "id": "e7298bd9",
   "metadata": {},
   "outputs": [
    {
     "data": {
      "text/plain": [
       "['sa', 'eg', 'pl']"
      ]
     },
     "execution_count": 89,
     "metadata": {},
     "output_type": "execute_result"
    }
   ],
   "source": [
    "list(countries)"
   ]
  },
  {
   "cell_type": "code",
   "execution_count": 90,
   "id": "93c7b38b",
   "metadata": {},
   "outputs": [
    {
     "data": {
      "text/plain": [
       "['W', 'e', 'l', 'c', 'o', 'm', 'e']"
      ]
     },
     "execution_count": 90,
     "metadata": {},
     "output_type": "execute_result"
    }
   ],
   "source": [
    "list(\"Welcome\")"
   ]
  },
  {
   "cell_type": "markdown",
   "id": "2809ef08",
   "metadata": {},
   "source": [
    "## Loops:"
   ]
  },
  {
   "cell_type": "markdown",
   "id": "0cb537c9",
   "metadata": {},
   "source": [
    "for `new_var` in `iterable`:\n",
    "\n",
    "    >\n",
    "    >\n",
    "    \n",
    "--\n",
    "--\n",
    "    "
   ]
  },
  {
   "cell_type": "code",
   "execution_count": 98,
   "id": "bf56b98b",
   "metadata": {},
   "outputs": [
    {
     "name": "stdout",
     "output_type": "stream",
     "text": [
      "27\n",
      "--------------------\n",
      "25\n",
      "--------------------\n",
      "22\n",
      "--------------------\n",
      "20\n",
      "--------------------\n",
      "16\n",
      "--------------------\n",
      "********************\n"
     ]
    }
   ],
   "source": [
    "for m in marks:\n",
    "    print(m + 2)\n",
    "    print(\"-\" * 20)\n",
    "\n",
    "print(\"*\" * 20)"
   ]
  },
  {
   "cell_type": "code",
   "execution_count": 99,
   "id": "9595fd0f",
   "metadata": {},
   "outputs": [
    {
     "name": "stdout",
     "output_type": "stream",
     "text": [
      "H\n",
      "e\n",
      "l\n",
      "l\n",
      "o\n"
     ]
    }
   ],
   "source": [
    "message = \"Hello\"\n",
    "for c in message:\n",
    "    print(c)\n",
    "    "
   ]
  },
  {
   "cell_type": "code",
   "execution_count": 105,
   "id": "e899f230",
   "metadata": {},
   "outputs": [],
   "source": [
    "mobile = \"0599888921\"\n",
    "for d in mobile:\n",
    "    if not d.isdigit():\n",
    "        print(\"Not a valid mobile\")\n",
    "        break\n"
   ]
  },
  {
   "cell_type": "code",
   "execution_count": 106,
   "id": "ff6d1446",
   "metadata": {},
   "outputs": [
    {
     "data": {
      "text/plain": [
       "True"
      ]
     },
     "execution_count": 106,
     "metadata": {},
     "output_type": "execute_result"
    }
   ],
   "source": [
    "mobile.isdigit()"
   ]
  },
  {
   "cell_type": "code",
   "execution_count": 107,
   "id": "b3abd2fb",
   "metadata": {},
   "outputs": [
    {
     "data": {
      "text/plain": [
       "[1, 2, 3, 4, 5, 6, 7, 8, 9]"
      ]
     },
     "execution_count": 107,
     "metadata": {},
     "output_type": "execute_result"
    }
   ],
   "source": [
    "list(range(1, 10))"
   ]
  },
  {
   "cell_type": "code",
   "execution_count": 108,
   "id": "9919ecea",
   "metadata": {},
   "outputs": [
    {
     "data": {
      "text/plain": [
       "[0, 1, 2, 3, 4, 5, 6, 7, 8, 9]"
      ]
     },
     "execution_count": 108,
     "metadata": {},
     "output_type": "execute_result"
    }
   ],
   "source": [
    "list(range(10))"
   ]
  },
  {
   "cell_type": "code",
   "execution_count": 109,
   "id": "75b8acc3",
   "metadata": {},
   "outputs": [
    {
     "data": {
      "text/plain": [
       "[1, 3, 5, 7, 9]"
      ]
     },
     "execution_count": 109,
     "metadata": {},
     "output_type": "execute_result"
    }
   ],
   "source": [
    "list(range(1, 10, 2))"
   ]
  },
  {
   "cell_type": "code",
   "execution_count": 111,
   "id": "6eec4d07",
   "metadata": {},
   "outputs": [
    {
     "name": "stdout",
     "output_type": "stream",
     "text": [
      "\n",
      "-\n",
      "--\n",
      "---\n",
      "----\n",
      "-----\n",
      "------\n",
      "-------\n",
      "--------\n",
      "---------\n"
     ]
    }
   ],
   "source": [
    "for i in range(10):\n",
    "    print(i * \"-\")\n",
    "#     print(\"Hello world\")\n"
   ]
  },
  {
   "cell_type": "markdown",
   "id": "7a65ebcf",
   "metadata": {},
   "source": [
    "while `bool-expr`:\n",
    "    \n",
    "    --\n",
    "    --\n",
    "    \n",
    " --"
   ]
  },
  {
   "cell_type": "code",
   "execution_count": 119,
   "id": "ad6cad5c",
   "metadata": {},
   "outputs": [
    {
     "name": "stdout",
     "output_type": "stream",
     "text": [
      "1\n",
      "2\n",
      "3\n",
      "4\n",
      "5\n",
      "6\n",
      "7\n",
      "8\n",
      "9\n",
      "10\n"
     ]
    }
   ],
   "source": [
    "x = 1\n",
    "while x <= 10:\n",
    "    print(x)\n",
    "    x += 1\n"
   ]
  },
  {
   "cell_type": "code",
   "execution_count": 113,
   "id": "56feeffc",
   "metadata": {},
   "outputs": [
    {
     "name": "stdout",
     "output_type": "stream",
     "text": [
      "1\n",
      "2\n",
      "3\n",
      "4\n",
      "5\n",
      "6\n",
      "7\n",
      "8\n",
      "9\n",
      "10\n"
     ]
    }
   ],
   "source": [
    "for y in range(1, 11):\n",
    "    print(y)"
   ]
  },
  {
   "cell_type": "code",
   "execution_count": 114,
   "id": "bf5d17eb",
   "metadata": {},
   "outputs": [
    {
     "data": {
      "text/plain": [
       "{'sa': 'Saudi Arabia', 'eg': 'Republic of Egypt', 'pl': 'Palstine'}"
      ]
     },
     "execution_count": 114,
     "metadata": {},
     "output_type": "execute_result"
    }
   ],
   "source": [
    "countries"
   ]
  },
  {
   "cell_type": "code",
   "execution_count": 117,
   "id": "d2a128f2",
   "metadata": {},
   "outputs": [
    {
     "name": "stdout",
     "output_type": "stream",
     "text": [
      "sa => Saudi Arabia\n",
      "eg => Republic of Egypt\n",
      "pl => Palstine\n"
     ]
    }
   ],
   "source": [
    "for k, v in countries.items():\n",
    "    print(k, \"=>\", v)"
   ]
  },
  {
   "cell_type": "markdown",
   "id": "c94a129e",
   "metadata": {},
   "source": [
    "## List & Dict Comprehension"
   ]
  },
  {
   "cell_type": "code",
   "execution_count": 121,
   "id": "222311c8",
   "metadata": {},
   "outputs": [
    {
     "data": {
      "text/plain": [
       "[27, 25, 22, 20, 16]"
      ]
     },
     "execution_count": 121,
     "metadata": {},
     "output_type": "execute_result"
    }
   ],
   "source": [
    "for i in range(len(marks)):\n",
    "    marks[i] += 2\n",
    "    \n",
    "marks"
   ]
  },
  {
   "cell_type": "code",
   "execution_count": 122,
   "id": "0c509f4a",
   "metadata": {},
   "outputs": [
    {
     "data": {
      "text/plain": [
       "[29, 27, 24, 22, 18]"
      ]
     },
     "execution_count": 122,
     "metadata": {},
     "output_type": "execute_result"
    }
   ],
   "source": [
    "new_marks = []\n",
    "for m in marks:\n",
    "    new_marks.append(m + 2)\n",
    "    \n",
    "new_marks"
   ]
  },
  {
   "cell_type": "code",
   "execution_count": 123,
   "id": "ee98f192",
   "metadata": {},
   "outputs": [
    {
     "data": {
      "text/plain": [
       "[27, 25, 22, 20, 16]"
      ]
     },
     "execution_count": 123,
     "metadata": {},
     "output_type": "execute_result"
    }
   ],
   "source": [
    "marks"
   ]
  },
  {
   "cell_type": "code",
   "execution_count": 124,
   "id": "0d9a6b0e",
   "metadata": {},
   "outputs": [
    {
     "data": {
      "text/plain": [
       "[32, 30, 27, 25, 21]"
      ]
     },
     "execution_count": 124,
     "metadata": {},
     "output_type": "execute_result"
    }
   ],
   "source": [
    "new_marks = [m + 5 for m in marks]\n",
    "new_marks"
   ]
  },
  {
   "cell_type": "code",
   "execution_count": 125,
   "id": "1a059fd4",
   "metadata": {},
   "outputs": [
    {
     "data": {
      "text/plain": [
       "['EARL GREY',\n",
       " 'DARJEELING',\n",
       " 'ENGLISH BREAKFAST',\n",
       " 'LAPSANG SOUCHONG',\n",
       " 'OOLONG',\n",
       " 'KOMBUCHA',\n",
       " 'GREEN TEA']"
      ]
     },
     "execution_count": 125,
     "metadata": {},
     "output_type": "execute_result"
    }
   ],
   "source": [
    "\n",
    "teas = ['earl grey', 'darjeeling', 'english breakfast', 'lapsang souchong', \n",
    "        'oolong', 'kombucha', 'green tea']\n",
    "\n",
    "teas = [t.upper() for t in teas]\n",
    "teas"
   ]
  },
  {
   "cell_type": "code",
   "execution_count": 128,
   "id": "49858cad",
   "metadata": {},
   "outputs": [
    {
     "data": {
      "text/plain": [
       "1"
      ]
     },
     "execution_count": 128,
     "metadata": {},
     "output_type": "execute_result"
    }
   ],
   "source": [
    "text = \"Hello\"\n",
    "text.count(\"e\")"
   ]
  },
  {
   "cell_type": "code",
   "execution_count": 130,
   "id": "6619e5f6",
   "metadata": {},
   "outputs": [
    {
     "data": {
      "text/plain": [
       "[9, 10, 17, 16, 6, 8, 9]"
      ]
     },
     "execution_count": 130,
     "metadata": {},
     "output_type": "execute_result"
    }
   ],
   "source": [
    "lengths = [len(t) for t in teas]\n",
    "lengths"
   ]
  },
  {
   "cell_type": "code",
   "execution_count": 131,
   "id": "f5e58424",
   "metadata": {},
   "outputs": [
    {
     "data": {
      "text/plain": [
       "{'S': 'Saudi Arabia', 'A': 'Arab Emirates', 'E': 'Egypt'}"
      ]
     },
     "execution_count": 131,
     "metadata": {},
     "output_type": "execute_result"
    }
   ],
   "source": [
    "countries = [\"Saudi Arabia\", \"Arab Emirates\", \"Egypt\"]\n",
    "countries_d = {c[0]: c for c in countries}\n",
    "countries_d"
   ]
  },
  {
   "cell_type": "code",
   "execution_count": 132,
   "id": "44294e77",
   "metadata": {},
   "outputs": [
    {
     "data": {
      "text/plain": [
       "{'EARL GREY': 9,\n",
       " 'DARJEELING': 10,\n",
       " 'ENGLISH BREAKFAST': 17,\n",
       " 'LAPSANG SOUCHONG': 16,\n",
       " 'OOLONG': 6,\n",
       " 'KOMBUCHA': 8,\n",
       " 'GREEN TEA': 9}"
      ]
     },
     "execution_count": 132,
     "metadata": {},
     "output_type": "execute_result"
    }
   ],
   "source": [
    "lengths = {t: len(t) for t in teas}\n",
    "lengths"
   ]
  },
  {
   "cell_type": "code",
   "execution_count": 133,
   "id": "68f358ea",
   "metadata": {},
   "outputs": [
    {
     "data": {
      "text/plain": [
       "{'EARL GREY': [9, 2],\n",
       " 'DARJEELING': [10, 1],\n",
       " 'ENGLISH BREAKFAST': [17, 2],\n",
       " 'LAPSANG SOUCHONG': [16, 2],\n",
       " 'OOLONG': [6, 1],\n",
       " 'KOMBUCHA': [8, 1],\n",
       " 'GREEN TEA': [9, 2]}"
      ]
     },
     "execution_count": 133,
     "metadata": {},
     "output_type": "execute_result"
    }
   ],
   "source": [
    "lengths = {t: [len(t), t.count(\" \") + 1] for t in teas}\n",
    "lengths"
   ]
  },
  {
   "cell_type": "code",
   "execution_count": 134,
   "id": "f1d3f3a1",
   "metadata": {},
   "outputs": [
    {
     "data": {
      "text/plain": [
       "{'EARL GREY': (9, 2),\n",
       " 'DARJEELING': (10, 1),\n",
       " 'ENGLISH BREAKFAST': (17, 2),\n",
       " 'LAPSANG SOUCHONG': (16, 2),\n",
       " 'OOLONG': (6, 1),\n",
       " 'KOMBUCHA': (8, 1),\n",
       " 'GREEN TEA': (9, 2)}"
      ]
     },
     "execution_count": 134,
     "metadata": {},
     "output_type": "execute_result"
    }
   ],
   "source": [
    "lengths = {t: (len(t), t.count(\" \") + 1) for t in teas}\n",
    "lengths"
   ]
  },
  {
   "cell_type": "code",
   "execution_count": 135,
   "id": "d5000148",
   "metadata": {},
   "outputs": [
    {
     "name": "stdout",
     "output_type": "stream",
     "text": [
      "2\n"
     ]
    }
   ],
   "source": [
    "print(lengths[\"EARL GREY\"][1])"
   ]
  },
  {
   "cell_type": "code",
   "execution_count": 136,
   "id": "8d3c2815",
   "metadata": {},
   "outputs": [
    {
     "name": "stdout",
     "output_type": "stream",
     "text": [
      "(9, 2)\n"
     ]
    }
   ],
   "source": [
    "print(lengths[\"EARL GREY\"])"
   ]
  },
  {
   "cell_type": "code",
   "execution_count": null,
   "id": "8911a9e6",
   "metadata": {},
   "outputs": [],
   "source": []
  }
 ],
 "metadata": {
  "kernelspec": {
   "display_name": "Python 3",
   "language": "python",
   "name": "python3"
  },
  "language_info": {
   "codemirror_mode": {
    "name": "ipython",
    "version": 3
   },
   "file_extension": ".py",
   "mimetype": "text/x-python",
   "name": "python",
   "nbconvert_exporter": "python",
   "pygments_lexer": "ipython3",
   "version": "3.8.5"
  }
 },
 "nbformat": 4,
 "nbformat_minor": 5
}
