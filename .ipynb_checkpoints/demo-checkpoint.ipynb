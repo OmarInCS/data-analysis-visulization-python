{
 "cells": [
  {
   "cell_type": "code",
   "execution_count": 1,
   "id": "c16affce-9f29-440c-b726-b1b767a42d28",
   "metadata": {},
   "outputs": [
    {
     "name": "stdout",
     "output_type": "stream",
     "text": [
      "Hello World\n"
     ]
    }
   ],
   "source": [
    "print(\"Hello World\")"
   ]
  },
  {
   "cell_type": "markdown",
   "id": "6b676a97-64b0-4f74-984f-bb1c8e4d9330",
   "metadata": {},
   "source": [
    "# Python Lists\n",
    "### List methods\n",
    "\n",
    "   - append\n",
    "   - insert\n",
    "   - pop\n",
    "   - clear"
   ]
  },
  {
   "cell_type": "markdown",
   "id": "8ec2b81d-2ca5-4f25-b5c9-314a83624ebc",
   "metadata": {},
   "source": [
    "#### To switch to command mode `Esc + m + Enter`\n",
    "\n",
    "Author: **Omar Karem** <br>\n",
    "Position: *Data Analyst*\n",
    "\n",
    "[More about list](https://developers.google.com/edu/python/lists) <br>\n",
    "![List Image](https://static.javatpoint.com/python/images/lists-indexing-and-splitting.png)"
   ]
  },
  {
   "cell_type": "code",
   "execution_count": 2,
   "id": "e384f463-2f20-4ae1-bc71-7de8cae2221a",
   "metadata": {},
   "outputs": [],
   "source": [
    "marks = [23, 25, 18, 15]"
   ]
  },
  {
   "cell_type": "code",
   "execution_count": 3,
   "id": "63407a9a-9e1c-4df4-bcce-a506d86c0af5",
   "metadata": {},
   "outputs": [
    {
     "data": {
      "text/plain": [
       "[23, 25, 18, 15]"
      ]
     },
     "execution_count": 3,
     "metadata": {},
     "output_type": "execute_result"
    }
   ],
   "source": [
    "marks"
   ]
  },
  {
   "cell_type": "code",
   "execution_count": 4,
   "id": "6a7c6ee7-fee1-4f3a-90e8-20ad42b4a937",
   "metadata": {},
   "outputs": [
    {
     "data": {
      "text/plain": [
       "23"
      ]
     },
     "execution_count": 4,
     "metadata": {},
     "output_type": "execute_result"
    }
   ],
   "source": [
    "marks[0]"
   ]
  },
  {
   "cell_type": "code",
   "execution_count": 5,
   "id": "f41bb163-4167-43f9-a445-2e3de23f742d",
   "metadata": {},
   "outputs": [
    {
     "data": {
      "text/plain": [
       "15"
      ]
     },
     "execution_count": 5,
     "metadata": {},
     "output_type": "execute_result"
    }
   ],
   "source": [
    "marks[-1]"
   ]
  },
  {
   "cell_type": "code",
   "execution_count": 6,
   "id": "766e1b5a-ff6f-4222-8ab6-b74026dbaf8c",
   "metadata": {},
   "outputs": [
    {
     "data": {
      "text/plain": [
       "[23, 25, 18]"
      ]
     },
     "execution_count": 6,
     "metadata": {},
     "output_type": "execute_result"
    }
   ],
   "source": [
    "marks[0:3]"
   ]
  },
  {
   "cell_type": "code",
   "execution_count": 7,
   "id": "4fe1a9bb-f23e-4568-81ed-8c4fc0c4a8e0",
   "metadata": {},
   "outputs": [],
   "source": [
    "marks[-1] = 20"
   ]
  },
  {
   "cell_type": "code",
   "execution_count": 8,
   "id": "1998d3e3-31eb-4601-9946-c80f87856969",
   "metadata": {},
   "outputs": [
    {
     "data": {
      "text/plain": [
       "[23, 25, 18, 20]"
      ]
     },
     "execution_count": 8,
     "metadata": {},
     "output_type": "execute_result"
    }
   ],
   "source": [
    "marks"
   ]
  },
  {
   "cell_type": "code",
   "execution_count": 9,
   "id": "d1342ae0-f1d1-4fa1-b138-9a69e48f5d1f",
   "metadata": {},
   "outputs": [
    {
     "data": {
      "text/plain": [
       "[23, 25, 18, 20, 13]"
      ]
     },
     "execution_count": 9,
     "metadata": {},
     "output_type": "execute_result"
    }
   ],
   "source": [
    "marks.append(13)\n",
    "marks"
   ]
  },
  {
   "cell_type": "code",
   "execution_count": 10,
   "id": "7926d133-ef83-4b04-bf52-b663ed2b52be",
   "metadata": {},
   "outputs": [
    {
     "data": {
      "text/plain": [
       "[18, 23, 25, 18, 20, 13]"
      ]
     },
     "execution_count": 10,
     "metadata": {},
     "output_type": "execute_result"
    }
   ],
   "source": [
    "marks.insert(0, 18)\n",
    "marks"
   ]
  },
  {
   "cell_type": "code",
   "execution_count": 11,
   "id": "cecd5f53-bfb6-42cb-b9c7-f5f271d8ed40",
   "metadata": {},
   "outputs": [
    {
     "data": {
      "text/plain": [
       "2"
      ]
     },
     "execution_count": 11,
     "metadata": {},
     "output_type": "execute_result"
    }
   ],
   "source": [
    "marks.count(18)"
   ]
  },
  {
   "cell_type": "code",
   "execution_count": 12,
   "id": "a42616fa-3ecd-4f08-a91e-e7e25b9d1d52",
   "metadata": {},
   "outputs": [
    {
     "data": {
      "text/plain": [
       "[18, 23, 25, 18, 20, 13, 15, 23, 25]"
      ]
     },
     "execution_count": 12,
     "metadata": {},
     "output_type": "execute_result"
    }
   ],
   "source": [
    "more_marks = [15, 23, 25]\n",
    "marks.extend(more_marks)\n",
    "marks"
   ]
  },
  {
   "cell_type": "code",
   "execution_count": 13,
   "id": "3b9d6ab6-b5b1-451c-9b0a-00678a5972dd",
   "metadata": {},
   "outputs": [
    {
     "data": {
      "text/plain": [
       "[18, 23, 25, 18, 13, 15, 23, 25]"
      ]
     },
     "execution_count": 13,
     "metadata": {},
     "output_type": "execute_result"
    }
   ],
   "source": [
    "marks.remove(20)\n",
    "marks"
   ]
  },
  {
   "cell_type": "code",
   "execution_count": 14,
   "id": "ae343dcd-b0ef-4685-84e8-ef5de03562db",
   "metadata": {},
   "outputs": [
    {
     "data": {
      "text/plain": [
       "[18, 23, 25, 13, 15, 23, 25]"
      ]
     },
     "execution_count": 14,
     "metadata": {},
     "output_type": "execute_result"
    }
   ],
   "source": [
    "marks.pop(3)\n",
    "marks"
   ]
  },
  {
   "cell_type": "code",
   "execution_count": 15,
   "id": "abe41c0e-612d-4026-b761-48f72e473180",
   "metadata": {},
   "outputs": [
    {
     "data": {
      "text/plain": [
       "[13, 15, 18, 23, 23, 25, 25]"
      ]
     },
     "execution_count": 15,
     "metadata": {},
     "output_type": "execute_result"
    }
   ],
   "source": [
    "marks.sort()\n",
    "marks"
   ]
  },
  {
   "cell_type": "code",
   "execution_count": 16,
   "id": "3d2d29ef-d4fc-488a-891e-3e46772aeee8",
   "metadata": {},
   "outputs": [
    {
     "data": {
      "text/plain": [
       "[25, 25, 23, 23, 18, 15, 13]"
      ]
     },
     "execution_count": 16,
     "metadata": {},
     "output_type": "execute_result"
    }
   ],
   "source": [
    "marks.sort(reverse=True)\n",
    "marks"
   ]
  },
  {
   "cell_type": "code",
   "execution_count": 17,
   "id": "3de554cf-0a33-4fb2-955c-7e9afed38f17",
   "metadata": {},
   "outputs": [],
   "source": [
    "x = 5\n",
    "y = x"
   ]
  },
  {
   "cell_type": "code",
   "execution_count": 18,
   "id": "65a1379d-fa8e-4082-a2cd-20b9107044ed",
   "metadata": {},
   "outputs": [
    {
     "data": {
      "text/plain": [
       "5"
      ]
     },
     "execution_count": 18,
     "metadata": {},
     "output_type": "execute_result"
    }
   ],
   "source": [
    "y += 3\n",
    "x"
   ]
  },
  {
   "cell_type": "code",
   "execution_count": 19,
   "id": "1df7dad7-0c2e-44dd-bba0-31bad21e21d6",
   "metadata": {},
   "outputs": [
    {
     "data": {
      "text/plain": [
       "8"
      ]
     },
     "execution_count": 19,
     "metadata": {},
     "output_type": "execute_result"
    }
   ],
   "source": [
    "y"
   ]
  },
  {
   "cell_type": "code",
   "execution_count": 20,
   "id": "d72a5b69-447b-492c-9515-7b546d863098",
   "metadata": {},
   "outputs": [],
   "source": [
    "x = [10, 20, 30]\n",
    "y = x"
   ]
  },
  {
   "cell_type": "code",
   "execution_count": 21,
   "id": "7c44cede-89e3-4198-b042-f08a292843b1",
   "metadata": {},
   "outputs": [
    {
     "data": {
      "text/plain": [
       "[10, 20, 30]"
      ]
     },
     "execution_count": 21,
     "metadata": {},
     "output_type": "execute_result"
    }
   ],
   "source": [
    "x"
   ]
  },
  {
   "cell_type": "code",
   "execution_count": 22,
   "id": "110a1705-c833-427c-a6dc-ed10deda6060",
   "metadata": {},
   "outputs": [
    {
     "data": {
      "text/plain": [
       "[10, 20, 30]"
      ]
     },
     "execution_count": 22,
     "metadata": {},
     "output_type": "execute_result"
    }
   ],
   "source": [
    "y"
   ]
  },
  {
   "cell_type": "code",
   "execution_count": 23,
   "id": "3dcc6407-4d61-40e0-82eb-36cba954288f",
   "metadata": {},
   "outputs": [
    {
     "data": {
      "text/plain": [
       "[13, 20, 30]"
      ]
     },
     "execution_count": 23,
     "metadata": {},
     "output_type": "execute_result"
    }
   ],
   "source": [
    "y[0] += 3\n",
    "y"
   ]
  },
  {
   "cell_type": "code",
   "execution_count": 24,
   "id": "268ba91b-d402-4a96-9c31-2007df1addbc",
   "metadata": {},
   "outputs": [
    {
     "data": {
      "text/plain": [
       "[13, 20, 30]"
      ]
     },
     "execution_count": 24,
     "metadata": {},
     "output_type": "execute_result"
    }
   ],
   "source": [
    "x"
   ]
  },
  {
   "cell_type": "code",
   "execution_count": 25,
   "id": "e4ebb4ed-610e-40c5-bd89-ad5a57f499b9",
   "metadata": {},
   "outputs": [
    {
     "data": {
      "text/plain": [
       "2858233829248"
      ]
     },
     "execution_count": 25,
     "metadata": {},
     "output_type": "execute_result"
    }
   ],
   "source": [
    "id(x)"
   ]
  },
  {
   "cell_type": "code",
   "execution_count": 26,
   "id": "5008b90e-ba46-481e-b3de-d4b2b7071c26",
   "metadata": {},
   "outputs": [
    {
     "data": {
      "text/plain": [
       "2858233829248"
      ]
     },
     "execution_count": 26,
     "metadata": {},
     "output_type": "execute_result"
    }
   ],
   "source": [
    "id(y)"
   ]
  },
  {
   "cell_type": "code",
   "execution_count": 27,
   "id": "e1b4a33c-12ce-406c-b5a8-4de976fe523a",
   "metadata": {},
   "outputs": [
    {
     "data": {
      "text/plain": [
       "[25, 25, 23, 23, 18, 15, 13]"
      ]
     },
     "execution_count": 27,
     "metadata": {},
     "output_type": "execute_result"
    }
   ],
   "source": [
    "marks"
   ]
  },
  {
   "cell_type": "code",
   "execution_count": 28,
   "id": "25b6e90e-dd49-4261-9b2d-0cc2c4fc3c5a",
   "metadata": {},
   "outputs": [
    {
     "data": {
      "text/plain": [
       "True"
      ]
     },
     "execution_count": 28,
     "metadata": {},
     "output_type": "execute_result"
    }
   ],
   "source": [
    "23 in marks"
   ]
  },
  {
   "cell_type": "code",
   "execution_count": 29,
   "id": "f6aeb6d7-4fab-4017-87a0-3e2eb91800f6",
   "metadata": {},
   "outputs": [
    {
     "data": {
      "text/plain": [
       "[25, 25, 23, 18, 15, 13]"
      ]
     },
     "execution_count": 29,
     "metadata": {},
     "output_type": "execute_result"
    }
   ],
   "source": [
    "del marks[2]\n",
    "marks"
   ]
  },
  {
   "cell_type": "code",
   "execution_count": 30,
   "id": "834619e9-830b-4dfb-803d-a84780ecd491",
   "metadata": {},
   "outputs": [
    {
     "data": {
      "text/plain": [
       "[25, 25, 23, 18, 15, 13, 7, 25, 14]"
      ]
     },
     "execution_count": 30,
     "metadata": {},
     "output_type": "execute_result"
    }
   ],
   "source": [
    "marks += [7, 25, 14]\n",
    "marks"
   ]
  },
  {
   "cell_type": "markdown",
   "id": "2b112e0a-e8b4-4320-a44e-830561bc9407",
   "metadata": {},
   "source": [
    "## Tuple"
   ]
  },
  {
   "cell_type": "code",
   "execution_count": 31,
   "id": "aef355e0-de6f-447d-996f-6a581e498b90",
   "metadata": {},
   "outputs": [],
   "source": [
    "marks = (17, 25, 23, 15)"
   ]
  },
  {
   "cell_type": "code",
   "execution_count": 32,
   "id": "d946777a-95fe-4845-aa79-8261a5ff2f58",
   "metadata": {},
   "outputs": [
    {
     "data": {
      "text/plain": [
       "17"
      ]
     },
     "execution_count": 32,
     "metadata": {},
     "output_type": "execute_result"
    }
   ],
   "source": [
    "marks[0]"
   ]
  },
  {
   "cell_type": "code",
   "execution_count": 33,
   "id": "8d36f4b8-6b2f-4dcd-8c5b-0efdc6bc2ced",
   "metadata": {},
   "outputs": [
    {
     "data": {
      "text/plain": [
       "15"
      ]
     },
     "execution_count": 33,
     "metadata": {},
     "output_type": "execute_result"
    }
   ],
   "source": [
    "marks[-1]"
   ]
  },
  {
   "cell_type": "code",
   "execution_count": 35,
   "id": "d89bd182-8217-44a0-bbf5-09f99a36e305",
   "metadata": {},
   "outputs": [],
   "source": [
    "# marks[0] = 21"
   ]
  },
  {
   "cell_type": "code",
   "execution_count": 43,
   "id": "8e173753-782b-4186-b2af-c0986857d453",
   "metadata": {},
   "outputs": [],
   "source": [
    "# marks.append(22)"
   ]
  },
  {
   "cell_type": "markdown",
   "id": "d09f02c6-82da-4ba1-bbd5-ec3e9d63e66a",
   "metadata": {},
   "source": [
    "## Dictionaries"
   ]
  },
  {
   "cell_type": "code",
   "execution_count": 44,
   "id": "1d24c413-162a-4cf7-9500-83ba7b83b40e",
   "metadata": {},
   "outputs": [],
   "source": [
    "countries = [\"Saudi Arabia\", \"Egypt\", \"Arab Emirates\"]"
   ]
  },
  {
   "cell_type": "code",
   "execution_count": 45,
   "id": "cad19ccc-22cb-42a9-a46e-8261c19daaff",
   "metadata": {},
   "outputs": [
    {
     "data": {
      "text/plain": [
       "'Arab Emirates'"
      ]
     },
     "execution_count": 45,
     "metadata": {},
     "output_type": "execute_result"
    }
   ],
   "source": [
    "countries[2]"
   ]
  },
  {
   "cell_type": "code",
   "execution_count": 46,
   "id": "94748093-3bdb-47a4-a926-45c43e29f2e6",
   "metadata": {},
   "outputs": [
    {
     "data": {
      "text/plain": [
       "{'sa': 'Saudi Arabia', 'eg': 'Egypt', 'ae': 'Arab Emirates'}"
      ]
     },
     "execution_count": 46,
     "metadata": {},
     "output_type": "execute_result"
    }
   ],
   "source": [
    "countries = {\"sa\":\"Saudi Arabia\", \"eg\":\"Egypt\", \"ae\":\"Arab Emirates\"}\n",
    "countries"
   ]
  },
  {
   "cell_type": "code",
   "execution_count": 47,
   "id": "f9d98a39-f228-4f39-bb82-11391be82a8f",
   "metadata": {},
   "outputs": [
    {
     "data": {
      "text/plain": [
       "'Arab Emirates'"
      ]
     },
     "execution_count": 47,
     "metadata": {},
     "output_type": "execute_result"
    }
   ],
   "source": [
    "countries[\"ae\"]"
   ]
  },
  {
   "cell_type": "code",
   "execution_count": 48,
   "id": "81e1b2fc-6b90-430a-bfed-1ee3c31b913c",
   "metadata": {},
   "outputs": [
    {
     "data": {
      "text/plain": [
       "{'sa': 'Saudi Arabia', 'eg': 'Republic of Egypt', 'ae': 'Arab Emirates'}"
      ]
     },
     "execution_count": 48,
     "metadata": {},
     "output_type": "execute_result"
    }
   ],
   "source": [
    "countries[\"eg\"] = \"Republic of Egypt\"\n",
    "countries"
   ]
  },
  {
   "cell_type": "code",
   "execution_count": 49,
   "id": "f2f2ec00-c8d6-489d-830b-041cf2bf72d0",
   "metadata": {},
   "outputs": [
    {
     "data": {
      "text/plain": [
       "{'sa': 'Saudi Arabia',\n",
       " 'eg': 'Republic of Egypt',\n",
       " 'ae': 'Arab Emirates',\n",
       " 'pl': 'Palestine'}"
      ]
     },
     "execution_count": 49,
     "metadata": {},
     "output_type": "execute_result"
    }
   ],
   "source": [
    "countries[\"pl\"] = \"Palestine\"\n",
    "countries"
   ]
  },
  {
   "cell_type": "code",
   "execution_count": 50,
   "id": "2cf6509d-db89-45fd-ac35-f05841cc4719",
   "metadata": {},
   "outputs": [
    {
     "data": {
      "text/plain": [
       "{'sa': 'Saudi Arabia', 'eg': 'Republic of Egypt', 'pl': 'Palestine'}"
      ]
     },
     "execution_count": 50,
     "metadata": {},
     "output_type": "execute_result"
    }
   ],
   "source": [
    "del countries[\"ae\"]\n",
    "countries"
   ]
  },
  {
   "cell_type": "code",
   "execution_count": 51,
   "id": "cb8aa92b-bb4c-4a57-bfd1-e1044cce28a2",
   "metadata": {},
   "outputs": [
    {
     "data": {
      "text/plain": [
       "True"
      ]
     },
     "execution_count": 51,
     "metadata": {},
     "output_type": "execute_result"
    }
   ],
   "source": [
    "\"sa\" in countries"
   ]
  },
  {
   "cell_type": "code",
   "execution_count": 52,
   "id": "a5a1e801-42fa-4341-8468-d5ec02e2b26d",
   "metadata": {},
   "outputs": [
    {
     "data": {
      "text/plain": [
       "{'sa': 'Saudi Arabia', 'eg': 'Arab Republic of Egypt', 'pl': 'Palestine'}"
      ]
     },
     "execution_count": 52,
     "metadata": {},
     "output_type": "execute_result"
    }
   ],
   "source": [
    "# edit\n",
    "countries.update({\"eg\": \"Arab Republic of Egypt\"})\n",
    "countries"
   ]
  },
  {
   "cell_type": "code",
   "execution_count": 53,
   "id": "737d10e6-42bc-47b2-ae4f-617856850f9d",
   "metadata": {},
   "outputs": [
    {
     "data": {
      "text/plain": [
       "{'sa': 'Saudi Arabia',\n",
       " 'eg': 'Arab Republic of Egypt',\n",
       " 'pl': 'Palestine',\n",
       " 'kw': 'Kuwait'}"
      ]
     },
     "execution_count": 53,
     "metadata": {},
     "output_type": "execute_result"
    }
   ],
   "source": [
    "# add/append\n",
    "countries.update({\"kw\": \"Kuwait\"})\n",
    "countries"
   ]
  },
  {
   "cell_type": "code",
   "execution_count": 54,
   "id": "2d0edb74-6890-4a47-8053-6dc930c46428",
   "metadata": {},
   "outputs": [
    {
     "data": {
      "text/plain": [
       "{'sa': 'Saudi Arabia', 'eg': 'Arab Republic of Egypt', 'pl': 'Palestine'}"
      ]
     },
     "execution_count": 54,
     "metadata": {},
     "output_type": "execute_result"
    }
   ],
   "source": [
    "countries.pop(\"kw\")\n",
    "countries"
   ]
  },
  {
   "cell_type": "code",
   "execution_count": 55,
   "id": "3c27b695-ee8e-4833-b118-74c79c4de27b",
   "metadata": {},
   "outputs": [
    {
     "data": {
      "text/plain": [
       "{'sa': 'Saudi Arabia', 'pl': 'Palestine'}"
      ]
     },
     "execution_count": 55,
     "metadata": {},
     "output_type": "execute_result"
    }
   ],
   "source": [
    "country = countries.pop(\"eg\")\n",
    "countries"
   ]
  },
  {
   "cell_type": "code",
   "execution_count": 56,
   "id": "eb2583a4-ded8-4656-9bdd-4ce6d516c161",
   "metadata": {},
   "outputs": [
    {
     "data": {
      "text/plain": [
       "'Arab Republic of Egypt'"
      ]
     },
     "execution_count": 56,
     "metadata": {},
     "output_type": "execute_result"
    }
   ],
   "source": [
    "country"
   ]
  },
  {
   "cell_type": "code",
   "execution_count": 57,
   "id": "f9c67cb2-1332-425d-b66c-3e94ad8748c0",
   "metadata": {},
   "outputs": [
    {
     "data": {
      "text/plain": [
       "['sa', 'pl']"
      ]
     },
     "execution_count": 57,
     "metadata": {},
     "output_type": "execute_result"
    }
   ],
   "source": [
    "list(countries.keys())"
   ]
  },
  {
   "cell_type": "code",
   "execution_count": 58,
   "id": "6284a558-cb6a-4d0a-88f1-851186895334",
   "metadata": {},
   "outputs": [
    {
     "data": {
      "text/plain": [
       "['Saudi Arabia', 'Palestine']"
      ]
     },
     "execution_count": 58,
     "metadata": {},
     "output_type": "execute_result"
    }
   ],
   "source": [
    "list(countries.values())"
   ]
  },
  {
   "cell_type": "code",
   "execution_count": 59,
   "id": "5b96c382-c6f9-4dc7-aadc-371876767f71",
   "metadata": {},
   "outputs": [
    {
     "data": {
      "text/plain": [
       "[('sa', 'Saudi Arabia'), ('pl', 'Palestine')]"
      ]
     },
     "execution_count": 59,
     "metadata": {},
     "output_type": "execute_result"
    }
   ],
   "source": [
    "items = list(countries.items())\n",
    "items"
   ]
  },
  {
   "cell_type": "code",
   "execution_count": 60,
   "id": "4eb23bd4-7f5b-4fa7-8ba4-3c99fd006003",
   "metadata": {},
   "outputs": [
    {
     "data": {
      "text/plain": [
       "'Saudi Arabia'"
      ]
     },
     "execution_count": 60,
     "metadata": {},
     "output_type": "execute_result"
    }
   ],
   "source": [
    "items[0][1]"
   ]
  },
  {
   "cell_type": "code",
   "execution_count": 61,
   "id": "449d1cc8-68c2-4ac0-935e-08e62ff2229c",
   "metadata": {},
   "outputs": [
    {
     "data": {
      "text/plain": [
       "2"
      ]
     },
     "execution_count": 61,
     "metadata": {},
     "output_type": "execute_result"
    }
   ],
   "source": [
    "len(countries)"
   ]
  },
  {
   "cell_type": "code",
   "execution_count": 62,
   "id": "1875e843-1260-43d1-a048-0b6e20d823b9",
   "metadata": {},
   "outputs": [
    {
     "data": {
      "text/plain": [
       "'Saudi Arabia'"
      ]
     },
     "execution_count": 62,
     "metadata": {},
     "output_type": "execute_result"
    }
   ],
   "source": [
    "countries.get(\"sa\")"
   ]
  },
  {
   "cell_type": "code",
   "execution_count": 63,
   "id": "397fde8e-5293-496a-b371-b7b7d3a1e7a5",
   "metadata": {},
   "outputs": [
    {
     "ename": "KeyError",
     "evalue": "'eg'",
     "output_type": "error",
     "traceback": [
      "\u001b[1;31m---------------------------------------------------------------------------\u001b[0m",
      "\u001b[1;31mKeyError\u001b[0m                                  Traceback (most recent call last)",
      "Input \u001b[1;32mIn [63]\u001b[0m, in \u001b[0;36m<cell line: 1>\u001b[1;34m()\u001b[0m\n\u001b[1;32m----> 1\u001b[0m \u001b[43mcountries\u001b[49m\u001b[43m[\u001b[49m\u001b[38;5;124;43m\"\u001b[39;49m\u001b[38;5;124;43meg\u001b[39;49m\u001b[38;5;124;43m\"\u001b[39;49m\u001b[43m]\u001b[49m\n",
      "\u001b[1;31mKeyError\u001b[0m: 'eg'"
     ]
    }
   ],
   "source": [
    "countries[\"eg\"]"
   ]
  },
  {
   "cell_type": "code",
   "execution_count": 64,
   "id": "657a2b86-4e51-4356-92bd-eac11d6c609d",
   "metadata": {},
   "outputs": [
    {
     "data": {
      "text/plain": [
       "'Unknown'"
      ]
     },
     "execution_count": 64,
     "metadata": {},
     "output_type": "execute_result"
    }
   ],
   "source": [
    "countries.get(\"eg\", \"Unknown\")"
   ]
  },
  {
   "cell_type": "code",
   "execution_count": 65,
   "id": "0450cf21-0820-4d2f-84fd-280bd34c0244",
   "metadata": {},
   "outputs": [
    {
     "data": {
      "text/plain": [
       "'Saudi Arabia'"
      ]
     },
     "execution_count": 65,
     "metadata": {},
     "output_type": "execute_result"
    }
   ],
   "source": [
    "countries.get(\"sa\", \"Unknown\")"
   ]
  },
  {
   "cell_type": "markdown",
   "id": "908906ec-f610-49ec-8ce6-52a1e3e2b4fe",
   "metadata": {},
   "source": [
    "## Loops"
   ]
  },
  {
   "cell_type": "code",
   "execution_count": 66,
   "id": "f65b05fc-1220-44f4-b410-31ef866d5c21",
   "metadata": {},
   "outputs": [
    {
     "data": {
      "text/plain": [
       "(17, 25, 23, 15)"
      ]
     },
     "execution_count": 66,
     "metadata": {},
     "output_type": "execute_result"
    }
   ],
   "source": [
    "marks\n"
   ]
  },
  {
   "cell_type": "code",
   "execution_count": 67,
   "id": "85db5f90-7e5d-4a09-ac84-b9501931a881",
   "metadata": {},
   "outputs": [
    {
     "name": "stdout",
     "output_type": "stream",
     "text": [
      "17\n",
      "25\n",
      "23\n",
      "15\n"
     ]
    }
   ],
   "source": [
    "for x in marks:\n",
    "    print(x)"
   ]
  },
  {
   "cell_type": "code",
   "execution_count": 68,
   "id": "cafde275-108c-4af4-bc9e-75e78c74a63a",
   "metadata": {},
   "outputs": [
    {
     "data": {
      "text/plain": [
       "{'sa': 'Saudi Arabia', 'pl': 'Palestine', 'eg': 'Egypt'}"
      ]
     },
     "execution_count": 68,
     "metadata": {},
     "output_type": "execute_result"
    }
   ],
   "source": [
    "countries.update({\"eg\": \"Egypt\"})\n",
    "countries"
   ]
  },
  {
   "cell_type": "code",
   "execution_count": 69,
   "id": "2ce3d426-b82a-41f4-891d-e7d1e617c4d8",
   "metadata": {},
   "outputs": [
    {
     "name": "stdout",
     "output_type": "stream",
     "text": [
      "sa\n",
      "pl\n",
      "eg\n"
     ]
    }
   ],
   "source": [
    "for k in countries:\n",
    "    print(k)"
   ]
  },
  {
   "cell_type": "code",
   "execution_count": 70,
   "id": "d07eae99-42b6-4b8d-aa0d-42b4b5066914",
   "metadata": {},
   "outputs": [
    {
     "name": "stdout",
     "output_type": "stream",
     "text": [
      "Saudi Arabia\n",
      "Palestine\n",
      "Egypt\n"
     ]
    }
   ],
   "source": [
    "for k in countries.values():\n",
    "    print(k)"
   ]
  },
  {
   "cell_type": "code",
   "execution_count": 71,
   "id": "2502d644-d218-4747-bb67-1e76c689f6fa",
   "metadata": {},
   "outputs": [
    {
     "name": "stdout",
     "output_type": "stream",
     "text": [
      "('sa', 'Saudi Arabia')\n",
      "('pl', 'Palestine')\n",
      "('eg', 'Egypt')\n"
     ]
    }
   ],
   "source": [
    "for k in countries.items():\n",
    "    print(k)"
   ]
  },
  {
   "cell_type": "code",
   "execution_count": 72,
   "id": "b906ead9-a0aa-45f4-b007-710ad5a0a2d5",
   "metadata": {},
   "outputs": [
    {
     "name": "stdout",
     "output_type": "stream",
     "text": [
      "sa\n",
      "Saudi Arabia\n",
      "-------------------------\n",
      "pl\n",
      "Palestine\n",
      "-------------------------\n",
      "eg\n",
      "Egypt\n",
      "-------------------------\n"
     ]
    }
   ],
   "source": [
    "for k, v in countries.items():\n",
    "    print(k)\n",
    "    print(v)\n",
    "    print(\"-\" * 25)"
   ]
  },
  {
   "cell_type": "code",
   "execution_count": 73,
   "id": "11c98fe9-da2c-409f-9646-c88dae43075e",
   "metadata": {},
   "outputs": [
    {
     "name": "stdout",
     "output_type": "stream",
     "text": [
      "H\n",
      "e\n",
      "l\n",
      "l\n",
      "o\n",
      " \n",
      "W\n",
      "o\n",
      "r\n",
      "l\n",
      "d\n",
      "!\n"
     ]
    }
   ],
   "source": [
    "msg = \"Hello World!\"\n",
    "for c in msg:\n",
    "    print(c)"
   ]
  },
  {
   "cell_type": "code",
   "execution_count": 74,
   "id": "13a5fa33-72e8-447a-9a7f-ce1a2251285e",
   "metadata": {},
   "outputs": [
    {
     "name": "stdout",
     "output_type": "stream",
     "text": [
      "1\n",
      "3\n",
      "5\n",
      "7\n",
      "9\n",
      "11\n",
      "13\n"
     ]
    }
   ],
   "source": [
    "for i in range(1, 15, 2):\n",
    "    print(i)"
   ]
  },
  {
   "cell_type": "code",
   "execution_count": 75,
   "id": "60a64068-e75a-4cb6-a1ef-524612294312",
   "metadata": {},
   "outputs": [
    {
     "name": "stdout",
     "output_type": "stream",
     "text": [
      "1\n",
      "3\n",
      "5\n",
      "7\n",
      "9\n",
      "11\n",
      "13\n"
     ]
    }
   ],
   "source": [
    "x = 1\n",
    "while x < 15:\n",
    "    print(x)\n",
    "    x += 2"
   ]
  },
  {
   "cell_type": "code",
   "execution_count": 76,
   "id": "6db8fa2f-8122-47f7-92c2-e59e322a02c5",
   "metadata": {},
   "outputs": [
    {
     "name": "stdout",
     "output_type": "stream",
     "text": [
      "6\n",
      "6\n",
      "2\n",
      "4\n",
      "18\n",
      "9\n",
      "9\n",
      "6\n",
      "6\n",
      "13\n",
      "7\n",
      "7\n",
      "3\n",
      "20\n",
      "0\n",
      "16\n",
      "5\n",
      "4\n",
      "17\n",
      "6\n",
      "16\n",
      "18\n",
      "0\n",
      "1\n",
      "14\n",
      "5\n",
      "9\n",
      "0\n",
      "18\n",
      "19\n",
      "14\n",
      "1\n",
      "6\n",
      "2\n",
      "2\n",
      "18\n",
      "20\n",
      "8\n"
     ]
    }
   ],
   "source": [
    "from random import randint\n",
    "\n",
    "x = randint(0, 20)\n",
    "while x != 15:\n",
    "    print(x)\n",
    "    x = randint(0, 20)\n"
   ]
  },
  {
   "cell_type": "code",
   "execution_count": 77,
   "id": "3a9fbda4-becf-46c8-bc2c-d0c3cb539e3e",
   "metadata": {},
   "outputs": [
    {
     "data": {
      "text/plain": [
       "15"
      ]
     },
     "execution_count": 77,
     "metadata": {},
     "output_type": "execute_result"
    }
   ],
   "source": [
    "x"
   ]
  },
  {
   "cell_type": "markdown",
   "id": "42e59998-6457-4d3b-bb7a-4cc66e7be422",
   "metadata": {},
   "source": [
    "## Comprehension"
   ]
  },
  {
   "cell_type": "code",
   "execution_count": 78,
   "id": "815cdd22-fe4c-49cf-b30d-07c5bbde1091",
   "metadata": {},
   "outputs": [
    {
     "data": {
      "text/plain": [
       "(17, 25, 23, 15)"
      ]
     },
     "execution_count": 78,
     "metadata": {},
     "output_type": "execute_result"
    }
   ],
   "source": [
    "marks"
   ]
  },
  {
   "cell_type": "code",
   "execution_count": 79,
   "id": "804f34af-a0e7-4ceb-92f6-9058613149a6",
   "metadata": {},
   "outputs": [
    {
     "data": {
      "text/plain": [
       "[19, 27, 25, 17]"
      ]
     },
     "execution_count": 79,
     "metadata": {},
     "output_type": "execute_result"
    }
   ],
   "source": [
    "x = [m + 2 for m in marks]\n",
    "x"
   ]
  },
  {
   "cell_type": "code",
   "execution_count": 80,
   "id": "a56afd51-c9d7-4e9a-803a-871befc264ee",
   "metadata": {},
   "outputs": [],
   "source": [
    "names = [\"Ahmed\", \"Wael\", \"Yasser\", \"Ali\"]"
   ]
  },
  {
   "cell_type": "code",
   "execution_count": 81,
   "id": "d6ffe86c-01cf-4fc5-8e63-7497524bc974",
   "metadata": {},
   "outputs": [
    {
     "data": {
      "text/plain": [
       "[5, 4, 6, 3]"
      ]
     },
     "execution_count": 81,
     "metadata": {},
     "output_type": "execute_result"
    }
   ],
   "source": [
    "lengths = [len(n) for n in names]\n",
    "lengths"
   ]
  },
  {
   "cell_type": "code",
   "execution_count": 82,
   "id": "3ff75cb0-9a2d-4b1e-963d-ee255092e4b9",
   "metadata": {},
   "outputs": [
    {
     "data": {
      "text/plain": [
       "{'Ahmed': 5, 'Wael': 4, 'Yasser': 6, 'Ali': 3}"
      ]
     },
     "execution_count": 82,
     "metadata": {},
     "output_type": "execute_result"
    }
   ],
   "source": [
    "names_lengths = {n:len(n)  for n in names}\n",
    "names_lengths"
   ]
  },
  {
   "cell_type": "code",
   "execution_count": 83,
   "id": "fec0ce16-7e44-4aef-822c-e188d666d510",
   "metadata": {},
   "outputs": [
    {
     "data": {
      "text/plain": [
       "{'AHMED': 5, 'WAEL': 4, 'YASSER': 6, 'ALI': 3}"
      ]
     },
     "execution_count": 83,
     "metadata": {},
     "output_type": "execute_result"
    }
   ],
   "source": [
    "names_lengths = {n.upper():len(n)  for n in names}\n",
    "names_lengths"
   ]
  },
  {
   "cell_type": "markdown",
   "id": "5914e761-3d28-4682-b946-62071bdebbec",
   "metadata": {},
   "source": [
    "### Condition in Comprehension"
   ]
  },
  {
   "cell_type": "code",
   "execution_count": 84,
   "id": "84ecb824-4ff8-440f-94cc-6b6e1654beb8",
   "metadata": {},
   "outputs": [
    {
     "data": {
      "text/plain": [
       "(17, 25, 23, 15)"
      ]
     },
     "execution_count": 84,
     "metadata": {},
     "output_type": "execute_result"
    }
   ],
   "source": [
    "marks"
   ]
  },
  {
   "cell_type": "code",
   "execution_count": 85,
   "id": "5a58a1a1-311a-4879-841d-39febe109ab3",
   "metadata": {},
   "outputs": [
    {
     "data": {
      "text/plain": [
       "[25, 23]"
      ]
     },
     "execution_count": 85,
     "metadata": {},
     "output_type": "execute_result"
    }
   ],
   "source": [
    "top_marks = [m for m in marks if m > 20]\n",
    "top_marks"
   ]
  },
  {
   "cell_type": "code",
   "execution_count": 86,
   "id": "d0f3efc7-3642-4478-add2-64512c512624",
   "metadata": {},
   "outputs": [
    {
     "data": {
      "text/plain": [
       "[17, 25, 23, 15, 5, 18, 7]"
      ]
     },
     "execution_count": 86,
     "metadata": {},
     "output_type": "execute_result"
    }
   ],
   "source": [
    "marks = [17, 25, 23, 15, 5, 18, 7]\n",
    "marks"
   ]
  },
  {
   "cell_type": "code",
   "execution_count": 87,
   "id": "b42a5734-dcd9-42c1-a7d2-e4b6491a3adc",
   "metadata": {},
   "outputs": [
    {
     "data": {
      "text/plain": [
       "[17, 25, 23, 15, 12, 18, 12]"
      ]
     },
     "execution_count": 87,
     "metadata": {},
     "output_type": "execute_result"
    }
   ],
   "source": [
    "new_marks = [m if m > 12 else 12 for m in marks]\n",
    "new_marks"
   ]
  },
  {
   "cell_type": "code",
   "execution_count": 88,
   "id": "9e76569b-5de7-46ad-817a-ff5a57f5b088",
   "metadata": {},
   "outputs": [],
   "source": [
    "salaries = [5000, 15000, 7000, 13000]"
   ]
  },
  {
   "cell_type": "code",
   "execution_count": 89,
   "id": "46edc667-a2c3-43d5-b591-2f8768f98eb7",
   "metadata": {},
   "outputs": [
    {
     "data": {
      "text/plain": [
       "['Normal', 'High', 'Normal', 'High']"
      ]
     },
     "execution_count": 89,
     "metadata": {},
     "output_type": "execute_result"
    }
   ],
   "source": [
    "salary_levels = [\"High\" if s > 12000 else \"Normal\" for s in salaries]\n",
    "salary_levels"
   ]
  },
  {
   "cell_type": "code",
   "execution_count": 90,
   "id": "982a700e-f736-4f50-933b-6bb239182e96",
   "metadata": {},
   "outputs": [
    {
     "data": {
      "text/plain": [
       "[15000, 13000]"
      ]
     },
     "execution_count": 90,
     "metadata": {},
     "output_type": "execute_result"
    }
   ],
   "source": [
    "high_salaries = [s for s in salaries if s > 12000]\n",
    "high_salaries"
   ]
  },
  {
   "cell_type": "code",
   "execution_count": 91,
   "id": "8cdc4c76-4b2d-459a-a8fe-e7f2129b35be",
   "metadata": {},
   "outputs": [
    {
     "data": {
      "text/plain": [
       "[5500, 14500, 7500, 12500]"
      ]
     },
     "execution_count": 91,
     "metadata": {},
     "output_type": "execute_result"
    }
   ],
   "source": [
    "new_salaries = [ s - 500 if s > 10000 else s + 500  for s in salaries]\n",
    "new_salaries"
   ]
  },
  {
   "cell_type": "code",
   "execution_count": 96,
   "id": "95890349-4837-4a0d-acc0-555e67e7e0fa",
   "metadata": {},
   "outputs": [
    {
     "data": {
      "text/plain": [
       "{5000: 'Normal', 15000: 'High', 7000: 'Normal', 13000: 'High'}"
      ]
     },
     "execution_count": 96,
     "metadata": {},
     "output_type": "execute_result"
    }
   ],
   "source": [
    "salary_levels = {s: (\"High\" if s > 12000 else \"Normal\")   for s in salaries}\n",
    "salary_levels"
   ]
  },
  {
   "cell_type": "code",
   "execution_count": 98,
   "id": "b464ff64-f7a6-47a4-9439-97d5a5fb9105",
   "metadata": {},
   "outputs": [
    {
     "data": {
      "text/plain": [
       "{15000: 'High', 13000: 'High'}"
      ]
     },
     "execution_count": 98,
     "metadata": {},
     "output_type": "execute_result"
    }
   ],
   "source": [
    "salary_levels = {s: (\"High\" if s > 12000 else \"Normal\")   \n",
    "                 for s in salaries  \n",
    "                 if s > 10000}\n",
    "salary_levels"
   ]
  },
  {
   "cell_type": "code",
   "execution_count": 99,
   "id": "09b42c77-cf6d-4f51-b9be-bd9c81956b58",
   "metadata": {},
   "outputs": [
    {
     "data": {
      "text/plain": [
       "['Low', 'High', 'Normal', 'High']"
      ]
     },
     "execution_count": 99,
     "metadata": {},
     "output_type": "execute_result"
    }
   ],
   "source": [
    "salary_levels = [\"High\" if s > 12000 else \"Normal\" if s > 6000 else \"Low\" for s in salaries]\n",
    "salary_levels"
   ]
  },
  {
   "cell_type": "code",
   "execution_count": 100,
   "id": "55c9f62b-5b51-453f-9420-ae1f3e954b53",
   "metadata": {},
   "outputs": [],
   "source": [
    "# zip()\n",
    "# enumerate()"
   ]
  },
  {
   "cell_type": "code",
   "execution_count": 101,
   "id": "0f162372-e6d0-4859-9e44-b9391c1b2ab8",
   "metadata": {},
   "outputs": [
    {
     "data": {
      "text/plain": [
       "['Ahmed', 'Wael', 'Yasser', 'Ali']"
      ]
     },
     "execution_count": 101,
     "metadata": {},
     "output_type": "execute_result"
    }
   ],
   "source": [
    "names"
   ]
  },
  {
   "cell_type": "code",
   "execution_count": 102,
   "id": "1c2a97cc-9592-40e5-be87-7b01f20d7c48",
   "metadata": {},
   "outputs": [
    {
     "data": {
      "text/plain": [
       "[5000, 15000, 7000, 13000]"
      ]
     },
     "execution_count": 102,
     "metadata": {},
     "output_type": "execute_result"
    }
   ],
   "source": [
    "salaries"
   ]
  },
  {
   "cell_type": "code",
   "execution_count": 103,
   "id": "ed15a80c-fbc0-45db-8467-1a607d588204",
   "metadata": {},
   "outputs": [
    {
     "data": {
      "text/plain": [
       "[('Ahmed', 5000), ('Wael', 15000), ('Yasser', 7000), ('Ali', 13000)]"
      ]
     },
     "execution_count": 103,
     "metadata": {},
     "output_type": "execute_result"
    }
   ],
   "source": [
    "list(zip(names, salaries))"
   ]
  },
  {
   "cell_type": "code",
   "execution_count": 104,
   "id": "a37f476f-adc3-482f-9370-69acfa1966d7",
   "metadata": {},
   "outputs": [
    {
     "data": {
      "text/plain": [
       "{'Ahmed': 5000, 'Wael': 15000, 'Yasser': 7000, 'Ali': 13000}"
      ]
     },
     "execution_count": 104,
     "metadata": {},
     "output_type": "execute_result"
    }
   ],
   "source": [
    "{ nm:s  for nm, s in zip(names, salaries)}"
   ]
  },
  {
   "cell_type": "code",
   "execution_count": 105,
   "id": "ed32720b-47d7-4487-becb-a4367fbb4cf2",
   "metadata": {},
   "outputs": [
    {
     "data": {
      "text/plain": [
       "[(0, 'Ahmed'), (1, 'Wael'), (2, 'Yasser'), (3, 'Ali')]"
      ]
     },
     "execution_count": 105,
     "metadata": {},
     "output_type": "execute_result"
    }
   ],
   "source": [
    "list(enumerate(names))"
   ]
  },
  {
   "cell_type": "code",
   "execution_count": 106,
   "id": "dc032b6b-19f8-4f12-85bc-dced9808e707",
   "metadata": {},
   "outputs": [
    {
     "data": {
      "text/plain": [
       "{0: 'Ahmed', 1: 'Wael', 2: 'Yasser', 3: 'Ali'}"
      ]
     },
     "execution_count": 106,
     "metadata": {},
     "output_type": "execute_result"
    }
   ],
   "source": [
    "{i:nm  for i, nm in enumerate(names)}"
   ]
  },
  {
   "cell_type": "code",
   "execution_count": 107,
   "id": "3ef07bef-88b3-4e3e-93d3-dc4ef079d78d",
   "metadata": {},
   "outputs": [
    {
     "data": {
      "text/plain": [
       "{'Ahmed': '1, 5000',\n",
       " 'Wael': '2, 15000',\n",
       " 'Yasser': '3, 7000',\n",
       " 'Ali': '4, 13000'}"
      ]
     },
     "execution_count": 107,
     "metadata": {},
     "output_type": "execute_result"
    }
   ],
   "source": [
    "{nm: f\"{i+1}, {s}\"  for nm, (i, s) in zip(names, enumerate(salaries))}"
   ]
  },
  {
   "cell_type": "code",
   "execution_count": null,
   "id": "b543e664-f091-46b3-ab7d-82d07c7b6697",
   "metadata": {},
   "outputs": [],
   "source": []
  }
 ],
 "metadata": {
  "kernelspec": {
   "display_name": "Python 3 (ipykernel)",
   "language": "python",
   "name": "python3"
  },
  "language_info": {
   "codemirror_mode": {
    "name": "ipython",
    "version": 3
   },
   "file_extension": ".py",
   "mimetype": "text/x-python",
   "name": "python",
   "nbconvert_exporter": "python",
   "pygments_lexer": "ipython3",
   "version": "3.9.12"
  }
 },
 "nbformat": 4,
 "nbformat_minor": 5
}
